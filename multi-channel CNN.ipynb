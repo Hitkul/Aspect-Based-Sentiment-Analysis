{
 "cells": [
  {
   "cell_type": "code",
   "execution_count": 100,
   "metadata": {
    "collapsed": true
   },
   "outputs": [],
   "source": [
    "#multi channel CNN for sentiment analysis\n",
    "from nltk.corpus import stopwords\n",
    "from string import punctuation\n",
    "from os import listdir\n",
    "import pandas as pd\n",
    "import numpy as np\n",
    "import re\n",
    "from random import shuffle\n",
    "from keras.preprocessing.text import Tokenizer\n",
    "from keras.preprocessing.sequence import pad_sequences\n",
    "from keras.utils.vis_utils import plot_model\n",
    "from keras.utils import to_categorical\n",
    "from keras.models import Model\n",
    "from keras.layers import Input\n",
    "from keras.layers import Dense\n",
    "from keras.layers import Flatten\n",
    "from keras.layers import Dropout\n",
    "from keras.layers import Embedding\n",
    "from keras.layers.convolutional import Conv1D\n",
    "from keras.layers.convolutional import MaxPooling1D\n",
    "from keras.layers.merge import concatenate\n",
    "import matplotlib.pyplot as plt\n",
    "%matplotlib inline\n",
    "import seaborn as sns\n",
    "from scipy.interpolate import interp1d\n",
    "from sklearn.metrics import mean_squared_error\n",
    "from math import sqrt\n",
    "from gensim.models import KeyedVectors"
   ]
  },
  {
   "cell_type": "code",
   "execution_count": 141,
   "metadata": {
    "collapsed": true
   },
   "outputs": [],
   "source": [
    "#loading data\n",
    "def load_file_to_df(filename):\n",
    "    df = pd.read_csv(filename,delimiter='\\t',header=0)\n",
    "    df = df.drop(['Unnamed: 0', 'id'],axis=1)\n",
    "    df_text = df.iloc[:,:1]\n",
    "    df_score = df.iloc[:,1:]\n",
    "    return df_text,df_score"
   ]
  },
  {
   "cell_type": "code",
   "execution_count": 142,
   "metadata": {
    "collapsed": true
   },
   "outputs": [],
   "source": [
    "headlines_text,headlines_score = load_file_to_df(\"FiQA_train_ABSA_financial_headlines.tsv\")\n",
    "post_text,post_score = load_file_to_df(\"FiQA_train_ABSA_financial_posts.tsv\")\n",
    "text = pd.concat([headlines_text,post_text])\n",
    "score = pd.concat([headlines_score,post_score])"
   ]
  },
  {
   "cell_type": "code",
   "execution_count": 143,
   "metadata": {
    "collapsed": true
   },
   "outputs": [],
   "source": [
    "# score"
   ]
  },
  {
   "cell_type": "code",
   "execution_count": 144,
   "metadata": {
    "collapsed": true
   },
   "outputs": [],
   "source": [
    "# turn a sentence into clean tokens\n",
    "def clean_sentence(sentence):\n",
    "    #remove multiple repeat non num-aplha char !!!!!!!!!-->!\n",
    "    sentence = re.sub(r'(\\W)\\1{2,}', r'\\1', sentence) \n",
    "    #removes alpha char repeating more than twice aaaa->aa\n",
    "    sentence = re.sub(r'(\\w)\\1{2,}', r'\\1\\1', sentence)\n",
    "    #removes links\n",
    "    sentence = re.sub(r'(?P<url>https?://[^\\s]+)', r'', sentence)\n",
    "    # remove @usernames\n",
    "    sentence = re.sub(r\"(?:\\@|https?\\://)\\S+\", \"\", sentence)\n",
    "    #removing stock names to see if it helps\n",
    "    sentence = re.sub(r\"(?:\\$|https?\\://)\\S+\", \"\", sentence)\n",
    "    #remove # from #tags\n",
    "    sentence = sentence.replace('#','')\n",
    "    # split into tokens by white space\n",
    "    tokens = sentence.split()\n",
    "    # remove punctuation from each token\n",
    "    table = str.maketrans('', '', punctuation)\n",
    "    tokens = [w.translate(table) for w in tokens]\n",
    "    # remove remaining tokens that are not alphabetic\n",
    "#     tokens = [word for word in tokens if word.isalpha()]\n",
    "#no removing non alpha words to keep stock names($ZSL)\n",
    "    # filter out stop words\n",
    "    stop_words = set(stopwords.words('english'))\n",
    "    tokens = [w for w in tokens if not w in stop_words]\n",
    "    # filter out short tokens\n",
    "    tokens = [word for word in tokens if len(word) > 1]\n",
    "    return tokens"
   ]
  },
  {
   "cell_type": "code",
   "execution_count": 145,
   "metadata": {
    "collapsed": true
   },
   "outputs": [],
   "source": [
    "# extract sentences out of df and cleaning it\n",
    "sentences = [clean_sentence(x) for x in text['text']]"
   ]
  },
  {
   "cell_type": "code",
   "execution_count": 146,
   "metadata": {
    "collapsed": true
   },
   "outputs": [],
   "source": [
    "#converting real number scores to lables\n",
    "#0-->-ve sentiment 1-->+ve sentiment\n",
    "score_list = [float(x) for x in score['sentiment score']]\n",
    "labels_df = (score>=0).astype(int)\n",
    "labels = [int(x) for x in labels_df['sentiment score']]"
   ]
  },
  {
   "cell_type": "code",
   "execution_count": 147,
   "metadata": {
    "collapsed": true
   },
   "outputs": [],
   "source": [
    "#shuffling dataset\n",
    "numbers = [i for i in range(len(sentences))]\n",
    "shuffle(numbers)\n",
    "# numbers"
   ]
  },
  {
   "cell_type": "code",
   "execution_count": 148,
   "metadata": {},
   "outputs": [
    {
     "name": "stdout",
     "output_type": "stream",
     "text": [
      "3789\n",
      "3789\n",
      "3789\n"
     ]
    }
   ],
   "source": [
    "temp_text = sentences\n",
    "temp_lables = labels\n",
    "temp_score = score_list\n",
    "for i in numbers:\n",
    "    sentences[i] = temp_text[i]\n",
    "    labels[i]=temp_lables[i]\n",
    "    score_list[i] = temp_score[i]\n",
    "print(len(sentences))\n",
    "print(len(labels))\n",
    "print(len(score_list))"
   ]
  },
  {
   "cell_type": "code",
   "execution_count": 149,
   "metadata": {
    "collapsed": true
   },
   "outputs": [],
   "source": [
    "#doing train and test split\n",
    "test_train_split_ratio =0.9\n",
    "trainX,testX = sentences[:int(test_train_split_ratio*len(sentences))],sentences[int(test_train_split_ratio*len(sentences)):]\n",
    "trainY,testY = labels[:int(test_train_split_ratio*len(labels))],labels[int(test_train_split_ratio*len(labels)):]\n",
    "score_trainY,score_testY = score_list[:int(test_train_split_ratio*len(score_list))],score_list[int(test_train_split_ratio*len(score_list)):]"
   ]
  },
  {
   "cell_type": "code",
   "execution_count": 150,
   "metadata": {},
   "outputs": [
    {
     "name": "stdout",
     "output_type": "stream",
     "text": [
      "3410 3410\n",
      "379 379\n",
      "3410 379\n"
     ]
    }
   ],
   "source": [
    "print(len(trainX),len(trainY))\n",
    "print(len(testX),len(testY))\n",
    "print(len(score_trainY),len(score_testY))"
   ]
  },
  {
   "cell_type": "code",
   "execution_count": 151,
   "metadata": {
    "collapsed": true
   },
   "outputs": [],
   "source": [
    "# type(trainY[0])"
   ]
  },
  {
   "cell_type": "code",
   "execution_count": null,
   "metadata": {
    "collapsed": true
   },
   "outputs": [],
   "source": []
  },
  {
   "cell_type": "code",
   "execution_count": 152,
   "metadata": {
    "collapsed": true
   },
   "outputs": [],
   "source": [
    "# fit a tokenizer\n",
    "def create_tokenizer(lines):\n",
    "    tokenizer = Tokenizer()\n",
    "    tokenizer.fit_on_texts(lines)\n",
    "    return tokenizer"
   ]
  },
  {
   "cell_type": "code",
   "execution_count": 153,
   "metadata": {
    "collapsed": true
   },
   "outputs": [],
   "source": [
    "# calculate the maximum document length\n",
    "# def max_length(lines):\n",
    "#     return max([len(s.split()) for s in lines])"
   ]
  },
  {
   "cell_type": "code",
   "execution_count": 154,
   "metadata": {
    "collapsed": true
   },
   "outputs": [],
   "source": [
    "# encode a list of lines\n",
    "def encode_text(tokenizer, lines, length):\n",
    "    # integer encode\n",
    "    encoded = tokenizer.texts_to_sequences(lines)\n",
    "    # pad encoded sequences\n",
    "    padded = pad_sequences(encoded, maxlen=length, padding='post')\n",
    "    return padded"
   ]
  },
  {
   "cell_type": "code",
   "execution_count": 155,
   "metadata": {
    "collapsed": true
   },
   "outputs": [],
   "source": [
    "testLines = [' '.join(x) for x in testX]\n",
    "trainLines = [' '.join(x) for x in trainX]"
   ]
  },
  {
   "cell_type": "code",
   "execution_count": 156,
   "metadata": {
    "collapsed": true
   },
   "outputs": [],
   "source": [
    "# trainY = np.array(trainY)\n",
    "# testY = np.array(testY)\n",
    "# type(trainY[0])"
   ]
  },
  {
   "cell_type": "code",
   "execution_count": 157,
   "metadata": {},
   "outputs": [
    {
     "name": "stdout",
     "output_type": "stream",
     "text": [
      "Max document length: 21\n",
      "Vocabulary size: 6019\n",
      "(3410, 21)\n"
     ]
    }
   ],
   "source": [
    "# create tokenizer\n",
    "tokenizer = create_tokenizer(trainLines)\n",
    "# calculate max document length\n",
    "lengths = [len(s.split()) for s in trainLines]\n",
    "length = max(lengths)\n",
    "# length = max_length(trainLines)\n",
    "# calculate vocabulary size\n",
    "vocab_size = len(tokenizer.word_index) + 1\n",
    "print('Max document length: %d' % length)\n",
    "print('Vocabulary size: %d' % vocab_size)\n",
    "# encode data\n",
    "trainX = encode_text(tokenizer, trainLines, length)\n",
    "print(trainX.shape)"
   ]
  },
  {
   "cell_type": "code",
   "execution_count": 158,
   "metadata": {},
   "outputs": [
    {
     "data": {
      "text/plain": [
       "<matplotlib.axes._subplots.AxesSubplot at 0x7f921607cc50>"
      ]
     },
     "execution_count": 158,
     "metadata": {},
     "output_type": "execute_result"
    },
    {
     "data": {
      "image/png": "[encoded data removed]",
      "text/plain": [
       "<matplotlib.figure.Figure at 0x7f921607ce80>"
      ]
     },
     "metadata": {},
     "output_type": "display_data"
    }
   ],
   "source": [
    "plt.subplots(figsize=(12,10))\n",
    "sns.distplot(lengths)\n",
    "# plt.hist(lengths, normed=True,edgecolor='black')"
   ]
  },
  {
   "cell_type": "code",
   "execution_count": 66,
   "metadata": {
    "collapsed": true
   },
   "outputs": [],
   "source": [
    "#loading GloVe embedding\n",
    "def load_GloVe_embedding(file_name):\n",
    "    embeddings_index = dict()\n",
    "    f = open(file_name)\n",
    "    for line in f:\n",
    "        values = line.split()\n",
    "        word = values[0]\n",
    "        coefs = np.asarray(values[1:], dtype='float32')\n",
    "        embeddings_index[word] = coefs\n",
    "    f.close()\n",
    "    print('Loaded %s word vectors.' % len(embeddings_index))\n",
    "    return embeddings_index"
   ]
  },
  {
   "cell_type": "code",
   "execution_count": 21,
   "metadata": {
    "collapsed": true
   },
   "outputs": [],
   "source": [
    "# create a weight matrix for words in training docs\n",
    "def get_GloVe_embedding_matrix(embeddings_index):\n",
    "    embedding_matrix = np.zeros((vocab_size, 300))\n",
    "    for word, i in tokenizer.word_index.items():\n",
    "        embedding_vector = embeddings_index.get(word)\n",
    "        if embedding_vector is not None:\n",
    "            embedding_matrix[i] = embedding_vector\n",
    "    return embedding_matrix"
   ]
  },
  {
   "cell_type": "code",
   "execution_count": 22,
   "metadata": {},
   "outputs": [
    {
     "name": "stdout",
     "output_type": "stream",
     "text": [
      "Loaded 400000 word vectors.\n"
     ]
    }
   ],
   "source": [
    "embeddings_index_glove = load_GloVe_embedding('glove.6B/glove.6B.300d.txt')\n",
    "embedding_matrix_glove = get_GloVe_embedding_matrix(embeddings_index_glove)\n",
    "# embedding_matrix[100]\n",
    "# e = Embedding(vocab_size, 100, weights=[embedding_matrix], input_length=4, trainable=False)"
   ]
  },
  {
   "cell_type": "code",
   "execution_count": 23,
   "metadata": {
    "collapsed": true
   },
   "outputs": [],
   "source": [
    "#loading Google Word2Vec\n",
    "def load_google_word2vec(file_name):\n",
    "    return KeyedVectors.load_word2vec_format(file_name, binary=True)"
   ]
  },
  {
   "cell_type": "code",
   "execution_count": null,
   "metadata": {
    "collapsed": true
   },
   "outputs": [],
   "source": []
  },
  {
   "cell_type": "code",
   "execution_count": 24,
   "metadata": {
    "collapsed": true
   },
   "outputs": [],
   "source": [
    "def get_word2vec_embedding_matrix(model):\n",
    "    embedding_matrix = np.zeros((vocab_size,300))\n",
    "    for word, i in tokenizer.word_index.items():\n",
    "        try:\n",
    "            embedding_vector = model[word]\n",
    "        except KeyError:\n",
    "            embedding_vector = None\n",
    "        if embedding_vector is not None:\n",
    "            embedding_matrix[i]=embedding_vector\n",
    "    return embedding_matrix"
   ]
  },
  {
   "cell_type": "code",
   "execution_count": 25,
   "metadata": {
    "collapsed": true
   },
   "outputs": [],
   "source": [
    "word2vec_model= load_google_word2vec('GoogleNews-vectors-negative300.bin/GoogleNews-vectors-negative300.bin')\n",
    "embedding_matrix_word2vec = get_word2vec_embedding_matrix(word2vec_model)"
   ]
  },
  {
   "cell_type": "code",
   "execution_count": 159,
   "metadata": {
    "collapsed": true
   },
   "outputs": [],
   "source": [
    "#converting output matrix [-ve,+ve]\n",
    "testY = to_categorical(testY,2)\n",
    "trainY = to_categorical(trainY,2)"
   ]
  },
  {
   "cell_type": "code",
   "execution_count": 160,
   "metadata": {
    "collapsed": true
   },
   "outputs": [],
   "source": [
    "# define the model\n",
    "def define_model(length, vocab_size):\n",
    "    # channel 1\n",
    "    inputs1 = Input(shape=(length,))\n",
    "    embedding1 = Embedding(vocab_size, 300, weights = [embedding_matrix_glove],input_length=length, trainable=False)(inputs1)\n",
    "    conv1 = Conv1D(filters=32, kernel_size=4, activation='relu')(embedding1)\n",
    "    drop1 = Dropout(0.5)(conv1)\n",
    "    pool1 = MaxPooling1D(pool_size=2)(drop1)\n",
    "    flat1 = Flatten()(pool1)\n",
    "    # channel 2\n",
    "    inputs2 = Input(shape=(length,))\n",
    "    embedding2 = Embedding(vocab_size, 300, weights = [embedding_matrix_word2vec],input_length=length,trainable=False)(inputs2)\n",
    "    conv2 = Conv1D(filters=32, kernel_size=6, activation='relu')(embedding2)\n",
    "    drop2 = Dropout(0.5)(conv2)\n",
    "    pool2 = MaxPooling1D(pool_size=2)(drop2)\n",
    "    flat2 = Flatten()(pool2)\n",
    "    # channel 3\n",
    "    inputs3 = Input(shape=(length,))\n",
    "    embedding3 = Embedding(vocab_size, 300)(inputs3)\n",
    "    conv3 = Conv1D(filters=32, kernel_size=8, activation='relu')(embedding3)\n",
    "    drop3 = Dropout(0.5)(conv3)\n",
    "    pool3 = MaxPooling1D(pool_size=2)(drop3)\n",
    "    flat3 = Flatten()(pool3)\n",
    "    # merge\n",
    "    merged = concatenate([flat1, flat2, flat3])\n",
    "    # interpretation\n",
    "    dense1 = Dense(10, activation='relu')(merged)\n",
    "    outputs = Dense(2, activation='softmax')(dense1)\n",
    "    model = Model(inputs=[inputs1, inputs2, inputs3], outputs=outputs)\n",
    "    # compile\n",
    "    model.compile(loss='binary_crossentropy', optimizer='adam', metrics=['accuracy'])\n",
    "    # summarize\n",
    "    print(model.summary())\n",
    "#     plot_model(model, show_shapes=True, to_file='multichannel.png')\n",
    "    return model"
   ]
  },
  {
   "cell_type": "code",
   "execution_count": 161,
   "metadata": {},
   "outputs": [
    {
     "name": "stdout",
     "output_type": "stream",
     "text": [
      "__________________________________________________________________________________________________\n",
      "Layer (type)                    Output Shape         Param #     Connected to                     \n",
      "==================================================================================================\n",
      "input_10 (InputLayer)           (None, 21)           0                                            \n",
      "__________________________________________________________________________________________________\n",
      "input_11 (InputLayer)           (None, 21)           0                                            \n",
      "__________________________________________________________________________________________________\n",
      "input_12 (InputLayer)           (None, 21)           0                                            \n",
      "__________________________________________________________________________________________________\n",
      "embedding_10 (Embedding)        (None, 21, 300)      1805700     input_10[0][0]                   \n",
      "__________________________________________________________________________________________________\n",
      "embedding_11 (Embedding)        (None, 21, 300)      1805700     input_11[0][0]                   \n",
      "__________________________________________________________________________________________________\n",
      "embedding_12 (Embedding)        (None, 21, 300)      1805700     input_12[0][0]                   \n",
      "__________________________________________________________________________________________________\n",
      "conv1d_10 (Conv1D)              (None, 18, 32)       38432       embedding_10[0][0]               \n",
      "__________________________________________________________________________________________________\n",
      "conv1d_11 (Conv1D)              (None, 16, 32)       57632       embedding_11[0][0]               \n",
      "__________________________________________________________________________________________________\n",
      "conv1d_12 (Conv1D)              (None, 14, 32)       76832       embedding_12[0][0]               \n",
      "__________________________________________________________________________________________________\n",
      "dropout_10 (Dropout)            (None, 18, 32)       0           conv1d_10[0][0]                  \n",
      "__________________________________________________________________________________________________\n",
      "dropout_11 (Dropout)            (None, 16, 32)       0           conv1d_11[0][0]                  \n",
      "__________________________________________________________________________________________________\n",
      "dropout_12 (Dropout)            (None, 14, 32)       0           conv1d_12[0][0]                  \n",
      "__________________________________________________________________________________________________\n",
      "max_pooling1d_10 (MaxPooling1D) (None, 9, 32)        0           dropout_10[0][0]                 \n",
      "__________________________________________________________________________________________________\n",
      "max_pooling1d_11 (MaxPooling1D) (None, 8, 32)        0           dropout_11[0][0]                 \n",
      "__________________________________________________________________________________________________\n",
      "max_pooling1d_12 (MaxPooling1D) (None, 7, 32)        0           dropout_12[0][0]                 \n",
      "__________________________________________________________________________________________________\n",
      "flatten_10 (Flatten)            (None, 288)          0           max_pooling1d_10[0][0]           \n",
      "__________________________________________________________________________________________________\n",
      "flatten_11 (Flatten)            (None, 256)          0           max_pooling1d_11[0][0]           \n",
      "__________________________________________________________________________________________________\n",
      "flatten_12 (Flatten)            (None, 224)          0           max_pooling1d_12[0][0]           \n",
      "__________________________________________________________________________________________________\n",
      "concatenate_4 (Concatenate)     (None, 768)          0           flatten_10[0][0]                 \n",
      "                                                                 flatten_11[0][0]                 \n",
      "                                                                 flatten_12[0][0]                 \n",
      "__________________________________________________________________________________________________\n",
      "dense_7 (Dense)                 (None, 10)           7690        concatenate_4[0][0]              \n",
      "__________________________________________________________________________________________________\n",
      "dense_8 (Dense)                 (None, 2)            22          dense_7[0][0]                    \n",
      "==================================================================================================\n",
      "Total params: 5,597,708\n",
      "Trainable params: 1,986,308\n",
      "Non-trainable params: 3,611,400\n",
      "__________________________________________________________________________________________________\n",
      "None\n"
     ]
    }
   ],
   "source": [
    "# define model\n",
    "model = define_model(length, vocab_size)"
   ]
  },
  {
   "cell_type": "code",
   "execution_count": 162,
   "metadata": {},
   "outputs": [
    {
     "name": "stdout",
     "output_type": "stream",
     "text": [
      "Epoch 1/10\n",
      "3410/3410 [==============================] - 8s 2ms/step - loss: 0.5841 - acc: 0.6795\n",
      "Epoch 2/10\n",
      "3410/3410 [==============================] - 8s 2ms/step - loss: 0.2874 - acc: 0.8891\n",
      "Epoch 3/10\n",
      "3410/3410 [==============================] - 7s 2ms/step - loss: 0.1170 - acc: 0.9645\n",
      "Epoch 4/10\n",
      "3410/3410 [==============================] - 7s 2ms/step - loss: 0.0675 - acc: 0.9721\n",
      "Epoch 5/10\n",
      "3410/3410 [==============================] - 7s 2ms/step - loss: 0.0510 - acc: 0.9748\n",
      "Epoch 6/10\n",
      "3410/3410 [==============================] - 7s 2ms/step - loss: 0.0393 - acc: 0.9774\n",
      "Epoch 7/10\n",
      "3410/3410 [==============================] - 7s 2ms/step - loss: 0.0332 - acc: 0.9815\n",
      "Epoch 8/10\n",
      "3410/3410 [==============================] - 7s 2ms/step - loss: 0.0318 - acc: 0.9795\n",
      "Epoch 9/10\n",
      "3410/3410 [==============================] - 7s 2ms/step - loss: 0.0343 - acc: 0.9801\n",
      "Epoch 10/10\n",
      "3410/3410 [==============================] - 7s 2ms/step - loss: 0.0315 - acc: 0.9789\n"
     ]
    }
   ],
   "source": [
    "# fit model\n",
    "history_object = model.fit([trainX,trainX,trainX], trainY,epochs=10, batch_size=16)"
   ]
  },
  {
   "cell_type": "code",
   "execution_count": 163,
   "metadata": {},
   "outputs": [
    {
     "data": {
      "text/plain": [
       "Text(0.5,0,'epoch')"
      ]
     },
     "execution_count": 163,
     "metadata": {},
     "output_type": "execute_result"
    },
    {
     "data": {
      "image/png": "[encoded data removed]",
      "text/plain": [
       "<matplotlib.figure.Figure at 0x7f92153e0550>"
      ]
     },
     "metadata": {},
     "output_type": "display_data"
    }
   ],
   "source": [
    "plt.subplots(figsize=(12,10))\n",
    "plt.plot(history_object.history['acc'])\n",
    "# plt.plot(history_object.history['val_acc'])\n",
    "plt.title('model accuracy')\n",
    "plt.ylabel('accuracy')\n",
    "plt.xlabel('epoch')\n",
    "# plt.legend(['train', 'test'], loc='upper left')"
   ]
  },
  {
   "cell_type": "code",
   "execution_count": 164,
   "metadata": {},
   "outputs": [
    {
     "data": {
      "text/plain": [
       "Text(0.5,0,'epoch')"
      ]
     },
     "execution_count": 164,
     "metadata": {},
     "output_type": "execute_result"
    },
    {
     "data": {
      "image/png": "[encoded data removed]",
      "text/plain": [
       "<matplotlib.figure.Figure at 0x7f9215423518>"
      ]
     },
     "metadata": {},
     "output_type": "display_data"
    }
   ],
   "source": [
    "plt.subplots(figsize=(12,10))\n",
    "plt.plot(history_object.history['loss'])\n",
    "# plt.plot(history_object.history['val_loss'])\n",
    "plt.title('model loss')\n",
    "plt.ylabel('loss')\n",
    "plt.xlabel('epoch')\n",
    "# plt.legend(['train', 'test'], loc='upper left')"
   ]
  },
  {
   "cell_type": "code",
   "execution_count": 165,
   "metadata": {},
   "outputs": [
    {
     "name": "stdout",
     "output_type": "stream",
     "text": [
      "(3410, 21) (379, 21)\n"
     ]
    }
   ],
   "source": [
    "#testing\n",
    "# encode data\n",
    "# trainX = encode_text(tokenizer, trainLines, length)\n",
    "testX = encode_text(tokenizer, testLines, length)\n",
    "print(trainX.shape, testX.shape)"
   ]
  },
  {
   "cell_type": "code",
   "execution_count": 166,
   "metadata": {},
   "outputs": [
    {
     "name": "stdout",
     "output_type": "stream",
     "text": [
      "Train Accuracy: 98.299120\n",
      "Test Accuracy: 83.113456\n"
     ]
    }
   ],
   "source": [
    "# evaluate model on training dataset\n",
    "loss, acc = model.evaluate([trainX,trainX,trainX], trainY, verbose=0)\n",
    "print('Train Accuracy: %f' % (acc*100))\n",
    " \n",
    "# evaluate model on test dataset dataset\n",
    "loss, acc = model.evaluate([testX,testX,testX], testY, verbose=0)\n",
    "print('Test Accuracy: %f' % (acc*100))"
   ]
  },
  {
   "cell_type": "code",
   "execution_count": 167,
   "metadata": {},
   "outputs": [
    {
     "data": {
      "text/plain": [
       "array([[5.69510367e-03, 9.94304836e-01],\n",
       "       [6.70962036e-01, 3.29037994e-01],\n",
       "       [6.89965189e-01, 3.10034811e-01],\n",
       "       [9.97743368e-01, 2.25666072e-03],\n",
       "       [9.99930024e-01, 7.00082965e-05],\n",
       "       [9.88546729e-01, 1.14532048e-02],\n",
       "       [2.83455383e-02, 9.71654475e-01],\n",
       "       [6.51870272e-04, 9.99348104e-01],\n",
       "       [1.49719059e-01, 8.50280941e-01],\n",
       "       [1.19892005e-02, 9.88010824e-01],\n",
       "       [1.97078846e-03, 9.98029172e-01],\n",
       "       [9.71403369e-06, 9.99990344e-01],\n",
       "       [9.53191996e-01, 4.68080565e-02],\n",
       "       [3.11271707e-03, 9.96887267e-01],\n",
       "       [7.19553649e-01, 2.80446351e-01],\n",
       "       [5.08323193e-01, 4.91676778e-01],\n",
       "       [1.65960882e-02, 9.83403862e-01],\n",
       "       [6.61415572e-04, 9.99338567e-01],\n",
       "       [2.51402176e-04, 9.99748647e-01],\n",
       "       [6.05232222e-03, 9.93947625e-01],\n",
       "       [1.78267937e-02, 9.82173204e-01],\n",
       "       [2.79228777e-01, 7.20771253e-01],\n",
       "       [2.10577101e-02, 9.78942275e-01],\n",
       "       [5.89779019e-01, 4.10220981e-01],\n",
       "       [5.02317213e-02, 9.49768305e-01],\n",
       "       [2.17975259e-01, 7.82024741e-01],\n",
       "       [6.61310375e-01, 3.38689715e-01],\n",
       "       [3.32078285e-04, 9.99667883e-01],\n",
       "       [9.83744045e-04, 9.99016285e-01],\n",
       "       [2.63186932e-01, 7.36813068e-01],\n",
       "       [6.71660528e-02, 9.32833910e-01],\n",
       "       [8.50351572e-01, 1.49648413e-01],\n",
       "       [1.41313272e-02, 9.85868692e-01],\n",
       "       [7.27061694e-03, 9.92729366e-01],\n",
       "       [9.80447888e-01, 1.95521563e-02],\n",
       "       [7.14567974e-02, 9.28543210e-01],\n",
       "       [8.79504457e-02, 9.12049592e-01],\n",
       "       [9.99968529e-01, 3.14162862e-05],\n",
       "       [1.41587551e-03, 9.98584151e-01],\n",
       "       [2.62180835e-01, 7.37819135e-01],\n",
       "       [8.02676439e-01, 1.97323501e-01],\n",
       "       [4.75366116e-02, 9.52463388e-01],\n",
       "       [6.55347049e-01, 3.44652951e-01],\n",
       "       [7.22185194e-01, 2.77814776e-01],\n",
       "       [5.61149465e-03, 9.94388521e-01],\n",
       "       [7.73822248e-01, 2.26177767e-01],\n",
       "       [4.83037089e-04, 9.99516964e-01],\n",
       "       [6.67971820e-02, 9.33202863e-01],\n",
       "       [6.34551108e-01, 3.65448892e-01],\n",
       "       [9.99919295e-01, 8.06974640e-05],\n",
       "       [9.89226162e-01, 1.07738189e-02],\n",
       "       [6.27879262e-01, 3.72120768e-01],\n",
       "       [9.99249279e-01, 7.50713807e-04],\n",
       "       [3.47742945e-01, 6.52256966e-01],\n",
       "       [9.44433361e-03, 9.90555704e-01],\n",
       "       [2.88925748e-02, 9.71107483e-01],\n",
       "       [2.18468928e-03, 9.97815251e-01],\n",
       "       [4.00948147e-06, 9.99995947e-01],\n",
       "       [5.76402701e-04, 9.99423623e-01],\n",
       "       [1.22502760e-03, 9.98774946e-01],\n",
       "       [5.97059168e-02, 9.40294087e-01],\n",
       "       [4.91267651e-01, 5.08732319e-01],\n",
       "       [1.15719903e-03, 9.98842716e-01],\n",
       "       [3.39602679e-01, 6.60397351e-01],\n",
       "       [1.21727283e-03, 9.98782694e-01],\n",
       "       [9.99940634e-01, 5.93758523e-05],\n",
       "       [6.63262904e-01, 3.36737067e-01],\n",
       "       [1.92519911e-02, 9.80747938e-01],\n",
       "       [9.99567568e-01, 4.32373985e-04],\n",
       "       [9.99823034e-01, 1.77029346e-04],\n",
       "       [9.99699593e-01, 3.00493732e-04],\n",
       "       [9.99919295e-01, 8.06974640e-05],\n",
       "       [1.15715514e-03, 9.98842835e-01],\n",
       "       [1.13349757e-04, 9.99886632e-01],\n",
       "       [9.49700177e-03, 9.90503073e-01],\n",
       "       [1.61559492e-05, 9.99983788e-01],\n",
       "       [7.10399909e-05, 9.99928951e-01],\n",
       "       [9.99823034e-01, 1.77029346e-04],\n",
       "       [6.61415572e-04, 9.99338567e-01],\n",
       "       [3.91713195e-02, 9.60828662e-01],\n",
       "       [6.34565018e-03, 9.93654370e-01],\n",
       "       [9.87790704e-01, 1.22092478e-02],\n",
       "       [5.67951612e-03, 9.94320512e-01],\n",
       "       [1.11770570e-01, 8.88229489e-01],\n",
       "       [1.67556095e-03, 9.98324454e-01],\n",
       "       [1.03780755e-03, 9.98962164e-01],\n",
       "       [9.99990344e-01, 9.66900461e-06],\n",
       "       [9.98736203e-01, 1.26381998e-03],\n",
       "       [6.24355450e-02, 9.37564492e-01],\n",
       "       [3.15362722e-01, 6.84637368e-01],\n",
       "       [4.81515288e-01, 5.18484712e-01],\n",
       "       [4.22892021e-03, 9.95771110e-01],\n",
       "       [2.33214367e-02, 9.76678550e-01],\n",
       "       [9.99133885e-01, 8.66171613e-04],\n",
       "       [5.78536674e-05, 9.99942183e-01],\n",
       "       [9.01864231e-01, 9.81358066e-02],\n",
       "       [9.99688625e-01, 3.11387936e-04],\n",
       "       [2.34068255e-03, 9.97659326e-01],\n",
       "       [2.34068255e-03, 9.97659326e-01],\n",
       "       [3.08917457e-04, 9.99691129e-01],\n",
       "       [1.23615988e-04, 9.99876380e-01],\n",
       "       [1.23615988e-04, 9.99876380e-01],\n",
       "       [2.77235027e-04, 9.99722779e-01],\n",
       "       [2.86264753e-04, 9.99713719e-01],\n",
       "       [9.99981880e-01, 1.81194828e-05],\n",
       "       [9.99823034e-01, 1.77029346e-04],\n",
       "       [3.47810844e-03, 9.96521950e-01],\n",
       "       [9.09667373e-01, 9.03326422e-02],\n",
       "       [1.43520981e-02, 9.85647917e-01],\n",
       "       [4.92025167e-01, 5.07974923e-01],\n",
       "       [5.08323193e-01, 4.91676778e-01],\n",
       "       [9.99823034e-01, 1.77029346e-04],\n",
       "       [2.14899883e-05, 9.99978542e-01],\n",
       "       [9.99713600e-01, 2.86436494e-04],\n",
       "       [3.87129403e-05, 9.99961257e-01],\n",
       "       [1.09709620e-01, 8.90290380e-01],\n",
       "       [2.05458036e-05, 9.99979496e-01],\n",
       "       [2.05458036e-05, 9.99979496e-01],\n",
       "       [9.71769099e-04, 9.99028206e-01],\n",
       "       [5.06948829e-01, 4.93051201e-01],\n",
       "       [1.23615988e-04, 9.99876380e-01],\n",
       "       [6.05232222e-03, 9.93947625e-01],\n",
       "       [9.99832034e-01, 1.67974533e-04],\n",
       "       [4.00948147e-06, 9.99995947e-01],\n",
       "       [6.71590795e-04, 9.99328494e-01],\n",
       "       [6.71590795e-04, 9.99328494e-01],\n",
       "       [6.19463040e-04, 9.99380469e-01],\n",
       "       [9.98304248e-01, 1.69570465e-03],\n",
       "       [9.96345580e-01, 3.65441688e-03],\n",
       "       [6.20366482e-05, 9.99938011e-01],\n",
       "       [9.99572217e-01, 4.27742925e-04],\n",
       "       [2.67341465e-01, 7.32658505e-01],\n",
       "       [1.03157358e-02, 9.89684224e-01],\n",
       "       [1.85068585e-02, 9.81493175e-01],\n",
       "       [1.56109571e-01, 8.43890488e-01],\n",
       "       [1.43728144e-02, 9.85627174e-01],\n",
       "       [1.13349757e-04, 9.99886632e-01],\n",
       "       [9.48542613e-04, 9.99051392e-01],\n",
       "       [1.14664005e-03, 9.98853326e-01],\n",
       "       [8.71490873e-03, 9.91285026e-01],\n",
       "       [3.69021109e-05, 9.99963045e-01],\n",
       "       [3.76639701e-02, 9.62336004e-01],\n",
       "       [2.85593094e-04, 9.99714434e-01],\n",
       "       [1.38908416e-01, 8.61091614e-01],\n",
       "       [1.69562161e-04, 9.99830365e-01],\n",
       "       [6.59963023e-03, 9.93400335e-01],\n",
       "       [9.99990344e-01, 9.66900461e-06],\n",
       "       [8.44009399e-01, 1.55990511e-01],\n",
       "       [1.73844071e-03, 9.98261631e-01],\n",
       "       [9.99794424e-01, 2.05544551e-04],\n",
       "       [9.99985099e-01, 1.49259358e-05],\n",
       "       [4.90923740e-05, 9.99950886e-01],\n",
       "       [5.57301879e-01, 4.42698091e-01],\n",
       "       [3.05064052e-04, 9.99694943e-01],\n",
       "       [9.99794424e-01, 2.05544551e-04],\n",
       "       [4.85064477e-01, 5.14935493e-01],\n",
       "       [1.93858286e-04, 9.99806106e-01],\n",
       "       [6.61415572e-04, 9.99338567e-01],\n",
       "       [1.89642979e-05, 9.99981046e-01],\n",
       "       [6.35750080e-03, 9.93642449e-01],\n",
       "       [1.89557262e-02, 9.81044233e-01],\n",
       "       [9.99856949e-01, 1.43044614e-04],\n",
       "       [1.41584784e-01, 8.58415246e-01],\n",
       "       [8.39038491e-01, 1.60961509e-01],\n",
       "       [1.89557262e-02, 9.81044233e-01],\n",
       "       [9.83002316e-03, 9.90169942e-01],\n",
       "       [4.09834640e-04, 9.99590218e-01],\n",
       "       [7.22651090e-03, 9.92773473e-01],\n",
       "       [3.87129403e-05, 9.99961257e-01],\n",
       "       [9.99905348e-01, 9.46195723e-05],\n",
       "       [1.42921522e-01, 8.57078493e-01],\n",
       "       [1.23615988e-04, 9.99876380e-01],\n",
       "       [9.99990344e-01, 9.66900461e-06],\n",
       "       [6.30018720e-03, 9.93699789e-01],\n",
       "       [9.99642372e-01, 3.57646786e-04],\n",
       "       [1.19020301e-03, 9.98809814e-01],\n",
       "       [1.23615988e-04, 9.99876380e-01],\n",
       "       [1.23615988e-04, 9.99876380e-01],\n",
       "       [7.10399909e-05, 9.99928951e-01],\n",
       "       [8.55659528e-05, 9.99914408e-01],\n",
       "       [2.19806214e-04, 9.99780238e-01],\n",
       "       [4.77571011e-01, 5.22428989e-01],\n",
       "       [1.93858286e-04, 9.99806106e-01],\n",
       "       [9.99919295e-01, 8.06974640e-05],\n",
       "       [5.71143568e-01, 4.28856403e-01],\n",
       "       [9.99133885e-01, 8.66171613e-04],\n",
       "       [1.19020301e-03, 9.98809814e-01],\n",
       "       [2.69456796e-04, 9.99730527e-01],\n",
       "       [1.74610037e-02, 9.82538939e-01],\n",
       "       [2.05458036e-05, 9.99979496e-01],\n",
       "       [6.05232222e-03, 9.93947625e-01],\n",
       "       [2.05458036e-05, 9.99979496e-01],\n",
       "       [6.41275430e-04, 9.99358714e-01],\n",
       "       [8.15931186e-02, 9.18406844e-01],\n",
       "       [1.33695590e-04, 9.99866247e-01],\n",
       "       [9.99133885e-01, 8.66171613e-04],\n",
       "       [9.99329090e-01, 6.70981419e-04],\n",
       "       [9.99990344e-01, 9.66900461e-06],\n",
       "       [9.99823034e-01, 1.77029346e-04],\n",
       "       [1.61559492e-05, 9.99983788e-01],\n",
       "       [6.61415572e-04, 9.99338567e-01],\n",
       "       [9.99981880e-01, 1.81194828e-05],\n",
       "       [3.52024072e-04, 9.99647975e-01],\n",
       "       [9.96345580e-01, 3.65441688e-03],\n",
       "       [3.04044900e-03, 9.96959567e-01],\n",
       "       [9.99823034e-01, 1.77029346e-04],\n",
       "       [1.11574969e-04, 9.99888420e-01],\n",
       "       [5.45187891e-01, 4.54812109e-01],\n",
       "       [1.39971229e-03, 9.98600304e-01],\n",
       "       [1.11574969e-04, 9.99888420e-01],\n",
       "       [9.99064505e-01, 9.35527089e-04],\n",
       "       [9.99329090e-01, 6.70981419e-04],\n",
       "       [1.56408572e-03, 9.98435915e-01],\n",
       "       [1.61559492e-05, 9.99983788e-01],\n",
       "       [3.80952588e-05, 9.99961853e-01],\n",
       "       [9.96345580e-01, 3.65441688e-03],\n",
       "       [9.99971509e-01, 2.85407677e-05],\n",
       "       [9.99572217e-01, 4.27742925e-04],\n",
       "       [1.29525857e-02, 9.87047434e-01],\n",
       "       [9.99064505e-01, 9.35527089e-04],\n",
       "       [9.99329090e-01, 6.70981419e-04],\n",
       "       [9.99572217e-01, 4.27742925e-04],\n",
       "       [9.99940634e-01, 5.93758523e-05],\n",
       "       [1.19020301e-03, 9.98809814e-01],\n",
       "       [2.93811725e-04, 9.99706209e-01],\n",
       "       [1.07716955e-03, 9.98922765e-01],\n",
       "       [1.66375958e-03, 9.98336256e-01],\n",
       "       [9.99990344e-01, 9.66900461e-06],\n",
       "       [6.71590795e-04, 9.99328494e-01],\n",
       "       [9.99990344e-01, 9.66900461e-06],\n",
       "       [9.99905348e-01, 9.46195723e-05],\n",
       "       [1.79651433e-05, 9.99981999e-01],\n",
       "       [6.51870272e-04, 9.99348104e-01],\n",
       "       [2.88574338e-01, 7.11425662e-01],\n",
       "       [1.85236183e-03, 9.98147607e-01],\n",
       "       [9.99176562e-01, 8.23398586e-04],\n",
       "       [1.07716955e-03, 9.98922765e-01],\n",
       "       [1.14816483e-02, 9.88518298e-01],\n",
       "       [7.07935402e-03, 9.92920697e-01],\n",
       "       [2.04099604e-04, 9.99795973e-01],\n",
       "       [9.71403369e-06, 9.99990344e-01],\n",
       "       [2.57370062e-02, 9.74263012e-01],\n",
       "       [1.33695590e-04, 9.99866247e-01],\n",
       "       [5.26740681e-03, 9.94732618e-01],\n",
       "       [6.05232222e-03, 9.93947625e-01],\n",
       "       [2.75832298e-03, 9.97241735e-01],\n",
       "       [4.72503219e-04, 9.99527454e-01],\n",
       "       [6.89457357e-02, 9.31054235e-01],\n",
       "       [3.37943099e-02, 9.66205657e-01],\n",
       "       [1.52494699e-01, 8.47505331e-01],\n",
       "       [9.46902692e-01, 5.30973561e-02],\n",
       "       [6.54829085e-01, 3.45170885e-01],\n",
       "       [3.19383025e-01, 6.80616975e-01],\n",
       "       [4.91267651e-01, 5.08732319e-01],\n",
       "       [5.28272428e-03, 9.94717300e-01],\n",
       "       [9.99823034e-01, 1.77029346e-04],\n",
       "       [5.94291138e-03, 9.94057059e-01],\n",
       "       [9.98437107e-01, 1.56286417e-03],\n",
       "       [9.00608718e-01, 9.93912891e-02],\n",
       "       [2.12188065e-03, 9.97878194e-01],\n",
       "       [6.71590795e-04, 9.99328494e-01],\n",
       "       [6.20366482e-05, 9.99938011e-01],\n",
       "       [9.99823034e-01, 1.77029346e-04],\n",
       "       [6.71590795e-04, 9.99328494e-01],\n",
       "       [1.61559492e-05, 9.99983788e-01],\n",
       "       [4.37593379e-04, 9.99562442e-01],\n",
       "       [6.34565018e-03, 9.93654370e-01],\n",
       "       [1.11770570e-01, 8.88229489e-01],\n",
       "       [6.05232222e-03, 9.93947625e-01],\n",
       "       [4.22892021e-03, 9.95771110e-01],\n",
       "       [4.72503219e-04, 9.99527454e-01],\n",
       "       [9.99905348e-01, 9.46195723e-05],\n",
       "       [1.56408572e-03, 9.98435915e-01],\n",
       "       [9.99823034e-01, 1.77029346e-04],\n",
       "       [6.01334095e-01, 3.98665965e-01],\n",
       "       [1.25690969e-02, 9.87430930e-01],\n",
       "       [3.35780875e-04, 9.99664187e-01],\n",
       "       [3.15309256e-01, 6.84690773e-01],\n",
       "       [1.43732075e-02, 9.85626876e-01],\n",
       "       [4.85064477e-01, 5.14935493e-01],\n",
       "       [4.83037089e-04, 9.99516964e-01],\n",
       "       [1.11574969e-04, 9.99888420e-01],\n",
       "       [7.16377617e-05, 9.99928355e-01],\n",
       "       [3.05064052e-04, 9.99694943e-01],\n",
       "       [9.39460933e-01, 6.05391264e-02],\n",
       "       [5.02086356e-02, 9.49791431e-01],\n",
       "       [7.42412150e-01, 2.57587820e-01],\n",
       "       [2.17734426e-02, 9.78226602e-01],\n",
       "       [1.91495776e-01, 8.08504224e-01],\n",
       "       [8.35366905e-01, 1.64633095e-01],\n",
       "       [5.40330112e-01, 4.59669888e-01],\n",
       "       [5.02086356e-02, 9.49791431e-01],\n",
       "       [3.04630011e-01, 6.95369959e-01],\n",
       "       [1.69464678e-03, 9.98305321e-01],\n",
       "       [9.93714392e-01, 6.28558174e-03],\n",
       "       [1.43304886e-02, 9.85669494e-01],\n",
       "       [6.71590795e-04, 9.99328494e-01],\n",
       "       [4.85754898e-03, 9.95142460e-01],\n",
       "       [7.05809295e-02, 9.29419100e-01],\n",
       "       [2.42037699e-02, 9.75796223e-01],\n",
       "       [1.07735291e-01, 8.92264724e-01],\n",
       "       [3.66127163e-01, 6.33872867e-01],\n",
       "       [7.11343586e-01, 2.88656414e-01],\n",
       "       [9.98255432e-01, 1.74454995e-03],\n",
       "       [1.24202162e-01, 8.75797808e-01],\n",
       "       [9.71769099e-04, 9.99028206e-01],\n",
       "       [8.75699997e-01, 1.24299973e-01],\n",
       "       [6.28483772e-01, 3.71516258e-01],\n",
       "       [6.51870272e-04, 9.99348104e-01],\n",
       "       [4.48053151e-01, 5.51946819e-01],\n",
       "       [9.12749383e-04, 9.99087214e-01],\n",
       "       [1.96931488e-03, 9.98030722e-01],\n",
       "       [5.49176276e-01, 4.50823754e-01],\n",
       "       [9.71403369e-06, 9.99990344e-01],\n",
       "       [7.87470818e-01, 2.12529153e-01],\n",
       "       [9.98628855e-01, 1.37114257e-03],\n",
       "       [9.99064505e-01, 9.35527089e-04],\n",
       "       [6.64765894e-01, 3.35234016e-01],\n",
       "       [3.37530742e-04, 9.99662519e-01],\n",
       "       [9.99561489e-01, 4.38537565e-04],\n",
       "       [6.05232222e-03, 9.93947625e-01],\n",
       "       [2.60094786e-03, 9.97399092e-01],\n",
       "       [1.93858286e-04, 9.99806106e-01],\n",
       "       [1.07226847e-03, 9.98927772e-01],\n",
       "       [4.72503219e-04, 9.99527454e-01],\n",
       "       [3.32078285e-04, 9.99667883e-01],\n",
       "       [1.96041958e-03, 9.98039663e-01],\n",
       "       [1.10538490e-02, 9.88946140e-01],\n",
       "       [6.06954971e-04, 9.99392986e-01],\n",
       "       [3.33044649e-04, 9.99666929e-01],\n",
       "       [3.94900963e-02, 9.60509837e-01],\n",
       "       [9.64682270e-03, 9.90353167e-01],\n",
       "       [9.99581277e-01, 4.18749580e-04],\n",
       "       [1.60268843e-02, 9.83973145e-01],\n",
       "       [9.97975290e-01, 2.02471553e-03],\n",
       "       [1.52494699e-01, 8.47505331e-01],\n",
       "       [9.99038815e-01, 9.61270649e-04],\n",
       "       [2.90460527e-01, 7.09539413e-01],\n",
       "       [9.99651313e-01, 3.48687026e-04],\n",
       "       [9.95225549e-01, 4.77442006e-03],\n",
       "       [4.82867993e-02, 9.51713264e-01],\n",
       "       [9.99968529e-01, 3.14162862e-05],\n",
       "       [3.11143161e-03, 9.96888578e-01],\n",
       "       [9.53418493e-01, 4.65814620e-02],\n",
       "       [9.46902692e-01, 5.30973561e-02],\n",
       "       [5.38705535e-05, 9.99946117e-01],\n",
       "       [2.06939340e-01, 7.93060660e-01],\n",
       "       [1.48662999e-01, 8.51336956e-01],\n",
       "       [9.69226301e-01, 3.07736658e-02],\n",
       "       [9.99329090e-01, 6.70981419e-04],\n",
       "       [9.85450268e-01, 1.45497667e-02],\n",
       "       [1.91218890e-02, 9.80878115e-01],\n",
       "       [4.83037089e-04, 9.99516964e-01],\n",
       "       [6.67971820e-02, 9.33202863e-01],\n",
       "       [9.56425488e-01, 4.35745195e-02],\n",
       "       [6.82473590e-04, 9.99317527e-01],\n",
       "       [2.49884445e-02, 9.75011528e-01],\n",
       "       [7.21784532e-01, 2.78215438e-01],\n",
       "       [2.18468928e-03, 9.97815251e-01],\n",
       "       [9.99572217e-01, 4.27742925e-04],\n",
       "       [5.76402701e-04, 9.99423623e-01],\n",
       "       [3.38663086e-02, 9.66133654e-01],\n",
       "       [4.91267651e-01, 5.08732319e-01],\n",
       "       [4.83704597e-01, 5.16295373e-01],\n",
       "       [7.37914862e-03, 9.92620826e-01],\n",
       "       [5.91668359e-04, 9.99408364e-01],\n",
       "       [1.43879548e-01, 8.56120467e-01],\n",
       "       [1.66473874e-05, 9.99983311e-01],\n",
       "       [5.67449033e-01, 4.32550997e-01],\n",
       "       [2.60094786e-03, 9.97399092e-01],\n",
       "       [3.21523257e-05, 9.99967813e-01],\n",
       "       [3.90463859e-01, 6.09536111e-01],\n",
       "       [4.40768944e-03, 9.95592296e-01],\n",
       "       [6.20366482e-05, 9.99938011e-01],\n",
       "       [2.05458036e-05, 9.99979496e-01],\n",
       "       [2.05458036e-05, 9.99979496e-01],\n",
       "       [4.00948147e-06, 9.99995947e-01],\n",
       "       [9.72202327e-03, 9.90277946e-01],\n",
       "       [5.08323252e-01, 4.91676748e-01]], dtype=float32)"
      ]
     },
     "execution_count": 167,
     "metadata": {},
     "output_type": "execute_result"
    }
   ],
   "source": [
    "model.predict([testX,testX,testX])"
   ]
  },
  {
   "cell_type": "code",
   "execution_count": 128,
   "metadata": {
    "collapsed": true
   },
   "outputs": [],
   "source": [
    "def get_predicted_prob(data):\n",
    "    return [list(x) for x in model.predict(data)]"
   ]
  },
  {
   "cell_type": "code",
   "execution_count": 129,
   "metadata": {
    "collapsed": true
   },
   "outputs": [],
   "source": [
    "#predicted probabilities\n",
    "train_predicted_prob = get_predicted_prob([trainX,trainX,trainX])\n",
    "test_predicted_prob = get_predicted_prob([testX,testX,testX])\n",
    "# predicted_prob"
   ]
  },
  {
   "cell_type": "code",
   "execution_count": 130,
   "metadata": {
    "collapsed": true
   },
   "outputs": [],
   "source": [
    "# test_predicted_prob"
   ]
  },
  {
   "cell_type": "code",
   "execution_count": 131,
   "metadata": {
    "collapsed": true
   },
   "outputs": [],
   "source": [
    "#predicting lables\n",
    "#if prob>0.5 -->1 else 0\n",
    "# def get_predicted_lables(prob):\n",
    "#     predicted_lables = []\n",
    "#     for x in prob:\n",
    "#         if x>0.5:\n",
    "#             predicted_lables.append(1)\n",
    "#         else:\n",
    "#             predicted_lables.append(0)\n",
    "#     return predicted_lables\n",
    "def get_predicted_lables(prob):\n",
    "    predicted_lables = []\n",
    "    for x in prob:\n",
    "        if x[0]>x[1]:\n",
    "            predicted_lables.append(0)\n",
    "        else:\n",
    "            predicted_lables.append(1)\n",
    "    return predicted_lables"
   ]
  },
  {
   "cell_type": "code",
   "execution_count": 132,
   "metadata": {
    "collapsed": true
   },
   "outputs": [],
   "source": [
    "train_predicted_lables = get_predicted_lables(train_predicted_prob)\n",
    "test_predicted_lables = get_predicted_lables(test_predicted_prob)"
   ]
  },
  {
   "cell_type": "code",
   "execution_count": 133,
   "metadata": {
    "collapsed": true
   },
   "outputs": [],
   "source": [
    "# train_predicted_lables"
   ]
  },
  {
   "cell_type": "code",
   "execution_count": 134,
   "metadata": {
    "collapsed": true
   },
   "outputs": [],
   "source": [
    "# def get_score_from_prob(prob):\n",
    "#     m = interp1d([0,1],[-1,1])\n",
    "#     return [float(m(x)) for x in prob]\n",
    "def get_score_from_prob(prob):\n",
    "    intensity_score = []\n",
    "    for x in prob:\n",
    "        if x[0]>x[1]:\n",
    "            intensity_score.append(-1*x[0])\n",
    "        else:\n",
    "            intensity_score.append(x[1])\n",
    "    return intensity_score"
   ]
  },
  {
   "cell_type": "code",
   "execution_count": 135,
   "metadata": {
    "collapsed": true
   },
   "outputs": [],
   "source": [
    "train_predicted_score = get_score_from_prob(train_predicted_prob)\n",
    "test_predicted_score = get_score_from_prob(test_predicted_prob)"
   ]
  },
  {
   "cell_type": "code",
   "execution_count": 136,
   "metadata": {
    "collapsed": true
   },
   "outputs": [],
   "source": [
    "# test_predicted_score"
   ]
  },
  {
   "cell_type": "code",
   "execution_count": 137,
   "metadata": {},
   "outputs": [
    {
     "name": "stdout",
     "output_type": "stream",
     "text": [
      "(train rmse,test rmse)==(0.6550178741071335, 0.7410768949824543)\n"
     ]
    }
   ],
   "source": [
    "train_rmse = sqrt(mean_squared_error(score_trainY, train_predicted_score))\n",
    "test_rmse = sqrt(mean_squared_error(score_testY, test_predicted_score))\n",
    "print(\"(train rmse,test rmse)==\"+str((train_rmse,test_rmse)))"
   ]
  },
  {
   "cell_type": "code",
   "execution_count": 140,
   "metadata": {
    "collapsed": true
   },
   "outputs": [],
   "source": [
    "# foo = [x for x in zip(score_testY,test_predicted_score)]\n",
    "# foo"
   ]
  },
  {
   "cell_type": "code",
   "execution_count": null,
   "metadata": {
    "collapsed": true
   },
   "outputs": [],
   "source": []
  }
 ],
 "metadata": {
  "kernelspec": {
   "display_name": "Python 3",
   "language": "python",
   "name": "python3"
  },
  "language_info": {
   "codemirror_mode": {
    "name": "ipython",
    "version": 3
   },
   "file_extension": ".py",
   "mimetype": "text/x-python",
   "name": "python",
   "nbconvert_exporter": "python",
   "pygments_lexer": "ipython3",
   "version": "3.6.3"
  }
 },
 "nbformat": 4,
 "nbformat_minor": 2
}
