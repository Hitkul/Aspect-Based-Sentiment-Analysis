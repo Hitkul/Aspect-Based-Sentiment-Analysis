{
 "cells": [
  {
   "cell_type": "code",
   "execution_count": 1,
   "metadata": {
    "collapsed": true
   },
   "outputs": [],
   "source": [
    "#using VADER to calculate sentiment analysis\n",
    "from vaderSentiment.vaderSentiment import SentimentIntensityAnalyzer\n",
    "import pandas as pd\n",
    "import numpy as np"
   ]
  },
  {
   "cell_type": "code",
   "execution_count": 9,
   "metadata": {
    "collapsed": true
   },
   "outputs": [],
   "source": [
    "#loading data\n",
    "headlines = pd.read_csv('FiQA_train_ABSA_financial_headlines.tsv',delimiter='\\t',header=0)\n",
    "posts = pd.read_csv('FiQA_train_ABSA_financial_posts.tsv',delimiter='\\t',header=0)\n",
    "posts = posts.drop(['Unnamed: 0', 'id'],axis=1)\n",
    "headlines = headlines.drop(['Unnamed: 0', 'id'],axis=1)\n",
    "posts_text = posts.iloc[:,:1]\n",
    "posts_score = posts.iloc[:,1:]\n",
    "headlines_text = headlines.iloc[:,:1]\n",
    "headlines_score = headlines.iloc[:,1:]\n",
    "text_frames = [posts_text,headlines_text]\n",
    "score_frames = [posts_score,headlines_score]\n",
    "text = pd.concat(text_frames)\n",
    "score = pd.concat(score_frames)"
   ]
  },
  {
   "cell_type": "code",
   "execution_count": 15,
   "metadata": {},
   "outputs": [],
   "source": [
    "sentences = []\n",
    "intensity = []\n",
    "for sent in text.values.tolist():\n",
    "    sentences.append(sent[0])\n",
    "for scr in score.values.tolist():\n",
    "    intensity.append(scr[0])"
   ]
  },
  {
   "cell_type": "code",
   "execution_count": 16,
   "metadata": {
    "collapsed": true
   },
   "outputs": [],
   "source": [
    "analyser = SentimentIntensityAnalyzer()\n",
    "def print_sentiment_scores(sentence):\n",
    "    snt = analyser.polarity_scores(sentence)\n",
    "    print(\"{:-<40} {}\".format(sentence, str(snt)))"
   ]
  },
  {
   "cell_type": "code",
   "execution_count": 18,
   "metadata": {},
   "outputs": [
    {
     "name": "stdout",
     "output_type": "stream",
     "text": [
      "$ZSL looking very weak, could be a good short setup. {'neg': 0.244, 'neu': 0.535, 'pos': 0.221, 'compound': -0.0754}\n"
     ]
    }
   ],
   "source": [
    "print_sentiment_scores(sentences[0])"
   ]
  },
  {
   "cell_type": "code",
   "execution_count": null,
   "metadata": {
    "collapsed": true
   },
   "outputs": [],
   "source": []
  }
 ],
 "metadata": {
  "kernelspec": {
   "display_name": "Python 3",
   "language": "python",
   "name": "python3"
  },
  "language_info": {
   "codemirror_mode": {
    "name": "ipython",
    "version": 3
   },
   "file_extension": ".py",
   "mimetype": "text/x-python",
   "name": "python",
   "nbconvert_exporter": "python",
   "pygments_lexer": "ipython3",
   "version": "3.6.3"
  }
 },
 "nbformat": 4,
 "nbformat_minor": 2
}
