{
 "cells": [
  {
   "cell_type": "code",
   "execution_count": 2,
   "metadata": {
    "collapsed": true
   },
   "outputs": [],
   "source": [
    "#using VADER to calculate sentiment analysis\n",
    "from vaderSentiment.vaderSentiment import SentimentIntensityAnalyzer\n",
    "import pandas as pd\n",
    "import numpy as np"
   ]
  },
  {
   "cell_type": "code",
   "execution_count": 17,
   "metadata": {
    "collapsed": true
   },
   "outputs": [],
   "source": [
    "#loading data\n",
    "headlines = pd.read_csv('FiQA_train_ABSA_financial_headlines.tsv',delimiter='\\t',header=0)\n",
    "posts = pd.read_csv('FiQA_train_ABSA_financial_posts.tsv',delimiter='\\t',header=0)\n",
    "posts = posts.drop(['Unnamed: 0', 'id'],axis=1)\n",
    "headlines = headlines.drop(['Unnamed: 0', 'id'],axis=1)\n",
    "posts_text = posts.iloc[:,:1]\n",
    "posts_score = posts.iloc[:,1:]\n",
    "headlines_text = headlines.iloc[:,:1]\n",
    "headlines_score = headlines.iloc[:,1:]\n",
    "text_frames = [posts_text,headlines_text]\n",
    "score_frames = [posts_score,headlines_score]\n",
    "text = pd.concat(text_frames)\n",
    "score = pd.concat(score_frames)"
   ]
  },
  {
   "cell_type": "code",
   "execution_count": 18,
   "metadata": {
    "collapsed": true
   },
   "outputs": [],
   "source": [
    "sentences = []\n",
    "intensity = []\n",
    "for sent in text.values.tolist():\n",
    "    sentences.append(sent[0])\n",
    "for scr in score.values.tolist():\n",
    "    intensity.append(scr[0])"
   ]
  },
  {
   "cell_type": "code",
   "execution_count": 19,
   "metadata": {
    "collapsed": true
   },
   "outputs": [],
   "source": [
    "analyser = SentimentIntensityAnalyzer()"
   ]
  },
  {
   "cell_type": "code",
   "execution_count": 20,
   "metadata": {},
   "outputs": [],
   "source": [
    "prediction=[]\n",
    "for sent in sentences:\n",
    "    prediction.append(analyser.polarity_scores(sent)['compound'])\n",
    "    "
   ]
  },
  {
   "cell_type": "code",
   "execution_count": 22,
   "metadata": {},
   "outputs": [
    {
     "data": {
      "text/plain": [
       "3789"
      ]
     },
     "execution_count": 22,
     "metadata": {},
     "output_type": "execute_result"
    }
   ],
   "source": [
    "len(intensity)"
   ]
  },
  {
   "cell_type": "code",
   "execution_count": 41,
   "metadata": {},
   "outputs": [],
   "source": [
    "#calculating error\n",
    "error = []\n",
    "for n,m in zip(intensity,prediction):\n",
    "    error.append((max(n,m)-min(n,m))*100/2)"
   ]
  },
  {
   "cell_type": "code",
   "execution_count": 42,
   "metadata": {},
   "outputs": [
    {
     "name": "stdout",
     "output_type": "stream",
     "text": [
      "mean of error  17.4743217208\n",
      "max 77.24\n",
      "min 0.0\n"
     ]
    }
   ],
   "source": [
    "print(\"mean of error  \"+str(sum(error)/len(error)))\n",
    "print(\"max \"+ str(max(error)))\n",
    "print(\"min \"+ str(min(error)))"
   ]
  },
  {
   "cell_type": "code",
   "execution_count": 43,
   "metadata": {},
   "outputs": [
    {
     "name": "stdout",
     "output_type": "stream",
     "text": [
      "Populating the interactive namespace from numpy and matplotlib\n"
     ]
    },
    {
     "data": {
      "image/png": "[encoded data removed]",
      "text/plain": [
       "<matplotlib.figure.Figure at 0x7f9491141da0>"
      ]
     },
     "metadata": {},
     "output_type": "display_data"
    }
   ],
   "source": [
    "import matplotlib.pyplot as plt\n",
    "import numpy as np\n",
    "%matplotlib inline\n",
    "%pylab inline\n",
    "pylab.rcParams['figure.figsize'] = (15, 6)\n",
    "plt.hist(error, normed=True)\n",
    "plt.ylabel('error');"
   ]
  },
  {
   "cell_type": "code",
   "execution_count": null,
   "metadata": {
    "collapsed": true
   },
   "outputs": [],
   "source": []
  }
 ],
 "metadata": {
  "kernelspec": {
   "display_name": "Python 3",
   "language": "python",
   "name": "python3"
  },
  "language_info": {
   "codemirror_mode": {
    "name": "ipython",
    "version": 3
   },
   "file_extension": ".py",
   "mimetype": "text/x-python",
   "name": "python",
   "nbconvert_exporter": "python",
   "pygments_lexer": "ipython3",
   "version": "3.6.3"
  }
 },
 "nbformat": 4,
 "nbformat_minor": 2
}
