{
 "cells": [
  {
   "cell_type": "code",
   "execution_count": 62,
   "metadata": {
    "collapsed": true
   },
   "outputs": [],
   "source": [
    "from gensim.models import KeyedVectors\n",
    "from gensim.scripts.glove2word2vec import glove2word2vec\n",
    "from gensim.models import Word2Vec\n",
    "import itertools\n",
    "import pandas as pd\n",
    "import numpy as np\n",
    "import re"
   ]
  },
  {
   "cell_type": "code",
   "execution_count": 54,
   "metadata": {
    "collapsed": true
   },
   "outputs": [],
   "source": [
    "#WILL BE TRAINING MY OWN MODEL\n",
    "\n",
    "#loading pretrained model\n",
    "# filename = 'GoogleNews-vectors-negative300.bin/GoogleNews-vectors-negative300.bin'\n",
    "# model = KeyedVectors.load_word2vec_format(filename, binary=True)\n",
    "\n",
    "# glove_input_file = 'glove.6B/glove.6B.50d.txt'\n",
    "# word2vec_output_file = 'glove.6B.50d.txt.word2vec'\n",
    "# glove2word2vec(glove_input_file, word2vec_output_file)\n",
    "# filename = 'glove.6B.50d.txt.word2vec'\n",
    "# model = KeyedVectors.load_word2vec_format(filename, binary=False)"
   ]
  },
  {
   "cell_type": "code",
   "execution_count": 136,
   "metadata": {},
   "outputs": [
    {
     "data": {
      "text/plain": [
       "array([-0.9208  ,  0.60392 ,  1.1053  , -0.39188 ,  1.0204  ,  2.1945  ,\n",
       "       -0.49508 , -1.9547  , -1.0751  ,  0.1454  ,  1.2495  , -1.4208  ,\n",
       "        1.894   , -1.3024  , -0.1751  ,  0.33084 , -0.17029 ,  0.169   ,\n",
       "       -0.87306 ,  0.22944 ,  0.027846,  0.33347 ,  1.2866  ,  0.23098 ,\n",
       "       -0.12257 ,  0.38349 ,  0.24163 , -0.67453 ,  0.08332 ,  0.76547 ,\n",
       "        3.2612  ,  0.62834 , -0.016612, -0.12178 ,  0.85848 , -1.1687  ,\n",
       "       -0.10173 ,  0.070155,  0.99368 ,  0.029438, -0.065403, -0.50471 ,\n",
       "        1.1739  , -0.28263 , -1.381   , -0.43341 , -0.58927 , -0.19344 ,\n",
       "        1.6497  , -0.10516 ], dtype=float32)"
      ]
     },
     "execution_count": 136,
     "metadata": {},
     "output_type": "execute_result"
    }
   ],
   "source": [
    "# model['%']"
   ]
  },
  {
   "cell_type": "code",
   "execution_count": 8,
   "metadata": {
    "collapsed": true
   },
   "outputs": [],
   "source": [
    "#loading data\n",
    "headlines = pd.read_csv('FiQA_train_ABSA_financial_headlines.tsv',delimiter='\\t',header=0)\n",
    "posts = pd.read_csv('FiQA_train_ABSA_financial_posts.tsv',delimiter='\\t',header=0)\n",
    "posts = posts.drop(['Unnamed: 0', 'id'],axis=1)\n",
    "headlines = headlines.drop(['Unnamed: 0', 'id'],axis=1)\n",
    "posts_text = posts.iloc[:,:1]\n",
    "posts_score = posts.iloc[:,1:]\n",
    "headlines_text = headlines.iloc[:,:1]\n",
    "headlines_score = headlines.iloc[:,1:]\n",
    "text_frames = [posts_text,headlines_text]\n",
    "score_frames = [posts_score,headlines_score]\n",
    "text = pd.concat(text_frames)\n",
    "score = pd.concat(score_frames)"
   ]
  },
  {
   "cell_type": "code",
   "execution_count": 3,
   "metadata": {
    "collapsed": true
   },
   "outputs": [],
   "source": [
    "#finding sentence with max len\n",
    "max_ = [len(x.split()) for x in text['text']]"
   ]
  },
  {
   "cell_type": "code",
   "execution_count": 4,
   "metadata": {},
   "outputs": [
    {
     "name": "stdout",
     "output_type": "stream",
     "text": [
      "Populating the interactive namespace from numpy and matplotlib\n"
     ]
    },
    {
     "name": "stderr",
     "output_type": "stream",
     "text": [
      "/home/hitkul/anaconda3/envs/ps3/lib/python3.6/site-packages/IPython/core/magics/pylab.py:160: UserWarning: pylab import has clobbered these variables: ['text']\n",
      "`%matplotlib` prevents importing * from pylab and numpy\n",
      "  \"\\n`%matplotlib` prevents importing * from pylab and numpy\"\n"
     ]
    },
    {
     "data": {
      "text/plain": [
       "(array([0.00828169, 0.03603899, 0.10274752, 0.06006498, 0.0385872 ,\n",
       "        0.03440085, 0.03085156, 0.0253001 , 0.0071896 , 0.00136511]),\n",
       " array([ 2. ,  4.9,  7.8, 10.7, 13.6, 16.5, 19.4, 22.3, 25.2, 28.1, 31. ]),\n",
       " <a list of 10 Patch objects>)"
      ]
     },
     "execution_count": 4,
     "metadata": {},
     "output_type": "execute_result"
    },
    {
     "data": {
      "image/png": "[encoded data removed]",
      "text/plain": [
       "<matplotlib.figure.Figure at 0x7f71c9ffc908>"
      ]
     },
     "metadata": {},
     "output_type": "display_data"
    }
   ],
   "source": [
    "import matplotlib.pyplot as plt\n",
    "import numpy as np\n",
    "%matplotlib inline\n",
    "%pylab inline\n",
    "plt.style.use('bmh')\n",
    "pylab.rcParams['figure.figsize'] = (15, 6)\n",
    "plt.hist(max_, normed=True,edgecolor='black')"
   ]
  },
  {
   "cell_type": "code",
   "execution_count": 5,
   "metadata": {},
   "outputs": [
    {
     "data": {
      "text/plain": [
       "31"
      ]
     },
     "execution_count": 5,
     "metadata": {},
     "output_type": "execute_result"
    }
   ],
   "source": [
    "max(max_)"
   ]
  },
  {
   "cell_type": "code",
   "execution_count": 6,
   "metadata": {
    "collapsed": true
   },
   "outputs": [],
   "source": [
    "#max len is 31, not a lot of sentence with len more than 25 so max len be 25\n",
    "max_len = 25"
   ]
  },
  {
   "cell_type": "code",
   "execution_count": 142,
   "metadata": {
    "collapsed": true
   },
   "outputs": [],
   "source": []
  },
  {
   "cell_type": "code",
   "execution_count": 143,
   "metadata": {
    "collapsed": true
   },
   "outputs": [],
   "source": [
    "# get_word_vector('test hitkul function')"
   ]
  },
  {
   "cell_type": "code",
   "execution_count": 9,
   "metadata": {},
   "outputs": [],
   "source": [
    "sentences = [x for x in text['text']]\n",
    "# sentences"
   ]
  },
  {
   "cell_type": "code",
   "execution_count": 10,
   "metadata": {
    "collapsed": true
   },
   "outputs": [],
   "source": [
    "def clean_sentences(sentence):\n",
    "    sentence = re.sub(r'(\\W)\\1{2,}', r'\\1', sentence) #remove multiple repeat non num-aplha char !!!!!!!!!-->!\n",
    "    sentence = re.sub(r'(\\w)\\1{2,}', r'\\1\\1', sentence)#removes alpha char repeating more than twice aaaa->aa\n",
    "    sentence = re.sub(r'(?P<url>https?://[^\\s]+)', r'', sentence)#removes links\n",
    "    sentence = ' '.join(re.sub(\"(@[A-Za-z0-9]+)|([^0-9A-Za-z \\t])|(\\w+:\\/\\/\\S+)\",\" \",sentence).split()) # remove @usernames\n",
    "    return sentence"
   ]
  },
  {
   "cell_type": "code",
   "execution_count": 13,
   "metadata": {},
   "outputs": [],
   "source": [
    "for i in range(len(sentences)):\n",
    "    sentences[i] = clean_sentences(sentences[i])\n",
    "# sentences"
   ]
  },
  {
   "cell_type": "code",
   "execution_count": 81,
   "metadata": {
    "collapsed": true
   },
   "outputs": [],
   "source": [
    "#loading trained model, if not present than train you own vocab\n",
    "try: \n",
    "    model = Word2Vec.load('vocab_model.bin')\n",
    "except FileNotFoundError:\n",
    "    train_data_vocab = [x.split() for x in sentences]    \n",
    "    model = Word2Vec(train_data_vocab,size=10, min_count=5,workers=4) #trying a 10 dimensional vector first\n",
    "    model.save('vocab_model.bin')"
   ]
  },
  {
   "cell_type": "code",
   "execution_count": 82,
   "metadata": {},
   "outputs": [],
   "source": [
    "# "
   ]
  },
  {
   "cell_type": "code",
   "execution_count": 83,
   "metadata": {
    "collapsed": true
   },
   "outputs": [],
   "source": [
    "def get_word_vector(sentence):\n",
    "    vector = []\n",
    "    for word in sentence.split():\n",
    "        try:\n",
    "            vector.append(model[word])\n",
    "        except KeyError:\n",
    "            vector.append(np.zeros(10,dtype=float32))\n",
    "    return np.array(vector).flatten()"
   ]
  },
  {
   "cell_type": "code",
   "execution_count": 85,
   "metadata": {},
   "outputs": [
    {
     "name": "stderr",
     "output_type": "stream",
     "text": [
      "/home/hitkul/anaconda3/envs/ps3/lib/python3.6/site-packages/ipykernel_launcher.py:5: DeprecationWarning: Call to deprecated `__getitem__` (Method will be removed in 4.0.0, use self.wv.__getitem__() instead).\n",
      "  \"\"\"\n"
     ]
    }
   ],
   "source": [
    "# get_word_vector(sentences[0])\n",
    "text_vectors = [get_word_vector(sentence) for sentence in sentences]"
   ]
  },
  {
   "cell_type": "code",
   "execution_count": 97,
   "metadata": {},
   "outputs": [
    {
     "data": {
      "text/plain": [
       "numpy.ndarray"
      ]
     },
     "execution_count": 97,
     "metadata": {},
     "output_type": "execute_result"
    }
   ],
   "source": [
    "# text_vectors = np.array(text_vectors)\n",
    "# type(text_vectors)"
   ]
  },
  {
   "cell_type": "code",
   "execution_count": 98,
   "metadata": {},
   "outputs": [
    {
     "data": {
      "text/plain": [
       "1    2407\n",
       "0    1382\n",
       "Name: sentiment score, dtype: int64"
      ]
     },
     "execution_count": 98,
     "metadata": {},
     "output_type": "execute_result"
    }
   ],
   "source": [
    "#converting scores into positive and negative classes\n",
    "Y = (score>=0).astype(np.int_)\n",
    "Y['sentiment score'].value_counts()"
   ]
  },
  {
   "cell_type": "code",
   "execution_count": 100,
   "metadata": {},
   "outputs": [],
   "source": [
    "shuffle = np.arange(len(score))\n",
    "np.random.shuffle(shuffle)\n",
    "test_train_split = 0.9\n",
    "train_split, test_split = shuffle[:int(len(score)*test_train_split)], shuffle[int(len(score)*test_train_split):]"
   ]
  },
  {
   "cell_type": "code",
   "execution_count": 105,
   "metadata": {},
   "outputs": [
    {
     "data": {
      "text/plain": [
       "(3789,)"
      ]
     },
     "execution_count": 105,
     "metadata": {},
     "output_type": "execute_result"
    }
   ],
   "source": [
    "# trainX, trainY = text_vectors[train_split,:], to_categorical(Y.values[train_split].ravel(), 2)\n",
    "# testX, testY = text_vectors[test_split,:], to_categorical(Y.values[test_split].ravel(), 2)\n",
    "text_vectors.shape"
   ]
  },
  {
   "cell_type": "code",
   "execution_count": null,
   "metadata": {
    "collapsed": true
   },
   "outputs": [],
   "source": []
  }
 ],
 "metadata": {
  "kernelspec": {
   "display_name": "Python 3",
   "language": "python",
   "name": "python3"
  },
  "language_info": {
   "codemirror_mode": {
    "name": "ipython",
    "version": 3
   },
   "file_extension": ".py",
   "mimetype": "text/x-python",
   "name": "python",
   "nbconvert_exporter": "python",
   "pygments_lexer": "ipython3",
   "version": "3.6.3"
  }
 },
 "nbformat": 4,
 "nbformat_minor": 2
}
