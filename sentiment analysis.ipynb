{
 "cells": [
  {
   "cell_type": "code",
   "execution_count": 1,
   "metadata": {},
   "outputs": [
    {
     "name": "stderr",
     "output_type": "stream",
     "text": [
      "/home/hitkul/anaconda3/envs/ps3/lib/python3.6/importlib/_bootstrap.py:219: RuntimeWarning: compiletime version 3.5 of module 'tensorflow.python.framework.fast_tensor_util' does not match runtime version 3.6\n",
      "  return f(*args, **kwds)\n"
     ]
    }
   ],
   "source": [
    "#imports\n",
    "import pandas as pd\n",
    "import numpy as np\n",
    "import tensorflow as tf\n",
    "import tflearn\n",
    "from tflearn.data_utils import to_categorical\n",
    "from collections import Counter"
   ]
  },
  {
   "cell_type": "code",
   "execution_count": 2,
   "metadata": {
    "collapsed": true
   },
   "outputs": [],
   "source": [
    "#loading data\n",
    "reviwes = pd.read_csv('reviews.txt',header=None)\n",
    "labels = pd.read_csv('labels.txt',header=None)"
   ]
  },
  {
   "cell_type": "code",
   "execution_count": 3,
   "metadata": {},
   "outputs": [],
   "source": [
    "#counting word frequency to create vocabulary\n",
    "counter_ = Counter()\n",
    "for review in reviwes.values:\n",
    "    for word in review[0].split(\" \"):\n",
    "        counter_[word]+=1\n",
    "# print(counter_)"
   ]
  },
  {
   "cell_type": "code",
   "execution_count": 4,
   "metadata": {},
   "outputs": [
    {
     "name": "stdout",
     "output_type": "stream",
     "text": [
      "74074\n"
     ]
    }
   ],
   "source": [
    "print(len(counter_))"
   ]
  },
  {
   "cell_type": "code",
   "execution_count": 5,
   "metadata": {
    "collapsed": true
   },
   "outputs": [],
   "source": [
    "#keeping only 10000 most commmon words, frequency of 10000th word can be used to see if we need ot increase or decrease this number\n",
    "vocabulary = sorted(counter_,key=counter_.get,reverse = True)[:10000]"
   ]
  },
  {
   "cell_type": "code",
   "execution_count": 6,
   "metadata": {
    "collapsed": true
   },
   "outputs": [],
   "source": [
    "#word to index, will need this mapping to create word vector \n",
    "word_to_index = dict()\n",
    "for index,word in enumerate(vocabulary):\n",
    "    word_to_index[word] = index"
   ]
  },
  {
   "cell_type": "code",
   "execution_count": 7,
   "metadata": {
    "collapsed": true
   },
   "outputs": [],
   "source": [
    "def get_word_vector(data):\n",
    "    vector = np.zeros(len(vocabulary), dtype=np.int_)\n",
    "    for word in data.split(' '):\n",
    "        index = word_to_index.get(word, None)\n",
    "        if index != None:\n",
    "            vector[index]+=1\n",
    "    return vector"
   ]
  },
  {
   "cell_type": "code",
   "execution_count": null,
   "metadata": {
    "collapsed": true
   },
   "outputs": [],
   "source": []
  },
  {
   "cell_type": "code",
   "execution_count": 8,
   "metadata": {
    "collapsed": true
   },
   "outputs": [],
   "source": [
    "review_vectors = np.zeros((len(reviwes),len(vocabulary)),dtype=np.int_)\n",
    "for index,(_,data) in enumerate(reviwes.iterrows()):\n",
    "    review_vectors[index] = get_word_vector(data[0])"
   ]
  },
  {
   "cell_type": "code",
   "execution_count": 9,
   "metadata": {},
   "outputs": [
    {
     "data": {
      "text/plain": [
       "array([[ 18,   9,  27, ...,   0,   0,   0],\n",
       "       [  5,   4,   8, ...,   0,   0,   0],\n",
       "       [ 78,  24,  12, ...,   0,   0,   0],\n",
       "       [167,  53,  23, ...,   0,   0,   0],\n",
       "       [ 19,  10,  11, ...,   0,   0,   0]])"
      ]
     },
     "execution_count": 9,
     "metadata": {},
     "output_type": "execute_result"
    }
   ],
   "source": [
    "review_vectors[:5]"
   ]
  },
  {
   "cell_type": "code",
   "execution_count": 25,
   "metadata": {},
   "outputs": [],
   "source": [
    "Y = (labels=='positive').astype(np.int_)\n",
    "shuffle = np.arange(len(labels))\n",
    "np.random.shuffle(shuffle)\n",
    "test_train_split = 0.9\n",
    "train_split, test_split = shuffle[:int(len(labels)*test_train_split)], shuffle[int(len(labels)*test_train_split):]\n",
    "trainX, trainY = review_vectors[train_split,:], to_categorical(Y.values[train_split], 2)\n",
    "testX, testY = review_vectors[test_split,:], to_categorical(Y.values[test_split], 2)\n",
    "trainX = tflearn.data_utils.pad_sequences(trainX, maxlen=100, value=0.)\n",
    "testX = tflearn.data_utils.pad_sequences(testX, maxlen=100, value=0.)"
   ]
  },
  {
   "cell_type": "code",
   "execution_count": 26,
   "metadata": {
    "collapsed": true
   },
   "outputs": [],
   "source": [
    "# Network building\n",
    "tf.reset_default_graph()\n",
    "net = tflearn.input_data([None, 100])\n",
    "net = tflearn.embedding(net, input_dim=10000, output_dim=128)\n",
    "net = tflearn.lstm(net, 128, dropout=0.8)\n",
    "net = tflearn.fully_connected(net, 2, activation='softmax')\n",
    "net = tflearn.regression(net, optimizer='adam', learning_rate=0.001,\n",
    "                         loss='categorical_crossentropy')"
   ]
  },
  {
   "cell_type": "code",
   "execution_count": 27,
   "metadata": {},
   "outputs": [
    {
     "name": "stdout",
     "output_type": "stream",
     "text": [
      "Training Step: 1265  | total loss: \u001b[1m\u001b[32m1.38629\u001b[0m\u001b[0m | time: 113.180s\n",
      "| Adam | epoch: 002 | loss: 1.38629 - acc: 0.4944 -- iter: 20224/20250\n",
      "Training Step: 1266  | total loss: \u001b[1m\u001b[32m1.38629\u001b[0m\u001b[0m | time: 116.991s\n",
      "| Adam | epoch: 002 | loss: 1.38629 - acc: 0.5012 | val_loss: 1.38629 - val_acc: 0.9969 -- iter: 20250/20250\n",
      "--\n"
     ]
    }
   ],
   "source": [
    "model = tflearn.DNN(net, tensorboard_verbose=0)\n",
    "model.fit(trainX, trainY,n_epoch=2,validation_set=0.1, show_metric=True,batch_size=32)"
   ]
  },
  {
   "cell_type": "code",
   "execution_count": 28,
   "metadata": {},
   "outputs": [
    {
     "name": "stdout",
     "output_type": "stream",
     "text": [
      "Test accuracy:  0.9976\n"
     ]
    }
   ],
   "source": [
    "# (np.array(model.predict(testX))[:,0]>=0.5).astype(np.int_)\n",
    "\n",
    "predictions = (np.array(model.predict(testX))[:,0] >= 0.5).astype(np.int_)\n",
    "test_accuracy = np.mean(predictions == testY[:,0], axis=0)\n",
    "print(\"Test accuracy: \", test_accuracy)"
   ]
  },
  {
   "cell_type": "code",
   "execution_count": null,
   "metadata": {
    "collapsed": true
   },
   "outputs": [],
   "source": []
  }
 ],
 "metadata": {
  "kernelspec": {
   "display_name": "Python 3",
   "language": "python",
   "name": "python3"
  },
  "language_info": {
   "codemirror_mode": {
    "name": "ipython",
    "version": 3
   },
   "file_extension": ".py",
   "mimetype": "text/x-python",
   "name": "python",
   "nbconvert_exporter": "python",
   "pygments_lexer": "ipython3",
   "version": "3.6.3"
  }
 },
 "nbformat": 4,
 "nbformat_minor": 2
}
