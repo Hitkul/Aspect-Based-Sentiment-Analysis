{
 "cells": [
  {
   "cell_type": "code",
   "execution_count": 1,
   "metadata": {},
   "outputs": [
    {
     "name": "stderr",
     "output_type": "stream",
     "text": [
      "/home/hitkul/anaconda3/envs/ps3/lib/python3.6/importlib/_bootstrap.py:219: RuntimeWarning: compiletime version 3.5 of module 'tensorflow.python.framework.fast_tensor_util' does not match runtime version 3.6\n",
      "  return f(*args, **kwds)\n"
     ]
    }
   ],
   "source": [
    "#imports\n",
    "import pandas as pd\n",
    "import numpy as np\n",
    "import tensorflow as tf\n",
    "import tflearn\n",
    "from tflearn.data_utils import to_categorical\n",
    "from collections import Counter"
   ]
  },
  {
   "cell_type": "code",
   "execution_count": 15,
   "metadata": {},
   "outputs": [
    {
     "data": {
      "text/html": [
       "<div>\n",
       "<style>\n",
       "    .dataframe thead tr:only-child th {\n",
       "        text-align: right;\n",
       "    }\n",
       "\n",
       "    .dataframe thead th {\n",
       "        text-align: left;\n",
       "    }\n",
       "\n",
       "    .dataframe tbody tr th {\n",
       "        vertical-align: top;\n",
       "    }\n",
       "</style>\n",
       "<table border=\"1\" class=\"dataframe\">\n",
       "  <thead>\n",
       "    <tr style=\"text-align: right;\">\n",
       "      <th></th>\n",
       "      <th>text</th>\n",
       "    </tr>\n",
       "  </thead>\n",
       "  <tbody>\n",
       "    <tr>\n",
       "      <th>0</th>\n",
       "      <td>Cuadrilla files to delay application to frack ...</td>\n",
       "    </tr>\n",
       "    <tr>\n",
       "      <th>1</th>\n",
       "      <td>Royal Mail chairman Donald Brydon set to step ...</td>\n",
       "    </tr>\n",
       "    <tr>\n",
       "      <th>2</th>\n",
       "      <td>UPDATE 2-EasyJet sees better first half on low...</td>\n",
       "    </tr>\n",
       "    <tr>\n",
       "      <th>3</th>\n",
       "      <td>Slump in Weir leads FTSE down from record high</td>\n",
       "    </tr>\n",
       "    <tr>\n",
       "      <th>4</th>\n",
       "      <td>AstraZeneca wins FDA approval for key new lung...</td>\n",
       "    </tr>\n",
       "    <tr>\n",
       "      <th>5</th>\n",
       "      <td>Sainsbury chief warns of squeeze on high stree...</td>\n",
       "    </tr>\n",
       "    <tr>\n",
       "      <th>6</th>\n",
       "      <td>UPDATE 1-Lloyds to cut 945 jobs as part of 3-y...</td>\n",
       "    </tr>\n",
       "    <tr>\n",
       "      <th>7</th>\n",
       "      <td>Primark plots expansion in US and Europe</td>\n",
       "    </tr>\n",
       "    <tr>\n",
       "      <th>8</th>\n",
       "      <td>Standard Chartered Shifts Emerging-Markets Str...</td>\n",
       "    </tr>\n",
       "    <tr>\n",
       "      <th>9</th>\n",
       "      <td>Barclays fined for anti-money-laundering failings</td>\n",
       "    </tr>\n",
       "    <tr>\n",
       "      <th>10</th>\n",
       "      <td>UPDATE 3-Barclays fined for lax crime checks i...</td>\n",
       "    </tr>\n",
       "    <tr>\n",
       "      <th>11</th>\n",
       "      <td>Easyjet targets business travellers with new p...</td>\n",
       "    </tr>\n",
       "    <tr>\n",
       "      <th>12</th>\n",
       "      <td>AstraZeneca's Lung Cancer Drug Tagrisso Gets F...</td>\n",
       "    </tr>\n",
       "    <tr>\n",
       "      <th>13</th>\n",
       "      <td>GSK aims to file up to 20 new drugs for approv...</td>\n",
       "    </tr>\n",
       "    <tr>\n",
       "      <th>14</th>\n",
       "      <td>Severn Trent share price rises as first half p...</td>\n",
       "    </tr>\n",
       "    <tr>\n",
       "      <th>15</th>\n",
       "      <td>Prudential knocked after investors withdraw Â£...</td>\n",
       "    </tr>\n",
       "    <tr>\n",
       "      <th>16</th>\n",
       "      <td>CompaniesUnited Utilities H1 profits just miss...</td>\n",
       "    </tr>\n",
       "    <tr>\n",
       "      <th>17</th>\n",
       "      <td>Glencore sees Tripoli-based NOC as sole legal ...</td>\n",
       "    </tr>\n",
       "    <tr>\n",
       "      <th>18</th>\n",
       "      <td>Lloyds to cut 945 jobs as part of three-year r...</td>\n",
       "    </tr>\n",
       "    <tr>\n",
       "      <th>19</th>\n",
       "      <td>AstraZeneca to Buy ZS Pharma for $2.7 Billion</td>\n",
       "    </tr>\n",
       "    <tr>\n",
       "      <th>20</th>\n",
       "      <td>AstraZeneca to Buy ZS Pharma for $2.7 Billion</td>\n",
       "    </tr>\n",
       "    <tr>\n",
       "      <th>21</th>\n",
       "      <td>Ackman, in email, says supports Valeant CEO Pe...</td>\n",
       "    </tr>\n",
       "    <tr>\n",
       "      <th>22</th>\n",
       "      <td>Severn Trent profit up as customer complaints ...</td>\n",
       "    </tr>\n",
       "    <tr>\n",
       "      <th>23</th>\n",
       "      <td>Experian says receives class actions related t...</td>\n",
       "    </tr>\n",
       "    <tr>\n",
       "      <th>24</th>\n",
       "      <td>AstraZeneca sells US drug rights to Perrigo fo...</td>\n",
       "    </tr>\n",
       "    <tr>\n",
       "      <th>25</th>\n",
       "      <td>AstraZeneca sells US drug rights to Perrigo fo...</td>\n",
       "    </tr>\n",
       "    <tr>\n",
       "      <th>26</th>\n",
       "      <td>Landlord Hammerson's NAV rises on increased le...</td>\n",
       "    </tr>\n",
       "    <tr>\n",
       "      <th>27</th>\n",
       "      <td>CompaniesNational Grid lines up sale of gas bu...</td>\n",
       "    </tr>\n",
       "    <tr>\n",
       "      <th>28</th>\n",
       "      <td>UPDATE 1-AstraZeneca buys ZS Pharma for $2.7 b...</td>\n",
       "    </tr>\n",
       "    <tr>\n",
       "      <th>29</th>\n",
       "      <td>UPDATE 1-AstraZeneca buys ZS Pharma for $2.7 b...</td>\n",
       "    </tr>\n",
       "    <tr>\n",
       "      <th>...</th>\n",
       "      <td>...</td>\n",
       "    </tr>\n",
       "    <tr>\n",
       "      <th>1425</th>\n",
       "      <td>CompaniesShell sells stake in Showa Shell Seki...</td>\n",
       "    </tr>\n",
       "    <tr>\n",
       "      <th>1426</th>\n",
       "      <td>AstraZeneca share price: Crohn's Disease drug ...</td>\n",
       "    </tr>\n",
       "    <tr>\n",
       "      <th>1427</th>\n",
       "      <td>PRESS: Pearson Set To Announce Sale Of Financi...</td>\n",
       "    </tr>\n",
       "    <tr>\n",
       "      <th>1428</th>\n",
       "      <td>Report: Financial Times up for sale</td>\n",
       "    </tr>\n",
       "    <tr>\n",
       "      <th>1429</th>\n",
       "      <td>Shire in talks with Baxalta shareholders</td>\n",
       "    </tr>\n",
       "    <tr>\n",
       "      <th>1430</th>\n",
       "      <td>Shire CEO steps up drive to get Baxalta board ...</td>\n",
       "    </tr>\n",
       "    <tr>\n",
       "      <th>1431</th>\n",
       "      <td>Shire CEO steps up drive to get Baxalta board ...</td>\n",
       "    </tr>\n",
       "    <tr>\n",
       "      <th>1432</th>\n",
       "      <td>Carnival Corporation Launches Shipboard Mobile...</td>\n",
       "    </tr>\n",
       "    <tr>\n",
       "      <th>1433</th>\n",
       "      <td>Bidders Abandon Auction Of Tesco Data Unit</td>\n",
       "    </tr>\n",
       "    <tr>\n",
       "      <th>1434</th>\n",
       "      <td>Glencore has a mogul in denial</td>\n",
       "    </tr>\n",
       "    <tr>\n",
       "      <th>1435</th>\n",
       "      <td>Imperial Tobacco launches caffeinated mouth st...</td>\n",
       "    </tr>\n",
       "    <tr>\n",
       "      <th>1436</th>\n",
       "      <td>PRESS: HSBC Chairman Hints Bank May Retain UK ...</td>\n",
       "    </tr>\n",
       "    <tr>\n",
       "      <th>1437</th>\n",
       "      <td>CompaniesAB InBev signals it won't go hostile ...</td>\n",
       "    </tr>\n",
       "    <tr>\n",
       "      <th>1438</th>\n",
       "      <td>CompaniesAB InBev signals it won't go hostile ...</td>\n",
       "    </tr>\n",
       "    <tr>\n",
       "      <th>1439</th>\n",
       "      <td>Mylan Appoints Ranjan Ray Chaudhuri as Global ...</td>\n",
       "    </tr>\n",
       "    <tr>\n",
       "      <th>1440</th>\n",
       "      <td>Barclays set to name former JPMorgan banker St...</td>\n",
       "    </tr>\n",
       "    <tr>\n",
       "      <th>1441</th>\n",
       "      <td>US cancels Arctic offshore lease sale after Sh...</td>\n",
       "    </tr>\n",
       "    <tr>\n",
       "      <th>1442</th>\n",
       "      <td>AB InBev offers SABMiller $3 billion breakup fee</td>\n",
       "    </tr>\n",
       "    <tr>\n",
       "      <th>1443</th>\n",
       "      <td>AB InBev offers SABMiller $3 billion breakup fee</td>\n",
       "    </tr>\n",
       "    <tr>\n",
       "      <th>1444</th>\n",
       "      <td>Barclays share price: Chairman 'perfectly comf...</td>\n",
       "    </tr>\n",
       "    <tr>\n",
       "      <th>1445</th>\n",
       "      <td>AB InBev attacks SABMiller bid rebuffal</td>\n",
       "    </tr>\n",
       "    <tr>\n",
       "      <th>1446</th>\n",
       "      <td>AB InBev attacks SABMiller bid rebuffal</td>\n",
       "    </tr>\n",
       "    <tr>\n",
       "      <th>1447</th>\n",
       "      <td>JC Penney Cuts Pension Plan Obligation</td>\n",
       "    </tr>\n",
       "    <tr>\n",
       "      <th>1448</th>\n",
       "      <td>SAB's Chairman Digs In With Board Divided on I...</td>\n",
       "    </tr>\n",
       "    <tr>\n",
       "      <th>1449</th>\n",
       "      <td>SAB's Chairman Digs In With Board Divided on I...</td>\n",
       "    </tr>\n",
       "    <tr>\n",
       "      <th>1450</th>\n",
       "      <td>Legal &amp; General group chairman John Stewart to...</td>\n",
       "    </tr>\n",
       "    <tr>\n",
       "      <th>1451</th>\n",
       "      <td>UPDATE 1-Meggitt reiterates annual outlook aft...</td>\n",
       "    </tr>\n",
       "    <tr>\n",
       "      <th>1452</th>\n",
       "      <td>We'd support HSBC leaving London, says Standar...</td>\n",
       "    </tr>\n",
       "    <tr>\n",
       "      <th>1453</th>\n",
       "      <td>We'd support HSBC leaving London, says Standar...</td>\n",
       "    </tr>\n",
       "    <tr>\n",
       "      <th>1454</th>\n",
       "      <td>BHP Billiton to Face Questions From Shareholders</td>\n",
       "    </tr>\n",
       "  </tbody>\n",
       "</table>\n",
       "<p>1455 rows × 1 columns</p>\n",
       "</div>"
      ],
      "text/plain": [
       "                                                   text\n",
       "0     Cuadrilla files to delay application to frack ...\n",
       "1     Royal Mail chairman Donald Brydon set to step ...\n",
       "2     UPDATE 2-EasyJet sees better first half on low...\n",
       "3        Slump in Weir leads FTSE down from record high\n",
       "4     AstraZeneca wins FDA approval for key new lung...\n",
       "5     Sainsbury chief warns of squeeze on high stree...\n",
       "6     UPDATE 1-Lloyds to cut 945 jobs as part of 3-y...\n",
       "7              Primark plots expansion in US and Europe\n",
       "8     Standard Chartered Shifts Emerging-Markets Str...\n",
       "9     Barclays fined for anti-money-laundering failings\n",
       "10    UPDATE 3-Barclays fined for lax crime checks i...\n",
       "11    Easyjet targets business travellers with new p...\n",
       "12    AstraZeneca's Lung Cancer Drug Tagrisso Gets F...\n",
       "13    GSK aims to file up to 20 new drugs for approv...\n",
       "14    Severn Trent share price rises as first half p...\n",
       "15    Prudential knocked after investors withdraw Â£...\n",
       "16    CompaniesUnited Utilities H1 profits just miss...\n",
       "17    Glencore sees Tripoli-based NOC as sole legal ...\n",
       "18    Lloyds to cut 945 jobs as part of three-year r...\n",
       "19        AstraZeneca to Buy ZS Pharma for $2.7 Billion\n",
       "20        AstraZeneca to Buy ZS Pharma for $2.7 Billion\n",
       "21    Ackman, in email, says supports Valeant CEO Pe...\n",
       "22    Severn Trent profit up as customer complaints ...\n",
       "23    Experian says receives class actions related t...\n",
       "24    AstraZeneca sells US drug rights to Perrigo fo...\n",
       "25    AstraZeneca sells US drug rights to Perrigo fo...\n",
       "26    Landlord Hammerson's NAV rises on increased le...\n",
       "27    CompaniesNational Grid lines up sale of gas bu...\n",
       "28    UPDATE 1-AstraZeneca buys ZS Pharma for $2.7 b...\n",
       "29    UPDATE 1-AstraZeneca buys ZS Pharma for $2.7 b...\n",
       "...                                                 ...\n",
       "1425  CompaniesShell sells stake in Showa Shell Seki...\n",
       "1426  AstraZeneca share price: Crohn's Disease drug ...\n",
       "1427  PRESS: Pearson Set To Announce Sale Of Financi...\n",
       "1428                Report: Financial Times up for sale\n",
       "1429           Shire in talks with Baxalta shareholders\n",
       "1430  Shire CEO steps up drive to get Baxalta board ...\n",
       "1431  Shire CEO steps up drive to get Baxalta board ...\n",
       "1432  Carnival Corporation Launches Shipboard Mobile...\n",
       "1433         Bidders Abandon Auction Of Tesco Data Unit\n",
       "1434                     Glencore has a mogul in denial\n",
       "1435  Imperial Tobacco launches caffeinated mouth st...\n",
       "1436  PRESS: HSBC Chairman Hints Bank May Retain UK ...\n",
       "1437  CompaniesAB InBev signals it won't go hostile ...\n",
       "1438  CompaniesAB InBev signals it won't go hostile ...\n",
       "1439  Mylan Appoints Ranjan Ray Chaudhuri as Global ...\n",
       "1440  Barclays set to name former JPMorgan banker St...\n",
       "1441  US cancels Arctic offshore lease sale after Sh...\n",
       "1442   AB InBev offers SABMiller $3 billion breakup fee\n",
       "1443   AB InBev offers SABMiller $3 billion breakup fee\n",
       "1444  Barclays share price: Chairman 'perfectly comf...\n",
       "1445            AB InBev attacks SABMiller bid rebuffal\n",
       "1446            AB InBev attacks SABMiller bid rebuffal\n",
       "1447             JC Penney Cuts Pension Plan Obligation\n",
       "1448  SAB's Chairman Digs In With Board Divided on I...\n",
       "1449  SAB's Chairman Digs In With Board Divided on I...\n",
       "1450  Legal & General group chairman John Stewart to...\n",
       "1451  UPDATE 1-Meggitt reiterates annual outlook aft...\n",
       "1452  We'd support HSBC leaving London, says Standar...\n",
       "1453  We'd support HSBC leaving London, says Standar...\n",
       "1454   BHP Billiton to Face Questions From Shareholders\n",
       "\n",
       "[1455 rows x 1 columns]"
      ]
     },
     "execution_count": 15,
     "metadata": {},
     "output_type": "execute_result"
    }
   ],
   "source": [
    "#loading data\n",
    "headlines = pd.read_csv('FiQA_train_ABSA_financial_headlines.tsv',delimiter='\\t',header=0)\n",
    "posts = pd.read_csv('FiQA_train_ABSA_financial_posts.tsv',delimiter='\\t',header=0)\n",
    "posts = posts.drop(['Unnamed: 0', 'id'],axis=1)\n",
    "headlines = headlines.drop(['Unnamed: 0', 'id'],axis=1)\n",
    "posts_text = posts.iloc[:,:1]\n",
    "posts_score = posts.iloc[:,1:]\n",
    "headlines_text = headlines.iloc[:,:1]\n",
    "headlines_score = headlines.iloc[:,1:]\n",
    "text_frames = [posts_text,headlines_text]\n"
   ]
  },
  {
   "cell_type": "code",
   "execution_count": 3,
   "metadata": {
    "collapsed": true
   },
   "outputs": [],
   "source": [
    "#counting word frequency to create vocabulary\n",
    "counter_ = Counter()\n",
    "for review in reviwes.values:\n",
    "    for word in review[0].split(\" \"):\n",
    "        counter_[word]+=1\n",
    "# print(counter_)"
   ]
  },
  {
   "cell_type": "code",
   "execution_count": 4,
   "metadata": {},
   "outputs": [
    {
     "name": "stdout",
     "output_type": "stream",
     "text": [
      "74074\n"
     ]
    }
   ],
   "source": [
    "print(len(counter_))"
   ]
  },
  {
   "cell_type": "code",
   "execution_count": 5,
   "metadata": {
    "collapsed": true
   },
   "outputs": [],
   "source": [
    "#keeping only 10000 most commmon words, frequency of 10000th word can be used to see if we need ot increase or decrease this number\n",
    "vocabulary = sorted(counter_,key=counter_.get,reverse = True)[:10000]"
   ]
  },
  {
   "cell_type": "code",
   "execution_count": 6,
   "metadata": {
    "collapsed": true
   },
   "outputs": [],
   "source": [
    "#word to index, will need this mapping to create word vector \n",
    "word_to_index = dict()\n",
    "for index,word in enumerate(vocabulary):\n",
    "    word_to_index[word] = index"
   ]
  },
  {
   "cell_type": "code",
   "execution_count": 7,
   "metadata": {
    "collapsed": true
   },
   "outputs": [],
   "source": [
    "def get_word_vector(data):\n",
    "    vector = np.zeros(len(vocabulary), dtype=np.int_)\n",
    "    for word in data.split(' '):\n",
    "        index = word_to_index.get(word, None)\n",
    "        if index != None:\n",
    "            vector[index]+=1\n",
    "    return vector"
   ]
  },
  {
   "cell_type": "code",
   "execution_count": null,
   "metadata": {
    "collapsed": true
   },
   "outputs": [],
   "source": []
  },
  {
   "cell_type": "code",
   "execution_count": 8,
   "metadata": {
    "collapsed": true
   },
   "outputs": [],
   "source": [
    "review_vectors = np.zeros((len(reviwes),len(vocabulary)),dtype=np.int_)\n",
    "for index,(_,data) in enumerate(reviwes.iterrows()):\n",
    "    review_vectors[index] = get_word_vector(data[0])"
   ]
  },
  {
   "cell_type": "code",
   "execution_count": 9,
   "metadata": {},
   "outputs": [
    {
     "data": {
      "text/plain": [
       "array([[ 18,   9,  27, ...,   0,   0,   0],\n",
       "       [  5,   4,   8, ...,   0,   0,   0],\n",
       "       [ 78,  24,  12, ...,   0,   0,   0],\n",
       "       [167,  53,  23, ...,   0,   0,   0],\n",
       "       [ 19,  10,  11, ...,   0,   0,   0]])"
      ]
     },
     "execution_count": 9,
     "metadata": {},
     "output_type": "execute_result"
    }
   ],
   "source": [
    "review_vectors[:5]"
   ]
  },
  {
   "cell_type": "code",
   "execution_count": 25,
   "metadata": {
    "collapsed": true
   },
   "outputs": [],
   "source": [
    "Y = (labels=='positive').astype(np.int_)\n",
    "shuffle = np.arange(len(labels))\n",
    "np.random.shuffle(shuffle)\n",
    "test_train_split = 0.9\n",
    "train_split, test_split = shuffle[:int(len(labels)*test_train_split)], shuffle[int(len(labels)*test_train_split):]\n",
    "trainX, trainY = review_vectors[train_split,:], to_categorical(Y.values[train_split], 2)\n",
    "testX, testY = review_vectors[test_split,:], to_categorical(Y.values[test_split], 2)\n",
    "trainX = tflearn.data_utils.pad_sequences(trainX, maxlen=100, value=0.)\n",
    "testX = tflearn.data_utils.pad_sequences(testX, maxlen=100, value=0.)"
   ]
  },
  {
   "cell_type": "code",
   "execution_count": 26,
   "metadata": {
    "collapsed": true
   },
   "outputs": [],
   "source": [
    "# Network building\n",
    "tf.reset_default_graph()\n",
    "net = tflearn.input_data([None, 100])\n",
    "net = tflearn.embedding(net, input_dim=10000, output_dim=128)\n",
    "net = tflearn.lstm(net, 128, dropout=0.8)\n",
    "net = tflearn.fully_connected(net, 2, activation='softmax')\n",
    "net = tflearn.regression(net, optimizer='adam', learning_rate=0.001,\n",
    "                         loss='categorical_crossentropy')"
   ]
  },
  {
   "cell_type": "code",
   "execution_count": 27,
   "metadata": {},
   "outputs": [
    {
     "name": "stdout",
     "output_type": "stream",
     "text": [
      "Training Step: 1265  | total loss: \u001b[1m\u001b[32m1.38629\u001b[0m\u001b[0m | time: 113.180s\n",
      "| Adam | epoch: 002 | loss: 1.38629 - acc: 0.4944 -- iter: 20224/20250\n",
      "Training Step: 1266  | total loss: \u001b[1m\u001b[32m1.38629\u001b[0m\u001b[0m | time: 116.991s\n",
      "| Adam | epoch: 002 | loss: 1.38629 - acc: 0.5012 | val_loss: 1.38629 - val_acc: 0.9969 -- iter: 20250/20250\n",
      "--\n"
     ]
    }
   ],
   "source": [
    "model = tflearn.DNN(net, tensorboard_verbose=0)\n",
    "model.fit(trainX, trainY,n_epoch=2,validation_set=0.1, show_metric=True,batch_size=32)"
   ]
  },
  {
   "cell_type": "code",
   "execution_count": 28,
   "metadata": {},
   "outputs": [
    {
     "name": "stdout",
     "output_type": "stream",
     "text": [
      "Test accuracy:  0.9976\n"
     ]
    }
   ],
   "source": [
    "# (np.array(model.predict(testX))[:,0]>=0.5).astype(np.int_)\n",
    "\n",
    "predictions = (np.array(model.predict(testX))[:,0] >= 0.5).astype(np.int_)\n",
    "test_accuracy = np.mean(predictions == testY[:,0], axis=0)\n",
    "print(\"Test accuracy: \", test_accuracy)"
   ]
  },
  {
   "cell_type": "code",
   "execution_count": null,
   "metadata": {
    "collapsed": true
   },
   "outputs": [],
   "source": []
  }
 ],
 "metadata": {
  "kernelspec": {
   "display_name": "Python 3",
   "language": "python",
   "name": "python3"
  },
  "language_info": {
   "codemirror_mode": {
    "name": "ipython",
    "version": 3
   },
   "file_extension": ".py",
   "mimetype": "text/x-python",
   "name": "python",
   "nbconvert_exporter": "python",
   "pygments_lexer": "ipython3",
   "version": "3.6.3"
  }
 },
 "nbformat": 4,
 "nbformat_minor": 2
}
