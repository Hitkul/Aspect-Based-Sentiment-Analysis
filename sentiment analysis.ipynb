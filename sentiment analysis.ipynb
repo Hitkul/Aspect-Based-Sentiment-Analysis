{
 "cells": [
  {
   "cell_type": "code",
   "execution_count": 1,
   "metadata": {},
   "outputs": [
    {
     "name": "stderr",
     "output_type": "stream",
     "text": [
      "/home/hitkul/anaconda3/envs/ps3/lib/python3.6/importlib/_bootstrap.py:219: RuntimeWarning: compiletime version 3.5 of module 'tensorflow.python.framework.fast_tensor_util' does not match runtime version 3.6\n",
      "  return f(*args, **kwds)\n"
     ]
    }
   ],
   "source": [
    "#imports\n",
    "import pandas as pd\n",
    "import numpy as np\n",
    "import tensorflow as tf\n",
    "import tflearn\n",
    "from tflearn.data_utils import to_categorical\n",
    "from collections import Counter"
   ]
  },
  {
   "cell_type": "code",
   "execution_count": 230,
   "metadata": {},
   "outputs": [],
   "source": [
    "#loading data\n",
    "headlines = pd.read_csv('FiQA_train_ABSA_financial_headlines.tsv',delimiter='\\t',header=0)\n",
    "posts = pd.read_csv('FiQA_train_ABSA_financial_posts.tsv',delimiter='\\t',header=0)\n",
    "posts = posts.drop(['Unnamed: 0', 'id'],axis=1)\n",
    "headlines = headlines.drop(['Unnamed: 0', 'id'],axis=1)\n",
    "posts_text = posts.iloc[:,:1]\n",
    "posts_score = posts.iloc[:,1:]\n",
    "headlines_text = headlines.iloc[:,:1]\n",
    "headlines_score = headlines.iloc[:,1:]\n",
    "text_frames = [posts_text,headlines_text]\n",
    "score_frames = [posts_score,headlines_score]\n",
    "text = pd.concat(text_frames)\n",
    "score = pd.concat(score_frames)\n",
    "# text = pd.read_csv('reviews.txt', header=None)\n",
    "# score = pd.read_csv('labels.txt', header=None)"
   ]
  },
  {
   "cell_type": "code",
   "execution_count": 231,
   "metadata": {},
   "outputs": [],
   "source": [
    "#counting word frequency to create vocabulary\n",
    "counter_ = Counter()\n",
    "for txt in text.values:\n",
    "    for word in txt[0].split(\" \"):\n",
    "        counter_[word]+=1"
   ]
  },
  {
   "cell_type": "code",
   "execution_count": 232,
   "metadata": {},
   "outputs": [
    {
     "name": "stdout",
     "output_type": "stream",
     "text": [
      "11384\n"
     ]
    }
   ],
   "source": [
    "print(len(counter_))"
   ]
  },
  {
   "cell_type": "code",
   "execution_count": 237,
   "metadata": {
    "collapsed": true
   },
   "outputs": [],
   "source": [
    "#keeping only 1000 most commmon words, frequency of 1000th word can be used to see if we need ot increase or decrease this number\n",
    "vocabulary = sorted(counter_,key=counter_.get,reverse = True)[:1000]"
   ]
  },
  {
   "cell_type": "code",
   "execution_count": 238,
   "metadata": {},
   "outputs": [
    {
     "data": {
      "text/plain": [
       "9"
      ]
     },
     "execution_count": 238,
     "metadata": {},
     "output_type": "execute_result"
    }
   ],
   "source": [
    "counter_[vocabulary[-1]]"
   ]
  },
  {
   "cell_type": "code",
   "execution_count": 239,
   "metadata": {
    "collapsed": true
   },
   "outputs": [],
   "source": [
    "#word to index, will need this mapping to create word vector \n",
    "word_to_index = dict()\n",
    "for index,word in enumerate(vocabulary):\n",
    "    word_to_index[word] = index"
   ]
  },
  {
   "cell_type": "code",
   "execution_count": 240,
   "metadata": {
    "collapsed": true
   },
   "outputs": [],
   "source": [
    "def get_word_vector(data):\n",
    "    vector = np.zeros(len(vocabulary), dtype=np.int_)\n",
    "    for word in data.split(' '):\n",
    "        index = word_to_index.get(word, None)\n",
    "        if index != None:\n",
    "            vector[index]+=1\n",
    "    return vector"
   ]
  },
  {
   "cell_type": "code",
   "execution_count": null,
   "metadata": {
    "collapsed": true
   },
   "outputs": [],
   "source": []
  },
  {
   "cell_type": "code",
   "execution_count": 241,
   "metadata": {},
   "outputs": [],
   "source": [
    "text_vectors = np.zeros((len(text),len(vocabulary)),dtype=np.int_)\n",
    "for index,(_,data) in enumerate(text.iterrows()):\n",
    "    text_vectors[index] = get_word_vector(data[0])"
   ]
  },
  {
   "cell_type": "code",
   "execution_count": 242,
   "metadata": {},
   "outputs": [
    {
     "data": {
      "text/plain": [
       "array([[0, 0, 1, ..., 0, 0, 0],\n",
       "       [0, 0, 1, ..., 0, 0, 0],\n",
       "       [0, 0, 0, ..., 0, 0, 0],\n",
       "       [0, 0, 0, ..., 0, 0, 0],\n",
       "       [0, 0, 0, ..., 0, 0, 0]])"
      ]
     },
     "execution_count": 242,
     "metadata": {},
     "output_type": "execute_result"
    }
   ],
   "source": [
    "text_vectors[:5]"
   ]
  },
  {
   "cell_type": "code",
   "execution_count": 245,
   "metadata": {},
   "outputs": [
    {
     "data": {
      "text/plain": [
       "1    2407\n",
       "0    1382\n",
       "Name: sentiment score, dtype: int64"
      ]
     },
     "execution_count": 245,
     "metadata": {},
     "output_type": "execute_result"
    }
   ],
   "source": [
    "#converting scores into positive and negative classes\n",
    "Y = (score>=0).astype(np.int_)\n",
    "Y['sentiment score'].value_counts()"
   ]
  },
  {
   "cell_type": "code",
   "execution_count": 249,
   "metadata": {},
   "outputs": [],
   "source": [
    "shuffle = np.arange(len(score))\n",
    "np.random.shuffle(shuffle)\n",
    "test_train_split = 0.9\n",
    "train_split, test_split = shuffle[:int(len(score)*test_train_split)], shuffle[int(len(score)*test_train_split):]\n",
    "trainX, trainY = text_vectors[train_split,:], to_categorical(Y.values[train_split].ravel(), 2)\n",
    "testX, testY = text_vectors[test_split,:], to_categorical(Y.values[test_split].ravel(), 2)"
   ]
  },
  {
   "cell_type": "code",
   "execution_count": 250,
   "metadata": {},
   "outputs": [
    {
     "data": {
      "text/plain": [
       "array([[ 1.,  0.],\n",
       "       [ 0.,  1.],\n",
       "       [ 1.,  0.],\n",
       "       ..., \n",
       "       [ 0.,  1.],\n",
       "       [ 0.,  1.],\n",
       "       [ 0.,  1.]])"
      ]
     },
     "execution_count": 250,
     "metadata": {},
     "output_type": "execute_result"
    }
   ],
   "source": [
    "trainX = tflearn.data_utils.pad_sequences(trainX, maxlen=100, value=0.)\n",
    "testX = tflearn.data_utils.pad_sequences(testX, maxlen=100, value=0.)\n",
    "trainY"
   ]
  },
  {
   "cell_type": "code",
   "execution_count": 251,
   "metadata": {
    "collapsed": true
   },
   "outputs": [],
   "source": [
    "# Network building\n",
    "# tf.reset_default_graph()\n",
    "# net = tflearn.input_data([None, 100])\n",
    "# net = tflearn.embedding(net, input_dim=len(vocabulary), output_dim=128)\n",
    "# net = tflearn.lstm(net, 128, dropout=0.8)\n",
    "# net = tflearn.fully_connected(net, 2, activation='softmax')\n",
    "# net = tflearn.regression(net, optimizer='adam', learning_rate=0.001,\n",
    "#                          loss='categorical_crossentropy')\n",
    "\n",
    "tf.reset_default_graph()\n",
    "net = tflearn.input_data([None, 100])                          # Input\n",
    "net = tflearn.fully_connected(net, 200, activation='ReLU')      # Hidden\n",
    "net = tflearn.fully_connected(net, 25, activation='ReLU')\n",
    "net = tflearn.fully_connected(net, 2, activation='softmax')   # Output\n",
    "net = tflearn.regression(net, optimizer='sgd', learning_rate=0.1, loss='categorical_crossentropy')\n"
   ]
  },
  {
   "cell_type": "code",
   "execution_count": 252,
   "metadata": {},
   "outputs": [
    {
     "name": "stdout",
     "output_type": "stream",
     "text": [
      "Training Step: 9599  | total loss: \u001b[1m\u001b[32m0.23581\u001b[0m\u001b[0m | time: 0.381s\n",
      "| SGD | epoch: 100 | loss: 0.23581 - acc: 0.8935 -- iter: 3040/3069\n",
      "Training Step: 9600  | total loss: \u001b[1m\u001b[32m0.23032\u001b[0m\u001b[0m | time: 1.388s\n",
      "| SGD | epoch: 100 | loss: 0.23032 - acc: 0.8947 | val_loss: 0.99878 - val_acc: 0.6686 -- iter: 3069/3069\n",
      "--\n"
     ]
    }
   ],
   "source": [
    "model = tflearn.DNN(net, tensorboard_verbose=0)\n",
    "model.fit(trainX, trainY,n_epoch=100,validation_set=0.1, show_metric=True,batch_size=32)"
   ]
  },
  {
   "cell_type": "code",
   "execution_count": 255,
   "metadata": {
    "scrolled": true
   },
   "outputs": [
    {
     "name": "stdout",
     "output_type": "stream",
     "text": [
      "Test accuracy:  0.68073878628\n"
     ]
    },
    {
     "data": {
      "text/plain": [
       "array([1, 1, 0, 0, 0, 1, 1, 0, 0, 0, 0, 0, 0, 0, 0, 0, 0, 0, 0, 0, 1, 1, 0,\n",
       "       0, 0, 0, 1, 0, 0, 0, 0, 0, 0, 0, 1, 0, 0, 1, 1, 0, 0, 0, 0, 0, 0, 1,\n",
       "       1, 0, 0, 0, 0, 0, 0, 0, 0, 1, 0, 1, 1, 0, 0, 0, 0, 0, 1, 0, 1, 1, 1,\n",
       "       0, 1, 1, 0, 0, 0, 1, 0, 0, 0, 1, 0, 0, 0, 1, 1, 0, 0, 1, 1, 0, 0, 1,\n",
       "       1, 1, 0, 0, 0, 0, 1, 0, 0, 0, 1, 0, 0, 0, 0, 0, 1, 1, 0, 0, 0, 0, 1,\n",
       "       0, 0, 1, 0, 0, 0, 1, 0, 0, 0, 0, 0, 0, 1, 1, 1, 0, 1, 0, 0, 0, 0, 0,\n",
       "       0, 1, 0, 1, 0, 0, 1, 0, 1, 1, 0, 1, 0, 1, 0, 1, 0, 1, 0, 0, 0, 0, 1,\n",
       "       1, 1, 1, 1, 0, 0, 0, 0, 0, 0, 1, 0, 0, 0, 1, 0, 0, 1, 1, 1, 1, 1, 0,\n",
       "       0, 1, 0, 0, 0, 1, 0, 0, 0, 1, 0, 1, 0, 0, 1, 0, 0, 1, 1, 0, 0, 1, 0,\n",
       "       0, 0, 0, 1, 0, 1, 0, 0, 0, 1, 0, 0, 0, 0, 0, 1, 1, 0, 0, 0, 0, 1, 0,\n",
       "       1, 1, 1, 1, 1, 1, 0, 1, 1, 0, 0, 0, 1, 0, 1, 0, 0, 1, 1, 0, 0, 1, 0,\n",
       "       1, 0, 1, 1, 0, 1, 1, 0, 1, 1, 0, 1, 1, 0, 0, 0, 0, 0, 0, 0, 0, 0, 0,\n",
       "       0, 0, 0, 0, 0, 0, 0, 0, 0, 0, 1, 0, 0, 0, 0, 0, 0, 1, 1, 0, 0, 1, 1,\n",
       "       1, 0, 0, 0, 0, 0, 0, 0, 0, 1, 0, 0, 0, 0, 1, 0, 0, 1, 1, 0, 0, 0, 1,\n",
       "       0, 1, 1, 0, 0, 0, 0, 1, 1, 0, 0, 0, 0, 1, 0, 1, 0, 0, 1, 1, 1, 1, 0,\n",
       "       0, 1, 0, 1, 0, 0, 0, 0, 0, 0, 0, 0, 1, 1, 1, 0, 0, 0, 1, 0, 1, 1, 0,\n",
       "       0, 1, 0, 0, 0, 0, 0, 0, 1, 0, 0])"
      ]
     },
     "execution_count": 255,
     "metadata": {},
     "output_type": "execute_result"
    }
   ],
   "source": [
    "# (np.array(model.predict(testX))[:,0]>=0.5).astype(np.int_)\n",
    "\n",
    "predictions = (np.array(model.predict(testX))[:,0] >= 0.5).astype(np.int_)\n",
    "test_accuracy = np.mean(predictions == testY[:,0], axis=0)\n",
    "print(\"Test accuracy: \", test_accuracy)\n",
    "predictions"
   ]
  },
  {
   "cell_type": "code",
   "execution_count": null,
   "metadata": {
    "collapsed": true
   },
   "outputs": [],
   "source": []
  }
 ],
 "metadata": {
  "kernelspec": {
   "display_name": "Python 3",
   "language": "python",
   "name": "python3"
  },
  "language_info": {
   "codemirror_mode": {
    "name": "ipython",
    "version": 3
   },
   "file_extension": ".py",
   "mimetype": "text/x-python",
   "name": "python",
   "nbconvert_exporter": "python",
   "pygments_lexer": "ipython3",
   "version": "3.6.3"
  }
 },
 "nbformat": 4,
 "nbformat_minor": 2
}
