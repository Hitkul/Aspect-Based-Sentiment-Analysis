{
 "cells": [
  {
   "cell_type": "code",
   "execution_count": 43,
   "metadata": {},
   "outputs": [],
   "source": [
    "#multi channel CNN for sentiment analysis\n",
    "from nltk.corpus import stopwords\n",
    "from string import punctuation\n",
    "import pandas as pd\n",
    "import numpy as np\n",
    "import re\n",
    "import json\n",
    "# import codecs\n",
    "import word2vecReader as godin_embedding\n",
    "from keras.utils import to_categorical\n",
    "from keras.models import load_model\n",
    "from gensim.models import KeyedVectors\n",
    "import matplotlib.pyplot as plt\n",
    "%matplotlib inline\n",
    "plt.rcParams[\"figure.figsize\"] = [5,5]\n",
    "plt.style.use('seaborn-notebook')\n",
    "from sklearn.metrics import mean_squared_error,r2_score,confusion_matrix\n",
    "from aspect_specific_prob import get_normalized_sentence_relation_vector\n",
    "from scipy.interpolate import interp1d\n",
    "import itertools"
   ]
  },
  {
   "cell_type": "code",
   "execution_count": 267,
   "metadata": {
    "collapsed": true
   },
   "outputs": [],
   "source": [
    "#loading data\n",
    "def load_data_from_file(filename):\n",
    "    print(\"loading file = \",filename)\n",
    "    with open(filename,'r') as f:\n",
    "        foo = json.load(f)\n",
    "        \n",
    "    sentence_id =[]\n",
    "    sentence = []\n",
    "    score = []\n",
    "    for key in foo.keys():\n",
    "        for info in foo[key]['info']:\n",
    "            print(type(info['snippets']))\n",
    "#         sentence_id.append(key)\n",
    "#         sentence.append(foo[key]['sentence'])\n",
    "#         score.append(float(foo[key]['info'][0]['sentiment_score']))\n",
    "    labels = [1 if x>=0 else 0 for x in score]\n",
    "    return sentence_id,sentence,score,labels"
   ]
  },
  {
   "cell_type": "code",
   "execution_count": 268,
   "metadata": {
    "collapsed": true
   },
   "outputs": [],
   "source": [
    "# def load_data_temp(filename):\n",
    "#     print(\"loading file = \",filename)\n",
    "#     with open(filename,'r') as f:\n",
    "#         foo = json.load(f)\n",
    "#     return foo['sentence'],foo['labels']"
   ]
  },
  {
   "cell_type": "code",
   "execution_count": 269,
   "metadata": {},
   "outputs": [
    {
     "name": "stdout",
     "output_type": "stream",
     "text": [
      "loading file =  dataset/master.json\n",
      "['set to step down']\n",
      "['Facing Tough Competition']\n",
      "['Crest loses a third of Morrisons milk contract']\n",
      "['hires Aviva's David Hillier for multi-asset team']\n",
      "['after strong sales']\n",
      "['to grow this year after solid end to 2014']\n",
      "['sells Blinkbox and broadband service to']\n",
      "['sells Blinkbox and broadband service to']\n",
      "['despite sales slump']\n",
      "['Tesco leads leap in FTSE 100; ']\n",
      "['dividend up 4%']\n",
      "['Shire's Deal for NPS']\n",
      "['Group Sign Memo of Understanding ..']\n",
      "['FDA Approves']\n",
      "['FDA Approves Generic Versio']\n",
      "['rise at EasyJet and Aer Lingus']\n",
      "['Video-Streaming Ambitions']\n",
      "['Tesco Abandons Video-Streaming Ambitions ']\n",
      "['validating Shire takeover deal']\n",
      "['Settlement With California Regulator']\n",
      "['festive sales test']\n",
      "['share price dips']\n",
      "['Tesco share price dips']\n",
      "['Shire to buy NPS for $5.2 billion to boost rare disease drugs']\n",
      "['Licensing Deal With Omnis Pharmaceuticals']\n",
      "['FDA approves Shire's Vyvanse']\n",
      "['announces arrival of London IPO']\n",
      "['IAG can pay more for Aer Lingus']\n",
      "['share price jumps']\n",
      "['concrete bid for Holcim Lafarge assets']\n",
      "['share price climbs on 23% rise']\n",
      "['lower limit on potential fine for BP']\n",
      "['share price slides']\n",
      "['reiterates annual outlook after tough 2014']\n",
      "['down from record high']\n",
      "['Lifts Dividend Again As Acquisitions Continue To Boost Profit']\n",
      "['to pay first dividend since rescue']\n",
      "['set to complete $20 billion Novartis asset swap next week']\n",
      "['tumbles as profit falls in 'challenging year'']\n",
      "['shares have seen recent volatility']\n",
      "['Smartphone Market Regains Strength']\n",
      "['Farms CEO Connolly to Top Pos']\n",
      "['appoints new CEO']\n",
      "['Cuts 2015 Budget, Plans To Divest From Lonmin']\n",
      "['as ECB Depresses Rates']\n",
      "['Suspends Dividend']\n",
      "['fail to find reserves']\n",
      "['lags on capital worries']\n",
      "['Insurer buys advice firm Pearson Jones']\n",
      "['closes in on new chairman']\n",
      "['new chairman with Dixons Carphone's']\n",
      "['Delivers 2.9% Underlying Net Income Growth']\n",
      "['reportedly appoint Howard Davies as its next chairman']\n",
      "['Tax Evasion Claims']\n",
      "['sees sales grow']\n",
      "['fill gap as CEO leaves']\n",
      "['Profit Up Strongly, Outlook Positive']\n",
      "['CRH backs Lafarge Holcim asset buy']\n",
      "[' shareholders back ITV head for chairman']\n",
      "['builds Deere stake ']\n",
      "['builds Deere stake, ']\n",
      "['Fined $27 Million by U.K. Regulator Over Fee Failings']\n",
      "['invalidated by US court']\n",
      "['to Ensure Compliance After Petrobras Bribery Report']\n",
      "['share price climbs']\n",
      "['defends Berkshire Hathaway's conglomerate structure']\n",
      "['contract problems remain']\n",
      "['lifts profits 38%']\n",
      "['share price surges']\n",
      "['boss faces stiff challenge']\n",
      "['Traffic Up']\n",
      "['Passenger Numbers, Aer Lingus Traffic Up']\n",
      "['Investing In Tesco PLC And Prudential plc Now?']\n",
      "['FTSE 100 Gainers']\n",
      "['in tough market']\n",
      "['bid for Mr Bricolage runs into trouble']\n",
      "['shares leap in UK's biggest private equity-backed listing']\n",
      "['drive markets higher']\n",
      "['Taylor Wimpey and Ashtead drive markets higher']\n",
      "['Taylor Wimpey and Ashtead drive markets higher']\n",
      "['complete deals to reshape both drugmakers']\n",
      "['Life top forecasts ahead of 5.6 billion pound merger']\n",
      "['to Sell OneMain to Springleaf for $4.25 Billion']\n",
      "['to Sell OneMain to Springleaf for $4.25 Billion']\n",
      "['U.K. Stocks Resume Gains to Rally to Record;']\n",
      "['British American Tobacco drops']\n",
      "['UK's FTSE has worst day so far in 201']\n",
      "['in Total Recall: how pulling a product affects profit']\n",
      "['in Total Recall: how pulling a product affects profit']\n",
      "['Merger Came Together in Speedy 10 Weeks']\n",
      "['Teams With Daiichi Sankyo To Sell Movantik In US']\n",
      "['Teams With Daiichi Sankyo To Sell Movantik In US']\n",
      "['Sensex pares gains']\n",
      "['poaches Prudential's Thiam for Asian push']\n",
      "['poaches Prudential's Thiam for Asian push']\n",
      "['Kingfisher takeover of Mr Bricolage could hit a brick wall']\n",
      "['Barclays, Shell Fall']\n",
      "['Admiral blows hot and cold']\n",
      "['AstraZeneca And Daiichi Sankyo To Jointly Commercialise MOVANTIK']\n",
      "['AstraZeneca And Daiichi Sankyo To Jointly Commercialise MOVANTIK']\n",
      "['Legal & General arm buys 50 pct stake in MediaCityUK']\n",
      "['dividend still increases']\n",
      "['lifts dividend,']\n",
      "['Aviva tops the market']\n",
      "['picks Standard Bank's Hemphill as new CEO']\n",
      "['backs safety updates for AstraZenec']\n",
      "['FDA panel backs safety updates for AstraZeneca,']\n",
      "['India boardroom turmoil']\n",
      "['will not affect image of']\n",
      "['will not affect image of budget air trave']\n",
      "['Deal Meets Shareholder Skepticism']\n",
      "['offers 50 percent premium to buy']\n",
      "['boosts sales']\n",
      "['buy BG Group in $69.7 billion takeover']\n",
      "['Shares Rise']\n",
      "['shareholders back more disclosure on climate change risks']\n",
      "['challenges Exxon dominance with 47 billion-pound bid for BG']\n",
      "['challenges Exxon dominance with 47 billion-pound bid for BG']\n",
      "['Royal Dutch Shell to Buy BG Group for Nearly $70 Billion']\n",
      "['omes up short with sales slide']\n",
      "['United Spirits on financial irregularitie']\n",
      "['on financial irregularities involving ..']\n",
      "['Wins $9.2 Billion Order From Emirates Airline']\n",
      "['sales rise']\n",
      "['sales disappoint']\n",
      "['as sales of stalwarts fade']\n",
      "['Profit Up As Sales Continue To Ris']\n",
      "['blames rivals']\n",
      "['$6 bln capital return plan']\n",
      "['leads Britain's FTSE lower']\n",
      "['Quarterly Dividends']\n",
      "['BG Group Still Happy With Shell's $70 Billion Offer']\n",
      "['buys Meantime']\n",
      "['shuts Friends Life head office in rapid integration move']\n",
      "['rise in Britain's share index']\n",
      "['scraps ViiV IPO']\n",
      "['share price closes higher']\n",
      "['Clubcard bid reports']\n",
      "['Has Broken Out To A New High']\n",
      "['gross sales beat']\n",
      "['settles oil spill-related claims']\n",
      "['settles oil spill-related claims with']\n",
      "['share price']\n",
      "['share price fall']\n",
      "['Sue Over Law Taking Branding Off Packs']\n",
      "['BAT Sue Over Law Taking Branding Off Packs']\n",
      "['share price falls']\n",
      "['Set To Appoint Roy Gardner, Ex-Centrica, As Chairman - FT']\n",
      "['Set To Appoint Roy Gardner, Ex-Centrica, As Chairman']\n",
      "['Semiconductor offers to buy Integrated Silicon Solution']\n",
      "['RBS must pay $806 mln in mortgage bond case-']\n",
      "['Board Names Gavin Hattersley Interim CEO']\n",
      "['after dividend hike']\n",
      "['Mondi and Barratt lead']\n",
      "['Britain's FTSE bounces back']\n",
      "['Sales Up 18%']\n",
      "['UK sales growth']\n",
      "['Aldi and Lidl expansion']\n",
      "['extends gas deals']\n",
      "['extends gas deals']\n",
      "['says conditions to remain challenging']\n",
      "['share price jumps']\n",
      "['diffuse investor tension']\n",
      "['downgrades Barclays and RBS']\n",
      "['London listing']\n",
      "['sales outlook']\n",
      "['adds ex-SEC head Schapiro to board']\n",
      "['Sales boost']\n",
      "['flat; Standard Chartered leads risers']\n",
      "['appointment as RBS director delayed']\n",
      "['David Nish quits as chief executive']\n",
      "['profit boost on strong sales']\n",
      "['rallies off three-month low']\n",
      "['rallies off three-month low']\n",
      "['lead FTSE lower']\n",
      "['pressures take a toll']\n",
      "['raise $100m in London IPO']\n",
      "['Stifel to buy former Lehman brokerage']\n",
      "['putting together new Severn Trent bid']\n",
      "['Greek debt concerns']\n",
      "['share price slumps']\n",
      "['After Settling With Lehman Bros Trustee']\n",
      "['Expects Gain']\n",
      "['books further Â£30m cost for Shetland gas terminal delays']\n",
      "['share price rise']\n",
      "['defends sales fall as 'just a blip'']\n",
      "['share price subdued']\n",
      "['Shire takeover talk']\n",
      "['Shire takeover talk']\n",
      "['LSE gets Hong Kong regulatory nod']\n",
      "['Diageo Shares Surge']\n",
      "['s surprise at size of regulatory penalties']\n",
      "['Insurance Hires Towergate's Egan as Chief Financial Officer']\n",
      "['raises prospect of investor payout']\n",
      "['Denies Reports of Starwood Merger Talks']\n",
      "['help Britain's FTSE to climb higher']\n",
      "['FDA Approves AstraZeneca's Iressa']\n",
      "['suffers setback']\n",
      "['hurt by currency moves']\n",
      "['Insurance Considering Offer for UK Rival RSA Insurance']\n",
      "['lands Financial Times in $1.3 billion deal']\n",
      "['sued by 'tax avoidance' clients']\n",
      "['sued by 'tax avoidance' clients']\n",
      "['sued by 'tax avoidance' clients']\n",
      "['sells rare cancer drug to Sanofi']\n",
      "['sells unit to LloydsPharmacy']\n",
      "['sales boosted by']\n",
      "['breached competition law']\n",
      "['FTSE steadies, supported by Dixons Carphone']\n",
      "['Signs China Manufacturing Deal With Desano']\n",
      "['sells Caprelsa rights to Sanofi unit']\n",
      "['to speed up strategic change']\n",
      "['Rio Tinto Sink in Commodities Rout']\n",
      "['FTSE led lowe']\n",
      "['to buy Fokker Technologies']\n",
      "['Sells Ryder Cup Venue Gleneagles Hotel to Ennismore Group']\n",
      "['Sells Ryder Cup Venue Gleneagles Hotel to Ennismore Group']\n",
      "['Legal & General Sell Egyptian Life Joint Venture To AXA']\n",
      "[' Set To Be Acquired By WPP And Providence']\n",
      "['to reshape business, strip costs']\n",
      "['to Pay Inovio Up to $700 Million for Cancer Drug']\n",
      "['iron ore market at equilibrium']\n",
      "['US sanctions put ']\n",
      "['Not Raising Capital Yet As Dividend Cut']\n",
      "['credit ratings fragile in FY16, agencies warn']\n",
      "['adds CR Laurence to acquisitions tally for $1.3bn']\n",
      "['buys remaining rights to GSK treatment in deal up to $1 billion']\n",
      "['bags another cancer drug deal']\n",
      "['Investors to move 34 bln euros in assets from AXA fund arm']\n",
      "['still paying price for dividend cut']\n",
      "['Reports 37 Percent Drop in 2Q Earnings']\n",
      "['Hikes Dividend 20% As Profit And Revenue Rise']\n",
      "['sales fall as march of the discounters']\n",
      "['proposes $30 bln all-share tie-up with']\n",
      "['CEO steps up drive to get Baxalta board talking']\n",
      "['Asda sales fall as march of the discounters continues']\n",
      "['accused of hurting rivals']\n",
      "['FTSE 100 falls as']\n",
      "['agree to pay $2 billion to settle forex .']\n",
      "['driving Â£180m IPO']\n",
      "['debt fears grow']\n",
      "['e acquires neighbouring Glencore nickel property']\n",
      "['confirms CEO appointment']\n",
      "['unveils which stores will close as 900 jobs face the axe']\n",
      "['debt fears grow']\n",
      "['Gains Foothold In China']\n",
      "['Partners With International Business Machines Corp. To Drive']\n",
      "['Partners With International Business Machines Corp']\n",
      "['FTSE 100 drops 2.5 pct']\n",
      "['Citigroup has blockchain in sight']\n",
      "['Citigroup has blockchain in sight']\n",
      "['approaches SABMiller to explore $250bn tie-up']\n",
      "['regulator backs approval for GSK']\n",
      "['over debt fears']\n",
      "['Ashtead jumps on strong interims']\n",
      "['seeks $275 bln tie-up with SABMiller']\n",
      "['looks to win over SABMiller investors']\n",
      "['EU regulator backs approval for GSK']\n",
      "['Copper market']\n",
      "['TalkTalk hires BAE Systems']\n",
      "['AB InBev Bid for SABMiller Ups Stake']\n",
      "['signals it won't go hostile']\n",
      "['faces delay after FDA rebuf']\n",
      "['Appoints Ranjan Ray Chaudhuri as Global Commercial Lead']\n",
      "['hit by weaker EM currencies']\n",
      "['rejects AB InBev's $104 bln takeover approach']\n",
      "['Market Report: Eight-day rally ends for FTSE 100']\n",
      "['offers SABMiller $3 billion breakup fee']\n",
      "['joins China trade push']\n",
      "['ups offer for SABMiller']\n",
      "['Tesco PLC's Recovery Continues']\n",
      "['METALS-Zinc surges 12 pct after']\n",
      "['sales lifted by ice cream in soft economy']\n",
      "['Latest Bid Said Unlikely to Win SABMiller's Approval']\n",
      "['FTSE forges ahead as Shire surges']\n",
      "['attacks SABMiller bid rebuffal']\n",
      "['InBev Increases Offer for Rival SABMiller']\n",
      "['Why I'd Buy ARM Holdings plc And BHP Billiton plc Today']\n",
      "['Are The 2 Banks I'd Buy Today']\n",
      "['Dismisses Lufthansa Low-Cost Plan in Contest for Germany']\n",
      "['China's CNPC to unveil oil alliance - sources']\n",
      "['Digs In With Board Divided on InBev Offer']\n",
      "['form Joint Venture Limited Liability Company to Purchase ..']\n",
      "['$236 Million Jury Award Agains']\n",
      "['Shares Plunge 7%']\n",
      "['wins race for 'programmatic buying' agency Essence Digital']\n",
      "['Brazil to sue Samarco for Â£3.5bn']\n",
      "['slides on balance sheet worries']\n",
      "['FDA approves AstraZeneca']\n",
      "['appoints business leaders to board']\n",
      "['shakes up board with two new business chiefs, three departures']\n",
      "['FDA approval for key new lung cancer pill']\n",
      "['cut 945 jobs as part of 3-year restructuring plan']\n",
      "['Shifts Emerging-Markets Strategy']\n",
      "['Tagrisso Gets FDA Approval']\n",
      "['share price rises as first half profi']\n",
      "['as sole legal seller of Libyan oil']\n",
      "['as part of three-year restructuring strategy']\n",
      "['to Buy ZS Pharma for $2.7 Billion']\n",
      "['in email, says supports']\n",
      "['sells US drug rights to Perrigo for $380 mln']\n",
      "['AstraZeneca buys ZS Pharma for $2.7 billion, pips Actelion']\n",
      "['Shire to buy Dyax for about $5.9 bln']\n",
      "['poised to replace Sir Mike Rake as he heads for exit']\n",
      "['AstraZeneca Acquires ZS Pharma in $2.7 Billion Deal']\n",
      "['shares climb 3% as drug maker ups profits forecasts']\n",
      "['Peroni and Grolsch put up for sale as ']\n",
      "['expects resilient demand to withstand security fears']\n",
      "['says positive for year ahead']\n",
      "['wipes out sales gains for SABMiller']\n",
      "[' underlying sales rise']\n",
      "['lift SABMiller's quarterly underlying sales']\n",
      "['Heed Critics After `Painful' Experience']\n",
      "['No real aspect?']\n",
      "['No real aspect?']\n",
      "['RBS struggle in Bank of England stress tests']\n",
      "['struggle in Bank of England stress tests']\n",
      "['sells benchmark indices unit']\n",
      "['will all cut petrol prices as oil falls ...']\n",
      "['will all cut petrol prices as oil falls ...']\n",
      "['will all cut petrol prices as oil falls ...']\n",
      "['benchmark investigation']\n",
      "['benchmark investigation']\n",
      "['Explores Potential Deal ']\n",
      "['Shareholders to Vote on Deal at End of January']\n",
      "['chases Acerta to secure next cancer drug winner']\n",
      "['off to a bad start over Xmas']\n",
      "['emerge as potential bidders for']\n",
      "['Are Red-Hot Growth Stars']\n",
      "['to buy Wilshire Bancorp in $1 bln deal']\n",
      "['price jumps on report of Comcast's NBCUniversal']\n",
      "['share price jumps on report of']\n",
      "['Possible IPO for Agricultural Trading Business']\n",
      "['Can Christmas Save..... ?']\n",
      "[' boosts respiratory unit with $575 mln Takeda deal']\n",
      "['win Â£100m BP contract extension']\n",
      "['Escape Capital Raising in Stress Test']\n",
      "['Escape Capital Raising in Stress Test']\n",
      "['weighing up Acerta bid to']\n",
      "['2 Turnaround Buys']\n",
      "['completes UK's largest medically underwritten bulk pension risk dea']\n",
      "['to buy Baxalta for $32 billion after 6-month pursuit']\n",
      "['share price slides on cost to']\n",
      "['says internal synergy goals from Baxalta deal higher']\n",
      "['shares plunge,']\n",
      "['with Christmas bounce back']\n",
      "['surprise City with Christmas bounce back']\n",
      "['FTSE falls back with Ashtead,']\n",
      "['jump 6% after Christmas sales beat expectations']\n",
      "['meet Italy econ minister as M&A talk heats up']\n",
      "['trims gains but is considered 'in play'']\n",
      "['says to partner with Kirin if']\n",
      "['says to partner with Kirin if']\n",
      "['Investors Remain Skeptical About Shell-BG Deal']\n",
      "['MarketsShire up 2.5% ']\n",
      "['share price under pressure after $32bn Baxalta deal']\n",
      "['share price under pressure after $32bn Baxalta deal']\n",
      "['Interim Leader as CEO Remains Hospitalized']\n",
      "['Said to Name New CEO With Pearson Still Hospitalized']\n",
      "['hit 10-month high on rating upgrade']\n",
      "['to submit bid next week']\n",
      "['to close 134 UK stores as sales jump']\n",
      "['Broker tips:']\n",
      "['Broker tips:']\n",
      "['Standard Life announce position against BG acquisition']\n",
      "['Standard Life announce position against BG acquisition']\n",
      "['share price down']\n",
      "['Britain's FTSE outperforms Europe, Royal Mail and Tesco rise']\n",
      "['third quarter sales boosted']\n",
      "['$1.5bn special dividend']\n",
      "['to attack UK grocery market']\n",
      "['share price: Acerta deal pays off']\n",
      "['slashes dividend']\n",
      "['Merged LSE and Deutsche BÃ¶rse']\n",
      "['Should You Buy....?']\n",
      "['Should You Buy....?']\n",
      "['Is Trouble Brewing At Legal & General Group Plc And Aviva plc?']\n",
      "['after slashing dividend']\n",
      "['slashes dividend']\n",
      "['profits hit by weak energy and military markets']\n",
      "['share price edges lower']\n",
      "['starts hunt for successor to CEO']\n",
      "['drops dividend policy']\n",
      "[' raises concerns over proposed..']\n",
      "['promotes upstream boss to deputy CEO']\n",
      "['Finance chief to step down']\n",
      "['Barclays poaches new chief operating officer Paul Compton']\n",
      "['profits and sales up']\n",
      "['appoints JPMorgan's Paul Compton as new COO']\n",
      "['Barclays appoints JPMorgan's Paul Compton']\n",
      "['is 'taking legal advice'']\n",
      "['considers offer for']\n",
      "['LSE surges as ICE says mulling offer']\n",
      "['LSE surges as ICE says mulling offer']\n",
      "['Set To Reinstate Dividend ']\n",
      "['Set To Reinstate Dividend ']\n",
      "['Set To Reinstate Dividend ']\n",
      "['swings to Â£347 mln loss']\n",
      "['Sanofi poaches AstraZeneca scientist']\n",
      "['by cutting sales decline']\n",
      "['s books solid earnings growth']\n",
      "['strategic update outlining its plan']\n",
      "['seals Â£22 billion merger with']\n",
      "['owner ICE may gatecrash Deutsche Boerse-LSE merger']\n",
      "['to Sell SABMiller Stake in']\n",
      "['merger would signal end to']\n",
      "['to Scrap U.K. Treasury's Dividend Rights']\n",
      "['confident in reslilience amid mixed markets']\n",
      "['criticised for 'disgraceful' advert showing domestic worker being slapped']\n",
      "['as investors cheer Kingfisher results']\n",
      "['Lender Cuts Dividends to Shore Up Capita']\n",
      "['gets lift from Prudential results']\n",
      "['grocery deal with Morrisons ']\n",
      "['Said to Start Lining Up Financing for']\n",
      "['to Withdraw Staff From']\n",
      "['Support Deutsche Boerse-LSE Merger']\n",
      "['weighs cash handou']\n",
      "['Reports Strong 2015 Growth']\n",
      "['Shell plan to break up Motiva, divide up assets']\n",
      "['plan to break up Motiva, divide up assets']\n",
      "['to sell more SAB assets as seeks']\n",
      "['Sales Pickup Isn't Enough']\n",
      "['Expects To Close Deal For']\n",
      "['Group mulls takeover of Canada's Entertainment One']\n",
      "['One dispels ITV takeover rumours']\n",
      "['dispels ITV takeover rumours']\n",
      "['to Sell Majority Stake in Bank BPH's Core Bank']\n",
      "['to Sell Majority Stake in Bank BPH's Core Bank']\n",
      "['with StanChart for UK unit sale - source']\n",
      "['working with StanChart for UK unit sale']\n",
      "['Crown Castle buys Tower Development Corp']\n",
      "['sells half of stake in ecommerce site Lazada to Alibaba for Â£90m']\n",
      "['sells half of stake in ecommerce site Lazada to Alibaba for Â£90m']\n",
      "['Agree on Plan for BPI Angola Exposure']\n",
      "['Isabel dos Santos Reach Agreement Over Angola Exposure']\n",
      "['launches new takeover bid for Banco BPI']\n",
      "['Despite sales growth,']\n",
      "['to pursue takeover of Canada's Entertainment One']\n",
      "['Sees Baxalta Deal Closing as Expected']\n",
      "['to Buy Barclay's Wealth Management Unit']\n",
      "['share price steady']\n",
      "['share price lifts']\n",
      "['Should You Follow Berkshire Hathaway Into Apple Stock?']\n",
      "['second consecutive quarter of sales growth']\n",
      "['postal regulation report']\n",
      "['of illegal tips to plumber']\n",
      "['AB InBev, SABMiller deal']\n",
      "['reports 'solid' start to the year']\n",
      "['discloses unit's ties to Iran, opens probe']\n",
      "['names Kara Raiguel to lead General Re unit']\n",
      "['stocks hover near 3-week low']\n",
      "['bucks weak markets']\n",
      "['SABMiller buyout plan']\n",
      "['not to face Scottish prosecution over RBS']\n",
      "['in tough UK market']\n",
      "['buys 49% stake in Pure food chain']\n",
      "['Chasing Standard Chartered']\n",
      "['share price rallies']\n",
      "['first-quarter global room revenue']\n",
      "['to Buy Anaesthetics From AstraZeneca for $520 Million']\n",
      "['Deutsche Boerse merger under threat']\n",
      "['to Replace Home Retail CEO Walden']\n",
      "['CFO Rogers to Replace Home Retail CEO']\n",
      "['BP joins forces with Det Norske in Norway']\n",
      "['books 4 billion stg H1 sales']\n",
      "['revs up on clean air drive']\n",
      "['downplay Brexit threat']\n",
      "['Goldman Sachs, Barclays, HSBC downplay Brexit threat']\n",
      "['Goldman Sachs, Barclays, HSBC downplay Brexit threat']\n",
      "['Asahi could be about to snap up more of SABMiller's beers ahead of AB InBev sale']\n",
      "['Asahi could be about to snap up more of SABMiller's beers ahead of AB InBev sale']\n",
      "['wrong to ignore Brexit ris']\n",
      "['dealmakers wrong to ignore Brexit risk']\n",
      "['sales recover']\n",
      "['but dividend rises']\n",
      "['3 must-have growth stocks?']\n",
      "['3 must-have growth stocks?']\n",
      "['stock jumps to new high']\n",
      "['set to sell Kipa, Giraffe businesses']\n",
      "['set to sell Kipa, Giraffe businesses']\n",
      "['to Acquire AdeS Soy-Based Beverage Business From Unilever']\n",
      "['to Acquire AdeS Soy-Based Beverage Business From Unilever']\n",
      "['$585 Million Charge on Settlement']\n",
      "['secure ownership of Ireland's Dundrum - Quick Facts']\n",
      "['higher dividends']\n",
      "['shares jump 8%']\n",
      "['Should you buy…. following today's news?']\n",
      "['Should you buy…. following today's news?']\n",
      "['seeks to boost its Wells Fargo stake above 10 percen']\n",
      "['share price tumbles a']\n",
      "['Shareholders Approve Merger With']\n",
      "['applies to boost Wells Fargo stake above 10 percen']\n",
      "['applies to boost Wells Fargo stake above 10 percen']\n",
      "['M&G suspend property funds as investors panic']\n",
      "['housing market']\n",
      "['increase dividend pay-out']\n",
      "['6% rise in house sales']\n",
      "['attracts more passengers']\n",
      "['Slowly adding some $FIO here but gotta be careful']\n",
      "['Long setup. MACD cross.']\n",
      "['both fundementals and charts look like poopoo this quarter.']\n",
      "['might be selling off ahead']\n",
      "['Looks good on the weekly chart.']\n",
      "['back over \"up\" trendline']\n",
      "['A close above here is looking good for the bulls']\n",
      "['That has to be the pressure on the stock']\n",
      "['Stock price implies you pay nothing for the business']\n",
      "['Calls are active in this month and weekly']\n",
      "['Letting the calls ride solo now']\n",
      "['Long setup. Closed above the 20MA. MACD cross. November catalyst.']\n",
      "['a close above 28.64 and we are ready to rock and roll']\n",
      "[\"I'm liking the price action\"]\n",
      "['closng higher from here']\n",
      "['I want this to break a new 52week']\n",
      "['bull move ended']\n",
      "['Double bottom with handle buy point']\n",
      "['though RSI and Stoch']\n",
      "['Downside breakout looks to be coming soon']\n",
      "['Target $15 plus on a close over $13.50 on better than avg daily Volume']\n",
      "['volatility squeeze']\n",
      "['Still short $LNG from $11.70 area...next stop could be down through $9.00.']\n",
      "['Covered my small $MWW short']\n",
      "['200 day resistance still intact']\n",
      "['broke DT line 1st, MACD cross']\n",
      "['weekly stochastics finally starting to turn up']\n",
      "['Next week we will pop higher']\n",
      "['longed']\n",
      "['is down, but weekly $34 calls']\n",
      "['Receives 7-Year, $50M Contract']\n",
      "['Green Mountain revenue misses, shares plunge']\n",
      "[\"watch 50ma's slope\"]\n",
      "['adding to position here']\n",
      "['September Comparable Store Sales -4%']\n",
      "['Double bottom with handle buy point']\n",
      "['continues to consolidate / base here']\n",
      "['Sets Up for Breakout']\n",
      "['trading at all-time high']\n",
      "['Reported very good earnings.']\n",
      "['Here come the shorts']\n",
      "['news is becoming very bullish again']\n",
      "[\"wouldn't be surprised if we took out 423\"]\n",
      "['broke out now of his bull flag channel and make new highs']\n",
      "['Nice little cup-and-handle shaping up on the 15-minute']\n",
      "[\"for all who don't know that means markets will tank now\"]\n",
      "['Markets Are Still Acting Weak']\n",
      "['reiterated \"Outperform\" rating']\n",
      "['longs...congrats...another HOD']\n",
      "['red before the bell']\n",
      "['long play']\n",
      "['Long setup. Watch for continuation and volume expansion here.']\n",
      "['Losing 10 week here']\n",
      "['the correleation between the dollar index and $SPY is simply amazing']\n",
      "[\"won't stay down\"]\n",
      "['Clearing this descending trend line']\n",
      "['Go Long until exp imo']\n",
      "[\"any rally beyond today's levels or into this range leads to meltdown.\"]\n",
      "['Numbers looked good, not great, but good']\n",
      "['looking very weak, could be a good short setup.']\n",
      "['darn those shorts!']\n",
      "['Bottom Pickers continue to get destroyed']\n",
      "['plans a 33% dividend hike']\n",
      "['MACD crossover a half-a-hair away on the weekly']\n",
      "['broken out of a major horizontal resistance']\n",
      "['getting through the 100 and 200 MA could see it run.']\n",
      "[\"I'm still skeptical. Will take profits\"]\n",
      "['staying strong']\n",
      "['even though the \"report\" is untrue and has been proven unture, the damage is done']\n",
      "['4 period RSI is down at 20']\n",
      "['Bid for Reargument Denied by Judge']\n",
      "['Crazy looking chart, but nearing breakout resistance line']\n",
      "['consolidating above 50 & 200 MA']\n",
      "[\"We're holding above Wednesday and Thursday closes. I'm leaning bullish\"]\n",
      "['Rowan Expands Share Repurchase Program']\n",
      "['sideways']\n",
      "['Resuming advance into new historical highs.']\n",
      "['Held its recent double bottom buy point']\n",
      "['breakout very likely']\n",
      "['Sales Were Off the Charts']\n",
      "['market tanking']\n",
      "['great short setting up']\n",
      "['Increases Annual Dividend Target']\n",
      "['still has a rising RSI & MACD']\n",
      "[\"crunching #'s\"]\n",
      "['hanging in well today. still in a basing pattern']\n",
      "['think shorting here into close might be play']\n",
      "['is a rocket ship!!!']\n",
      "['stocks look like a 5-10% run awaits. Long']\n",
      "['sits near hod']\n",
      "[\"I'm sure those short are holding their breath\"]\n",
      "['bear raid in effect. Stock down 12%']\n",
      "['I may try a short.']\n",
      "['wayyy overvalued right now IMO']\n",
      "['short from here.']\n",
      "['weak close']\n",
      "['Looking for a test at 9.25 resistance point']\n",
      "['hod poste']\n",
      "['short some']\n",
      "['Sales weak, margins down, debt still way up.']\n",
      "['Taking out the shorts here']\n",
      "['will challendge 200-EMA in not distant future']\n",
      "[\"Apple mastered EVERYONE'S supply chain!\"]\n",
      "['analyst upgrades last week']\n",
      "[\"It's accumulating. I think buy now or hold your peace. This should go up today/tomorrow.\"]\n",
      "['Looking for continuation with volume increase']\n",
      "['double dip dividend play']\n",
      "['sales numbers still holding up so well']\n",
      "['steep global sales increase']\n",
      "['Long 1/2 position']\n",
      "['price momentum weakening going into the close.']\n",
      "['still on track for $500']\n",
      "['fast 56pc div']\n",
      "['in for swing trade looks like want go up']\n",
      "['acquisition news']\n",
      "['Should have the channel cleared soon and on solid footing']\n",
      "['big bounce']\n",
      "['Resistance 10 points north at 200d and downward trendline']\n",
      "['wants lower. up waves getting smaller']\n",
      "['Short interest increases yet again']\n",
      "['this erases all of todays gains']\n",
      "['MACD CROSSOVER with RSI and STO going up']\n",
      "['take-over interest']\n",
      "['620 resistance area']\n",
      "[\"it's been a sinking ship\"]\n",
      "['was right to reject the offer']\n",
      "['Long LEAPS']\n",
      "['bounce right now has no vol']\n",
      "['now indicators turning up (RSI, MACD, SMI)']\n",
      "['Looking for bottom. Rsi under 30']\n",
      "['long']\n",
      "['Sell signal hit at 584, it will go down for the next 5 min']\n",
      "['bot at 2.24']\n",
      "['lets see one more dip to 2.0x']\n",
      "['pretty steady accumulation off support today']\n",
      "['Out of shorts']\n",
      "['horrible action since it hit 70 yesterday']\n",
      "['had a nice breakout of the recent consolidation']\n",
      "['picking up some speed. May 16 calls now +35%H']\n",
      "['Gundlach Slams iPad mini, Sees Downside']\n",
      "['AUG 645 calls +550%']\n",
      "['Went long on this']\n",
      "['nibbling on a small long']\n",
      "['Bounce off of Put OI & S1 pivot']\n",
      "['trade continuing very nicely from yesterday, almost up $3 from yesterday entry']\n",
      "['Small-caps / semis with a fakeout before the b/out.']\n",
      "['Poised to Pop']\n",
      "['Amazing run since middle of March']\n",
      "['ready to exit bankruptcy']\n",
      "['some upside today']\n",
      "['Looking for a oversold bounce.']\n",
      "['Descending triangle']\n",
      "['ascending base breakout starting to gain traction']\n",
      "['Test the high today']\n",
      "['Long']\n",
      "['shorts made a killing last couple days']\n",
      "['chart finally leads to a fall in price']\n",
      "['up pre mkt.']\n",
      "[\"Don't think buyout rumor strong enough\"]\n",
      "['Right back in ... - Buy the dips']\n",
      "['green and moving']\n",
      "['ready for a breakout']\n",
      "['under $2 today?']\n",
      "['breaking']\n",
      "['copyright infringement']\n",
      "['Oversold, falling wedge and positive divergence place it on the launch pad; looking for a bounce.']\n",
      "['poised to run too']\n",
      "['broke descending channel']\n",
      "['Does not want to go down... risk appetite still high']\n",
      "['Receive Dividend Hike Green Light']\n",
      "['big dumping... would not touch it for a while']\n",
      "['finding support at its 10-day line so far.']\n",
      "['Still think way more upside than downside.']\n",
      "['Just added 3,000 shares']\n",
      "['After weeks of steady gains,advances in mkt breadth slowe']\n",
      "['rejected the hod...should head lower']\n",
      "['completes acquisition of']\n",
      "[\"declares 'best ever' Black Friday and Cyber Monday\"]\n",
      "['Hitting HOD here.']\n",
      "['Up 6% and high on volume']\n",
      "['Nice buyable intraday dip right here']\n",
      "['Accumulation chart continues to make new highs showing accumulation continuing to take place']\n",
      "['could see more upside']\n",
      "['resistance turned support?']\n",
      "['calls are +35% since entry']\n",
      "['Current holdings via options - Long']\n",
      "['seems its falling towards']\n",
      "['Momentum building for breakout trigger ! Long setup']\n",
      "['short term consolidation then movement higher']\n",
      "['Can go much higher if it can break above']\n",
      "['volatility is back']\n",
      "['raises revenue forecast']\n",
      "[\"Sounds like we'll see some green tomorrow.\"]\n",
      "['Daily technical indicators are bullish']\n",
      "['bouncing nicely']\n",
      "['breakout above $29.83 would constitute a technical entry']\n",
      "['BULLISH Engulfing']\n",
      "['buy programs poppin']\n",
      "['LOOKS like we are bouncing']\n",
      "['the weakest sector this year and possible false breakout']\n",
      "['just about to break out to new highs']\n",
      "['at pivot area on intraday chart']\n",
      "['All time high tomorrow?']\n",
      "[\"wouldn't be surprised to see a green close\"]\n",
      "['Looks like good entry']\n",
      "['back in this am small post']\n",
      "['Inverse Head and Shoulders forming']\n",
      "['biggies must be loading up here at lows..']\n",
      "['is looking weak while this market is moving higher not a good sign']\n",
      "['Key level to watch']\n",
      "['I was buying when everyone was selling']\n",
      "['Red Daily Triangle']\n",
      "['had a big GROWING success for years']\n",
      "['Launches Origin Online Game Distribution for Mac']\n",
      "['UPGRADE today by MS to overweight.']\n",
      "['double bottom could be in']\n",
      "['This time I think $AAPL will miss again']\n",
      "['Full bull call spread ranging July to Jan']\n",
      "['finished a great yr w 28% plus!']\n",
      "['Breakout coming Monday']\n",
      "['ales exceed target, profitability guidance amended upward']\n",
      "['Long Position']\n",
      "['got a sell signal on 6/4 and needs to take out 39.28 to go higher otherwise headed lower']\n",
      "['up 33% since 6/25 buy signa']\n",
      "['chart rolling over']\n",
      "['of the lows']\n",
      "['getting sold here.']\n",
      "['making the big added efficiency argument. betting on operational imporvement in a huge conglomerate']\n",
      "['all going down']\n",
      "['shorts are getting nervous']\n",
      "['Will be looking to add shares if we get a new high breakout.']\n",
      "['hearing rumours of a major joint venture announcement']\n",
      "['Good time to buy.']\n",
      "['congrats shorts']\n",
      "['Put the chum out there at key support then next level down - careful']\n",
      "['Entering long']\n",
      "['possible double bottom set up']\n",
      "['Key price to watch']\n",
      "['Tomorrow party time for the Bears']\n",
      "['AWFUL, down from 42.50']\n",
      "[\"c'mon bulls buy DIPS!\"]\n",
      "['chart shows distinctive down channel']\n",
      "['Making higher highs & higher lows']\n",
      "['breaks major support']\n",
      "['Upgraded to a buy']\n",
      "['small pos, short 180 wkly puts.']\n",
      "['I see more downside in next two weeks']\n",
      "['Big Money Is Pouring Into']\n",
      "['#lost revenue in the range of $12 million to $17 million -not good']\n",
      "['the potential of QNX BES10 and BBM  cross platform']\n",
      "['longer term bullish']\n",
      "['Increases Quarterly Cash Dividend']\n",
      "['Still not breaking out']\n",
      "['still wants higher I think']\n",
      "['lets see 14+ today']\n",
      "['Near HOD']\n",
      "['evenue growing over 30%']\n",
      "['LONG at']\n",
      "['breaking out']\n",
      "['S1 above gap. keeping an eye on S2']\n",
      "['Sell Short Position on']\n",
      "['lost .03c per share']\n",
      "['nice bounce']\n",
      "['picked some up, like this going into 2014']\n",
      "['Gold above 1400...wow']\n",
      "['Ready for Take OFF!']\n",
      "['VERY HIGH PROBABILITY OF RALLYING TOMORROW']\n",
      "['high volume blast off Friday, goes higher']\n",
      "['key is to breakout above 460 on solid volume']\n",
      "['bumping its head on declining daily 8ma as overhead resistance']\n",
      "['Long Position']\n",
      "[\"Lot's of sellers trying to get out.\"]\n",
      "['Bearish Trader bets $550K that Stock Will Sell Off']\n",
      "['eports Q1 EPS of $0.37 versus the estimated $0.35, beating by $0.02. EPS were Up 19% from the same quarter last year.']\n",
      "['is now beaten down, hated']\n",
      "['Nice pop today. Told ya we would be green haha']\n",
      "['pushing highs']\n",
      "['LONG!!']\n",
      "['SUSPECT TO TAKE HIGHS']\n",
      "['Currently it is the shorts rejoicing']\n",
      "['shorts likely to take profits into close']\n",
      "['staying above the open a very good sign!!!']\n",
      "[\"Watch these bancos.they're holding up relatively well\"]\n",
      "['1click away from a cliff drop']\n",
      "['A bottom right here?']\n",
      "['Less than 0.2% down and people are calling it bearish. Some heading for exits already']\n",
      "['bull flag on the daily']\n",
      "['Momentum slowing after a huge run.']\n",
      "['A potential bearish shark pattern']\n",
      "['Trailing 12 months operating cash flow']\n",
      "['it should start going up slowly from now on']\n",
      "['descending triangle breakdown']\n",
      "['This goes green and so many shorts are toast!']\n",
      "['Still not technically oversold so now big bounce yet']\n",
      "['Got sell signal']\n",
      "['Going lower. Forget about it or go short.']\n",
      "['New recommendation from Carl Kirst of BMO Capital Markets for']\n",
      "['Inside week buy triggers']\n",
      "['get ready for suspended dividend']\n",
      "['Nice RSI 33 bounce']\n",
      "[\"took my proprietary profit exit. I didn't like the option liquidity and lousy spreads.\"]\n",
      "['Easy pop to 500$ by end of feb.. Then steady as she goes for 600 into second earnings report.']\n",
      "['short boat is getting full on this one']\n",
      "['time to take some profits here']\n",
      "['big trader added 10000 April put contracts']\n",
      "['Breakout today']\n",
      "['so today’s strong results came as a major surprise']\n",
      "['Nice buy signals here!']\n",
      "['mrkt needs to washout. to hunt well need 2 wait stalk.']\n",
      "['All my charts are flashing oversold.']\n",
      "['bought 3500 shares today!']\n",
      "['long steady small climbs']\n",
      "[\"Looks like might break down. I'm out\"]\n",
      "['Seems like a good short setup']\n",
      "['Market getting crushed today']\n",
      "['This stock is a buy.']\n",
      "['Revenue Up Nearly 50%']\n",
      "['bear raid']\n",
      "['down 25% since Tue morning.']\n",
      "['Upgraded to Outperform']\n",
      "['Bounce Player!']\n",
      "['letting the RSI take a breather.']\n",
      "['company is on the right track they are still improving sales']\n",
      "['Will re-enter short on bounce...']\n",
      "['Ascending triangle gives a bullish bias to this chart']\n",
      "['MACD and ADX are crossing over the signal lines! Long Setup']\n",
      "['large players are selling']\n",
      "['More bleeding Monday.']\n",
      "['Closed short position. Small gain.']\n",
      "['still having some trouble at the resistance line']\n",
      "['this stock slowly falling everyday']\n",
      "['Just went long again']\n",
      "['ready to pop!']\n",
      "['SUPER overbought.']\n",
      "['guess they want it down look at the those sell orders']\n",
      "['eod run :)']\n",
      "['did not break 10.40 coz I was told that is key support level.']\n",
      "['slid to a four-year low']\n",
      "['bounce here on support or H&S setup this area is very important for bulls']\n",
      "['Price experiencing early rejection']\n",
      "['reiterated a HOLD rating']\n",
      "['Testing the 200 day after some consolidation']\n",
      "['Receives a Sell from']\n",
      "['technical swing long basis']\n",
      "['If bulls lucky enuff to get an upside gap fill,']\n",
      "['has a 42.71% Float Short']\n",
      "['A close over 24.18 is bullish']\n",
      "['breaking out when the market pulls back']\n",
      "['will go up much higher after this drop']\n",
      "['they are all poised to breakout.']\n",
      "['strong move today']\n",
      "['Calls are going to b a Blessing for my Daughters tuition']\n",
      "['they are hitting everything in sight.short it']\n",
      "['SS interest rose on 12/15 on day before we hit our lows']\n",
      "[\"Let's see some higher highs and higher lows rest of the day\"]\n",
      "['Stochastic Sell Signal']\n",
      "['Up, up, and away!']\n",
      "['down $2.84  premarket']\n",
      "['Loooooongggggg base']\n",
      "['looks like it has found support']\n",
      "['LONG & STRONG']\n",
      "['sells flat..I am out..']\n",
      "['Soars 67% Today On Positive Phase 3 Results']\n",
      "['Settles At 3-year Low']\n",
      "['Decent pull back . .']\n",
      "['Revenue Rises 36%']\n",
      "['both 1m/6m trends turn bullish today']\n",
      "['Long']\n",
      "['Will this cold put a dent in the massive horizontal rig production']\n",
      "['short from here.']\n",
      "['Breakup Will Cost Billions']\n",
      "['Strong close']\n",
      "['will pull back']\n",
      "['Sandbagged the guidance']\n",
      "['Stochastic Overbought']\n",
      "['Double bottom']\n",
      "['Potential continuation Uptrend']\n",
      "['looks like an ascending channel']\n",
      "[\"I'm glad I got stopped out of my\"]\n",
      "['Bought a little yesterday']\n",
      "['Finding Support Near 1.10 Level']\n",
      "['up 10% in premarket']\n",
      "['rumor this morning had them spinning off']\n",
      "['finally breaking under']\n",
      "[\"Gilligan's Island Buy Setup, Stochastic Buy Signal\"]\n",
      "['ontinues to consolidate above previous break out area']\n",
      "['bottoming out again.. Good time to buy']\n",
      "['Hit With Lawsuit']\n",
      "['at resistance right here...sold my shares']\n",
      "['Breakout Coming Soon!']\n",
      "[\"Don't catch falling knives\"]\n",
      "['rally mode']\n",
      "['CEO sells 450k']\n",
      "['breaking below support']\n",
      "['afternoon selloff as usual will be brutal']\n",
      "['Going thru the roof needs a sell!']\n",
      "['on lows, down $1.50 to $2.50']\n",
      "['Short on']\n",
      "['Bullish MA Crossovers']\n",
      "['held the trend lin']\n",
      "['oversold']\n",
      "['just re-tested lows . Should rise steadily from here']\n",
      "['Break that HOD on volume, and we have a nice consolidation']\n",
      "['SEE YA ABOVE $8']\n",
      "['Announces Extension of Merger Agreements']\n",
      "['Up +20.84% In February']\n",
      "['Flagged As Strong On High Volume']\n",
      "[\"RSI extremely in long's favor\"]\n",
      "['Looks like an explosive setup if it can break the 20EMA']\n",
      "['Got a nice push today']\n",
      "['Stock Receives Ratings Downgrade']\n",
      "['Dips being bought up real quick']\n",
      "['Long']\n",
      "['gapping up to all time highs']\n",
      "['gasoline prices spike']\n",
      "['Files Lawsuit Against']\n",
      "['raised dividend']\n",
      "['they keep bringing the share price down']\n",
      "['near a 3% drop thats a lot']\n",
      "['gonna give solid gains and a dividend']\n",
      "['If positive, stock quickly moves to $10. Downside limited.']\n",
      "['Looks like bear traps getting laid']\n",
      "['great cash balance and impressive growth rate']\n",
      "['same conditions that sent markets to tumble all hitting this week']\n",
      "['time to accumulate for a long position']\n",
      "['bearish engulfing candle']\n",
      "['SELL signal by $NDX internals']\n",
      "[\"Affirms 'A+' Credit Rating\"]\n",
      "['Get ready for the bull ride!']\n",
      "['still very undervalued and has major upside']\n",
      "['looks set to fall further']\n",
      "['Being very tender with cash due to volatility']\n",
      "['bot some @78.47 breakout from the consolidation zone']\n",
      "['Potential intermediate top in an Uptrend']\n",
      "['takeover rumor']\n",
      "['Long term uptrend intract so far']\n",
      "['PLUNGING']\n",
      "['still failing to close above the 10D MA']\n",
      "['{Head&Shoulders} bullish reversal setup and breakout']\n",
      "['bullish story intact']\n",
      "['Shares Pounded On Fears Of Loss Of Business From']\n",
      "['ABC Bullish Pattern']\n",
      "['Amazing rebound']\n",
      "['downgraded to neutral']\n",
      "['down 2.3% today and down 8.9% since being put on \"The Short\"']\n",
      "['About to break out on the 5-min']\n",
      "['91 now support']\n",
      "[\"That's an impressive bearish move\"]\n",
      "['long']\n",
      "['Now it is time to short']\n",
      "['held the 50 day moving average']\n",
      "['under pressure along with the market']\n",
      "['Dividend Play']\n",
      "['finally some nice downside move']\n",
      "['bounce & retreats. Not short by any means, but action questions big up move.']\n",
      "['Sheryl Sandberg Sells 109,000 Shares of Facebook']\n",
      "['selling surveillance cameras infected with malware']\n",
      "['hammer candle developing, close to 200 sma']\n",
      "['Baird Upgrades Tesla']\n",
      "['piper Jeffries raises pt']\n",
      "['could see a nice pop if bids come in higher than expected']\n",
      "['200 day sma is the big hurdl']\n",
      "['parent company in talks with potential partners']\n",
      "['expecting $SPY to close above 205.20']\n",
      "['trending nicely, intraday.']\n",
      "['Digital Strategy To Drive Significant Growth With Customer Loyalty']\n",
      "['Trendline and Resistance']\n",
      "['is expanding its research facilities']\n",
      "['steaming up again, this stock is relentless at the moment']\n",
      "['@barronsonline sees #Apple at $150/share in a year']\n",
      "['Receives New Rating']\n",
      "['Announces Record #Esports Viewership']\n",
      "['initiated $incy with an outperform yesterday']\n",
      "['Monday Bulls Are Out!']\n",
      "['Recall Adds To Reliability Issues']\n",
      "['joins the open-source Eclipse Foundation']\n",
      "['optimism about iPhone sales']\n",
      "['$NFLX +1% $104.80 LONG']\n",
      "['prompt regulatory reviews']\n",
      "['Preparing for a Breakout Trade']\n",
      "['just broke resistance, watching for a #redtogreen #breakou']\n",
      "['Deutsche Bank cuts']\n",
      "['misses on revenue']\n",
      "['recall']\n",
      "['Piper upgrades Symantec on improving renewal rates and enterprise growth']\n",
      "['NEW Positive Timing Signal']\n",
      "['Break-out thru 50 & 200- DMA']\n",
      "['Digital Strategy To Drive Significant Growth With Customer Loyalty']\n",
      "['Another attempt to break out']\n",
      "['Break out confirmed']\n",
      "['rumors to be realistic']\n",
      "['cracking lower earl']\n",
      "['Today I bought more']\n",
      "['Shorts continue to pile in.']\n",
      "['No break out yet, either direction']\n",
      "['announces a recall']\n",
      "['making all kinds of gains 📈']\n",
      "[\"I'd be short\"]\n",
      "['reiterates conviction buy']\n",
      "['first Model X recall']\n",
      "['being sued by FTC']\n",
      "['weakest in todays DT watchlist']\n",
      "['on fire, what is that 6 up days in a row']\n",
      "['back over support']\n",
      "['China car sales +7.8%']\n",
      "['using VWAP as guide']\n",
      "['maybe closing all those $AAPL calls i had this morning was a bad idea']\n",
      "['weekly still under the 50 moving average and creating a lower high']\n",
      "['is in a great financial position']\n",
      "['time to short at this point.']\n",
      "['upgraded to Buy']\n",
      "['slight green... May be runner later']\n",
      "[\"Stock Climbs as Barron's Sees 40% Upside\"]\n",
      "['Tesla to recall 2,700 Model X SUVs over seat issue']\n",
      "['tumbles on Q1 warning']\n",
      "['pretty bullish for now']\n",
      "['a parser buy signal']\n",
      "['indicating a SELL Rating']\n",
      "['ripe for a #takeover target']\n",
      "['long play']\n",
      "[\"hits mid 110's and drops\"]\n",
      "['Trying to break daily trend line']\n",
      "['Such a bloated valuation']\n",
      "['recall model']\n",
      "['Recalls 2,700 Model X Vehicles']\n",
      "['recalls all Model X cars']\n",
      "['RSI is over 50']\n",
      "['Stocks Rally']\n",
      "['maintains Neutral rating']\n",
      "['was just upgraded to buy']\n",
      "['short into the next 30 days heading into earnings']\n",
      "['Added more']\n",
      "['Added long at friday close']\n",
      "['Another Sell Rating, Sell Ratings On']\n",
      "['long']\n",
      "['Dividend Play']\n",
      "['Pivotal Research upgrading $GOOGL to buy']\n",
      "['Most bullish stocks on Twitter during this dip']\n",
      "['study the charts']\n",
      "['deliveries are up 35% in Germany - record deliveries in March']\n",
      "['We see slow, steady, unspectacular growth going forward near term']\n",
      "['lots of green on th 5min']\n",
      "['Positive Top-Line Results']\n",
      "['Sold some $TSLA Puts this morning']\n",
      "['is awful why did it force an upgrade on my pc without my consent?']\n",
      "['breaks another down trend and continues higher']\n",
      "['not getting follow through, either side of price action']\n",
      "[\"it's through sma100 resistance\"]\n",
      "[\"oday's price action wasn't appealing\"]\n",
      "['strong, tech leads DOW higher']\n",
      "['breaking out']\n",
      "['strong rail today after breaking intraday resistance']\n",
      "['think were toppy']\n",
      "['bot $AMZN 600 weekly calls here']\n",
      "['watching for bounce tomorrow']\n",
      "['Surging Forward today post earnings']\n",
      "[\"hought there'd be some support around the 50d, but I guess not.\"]\n",
      "['bad day to short']\n",
      "['RECALL 2,700 MODEL X']\n",
      "['Analyst Rated Stocks']\n",
      "['Bought some more']\n",
      "['Analysts impressed with progress']\n",
      "['A good place to take a shot']\n",
      "['new HOD with conviction']\n",
      "['rejecting HIGHS shortable']\n",
      "['Wall Street is expecting EPS to be at']\n",
      "['turns back down in early trading']\n",
      "['Week made in a morning.']\n",
      "['daily sales slowing again']\n",
      "['recalls 2,700 Model X SUVs']\n",
      "['added 465,000 net new subscribers in the first quarter']\n",
      "['upgraded rating']\n",
      "['Long']\n",
      "['Tesla recalls 2,700 Model X cars']\n",
      "['options trade would have more than doubled your money']\n",
      "['recalls #ModelX for faulty 3rd row seat']\n",
      "['move off the bottom but still in bear marke']\n",
      "['early technical BUY signal']\n",
      "['starting to show some relative strength and signs of potentia']\n",
      "['bubble might go on for some time']\n",
      "['heading for the 200DMA']\n",
      "['long into earnings. looks good over 600']\n",
      "['is a short below 740 into the upper BB and is overbought']\n",
      "['Timberrrr']\n",
      "['Interest Heats Up for']\n",
      "['Recalling 2,700 Model X Units']\n",
      "['Embrace Dividend Growth']\n",
      "['Word on the street is that Allergen is looking at Endo International']\n",
      "['inverted head & shoulders pattern in the works']\n",
      "['I see a 20 percent upside']\n",
      "['long']\n",
      "['popping up to HOD']\n",
      "['yeah lets go down to 230s lol']\n",
      "['announced it is recalling 2700 Model']\n",
      "['making new HOD']\n",
      "['Daily Mail owner considering Yahoo bid']\n",
      "['Shorts moving in!']\n",
      "['great vol flow trade here']\n",
      "['keeps Outperform rated']\n",
      "['ong $TSLA short $MBLY']\n",
      "['recalls 2,700 Model X cars']\n",
      "['Has broken its downtrend']\n",
      "['potential defect with third-row seat belts. Tesla Motors recalls']\n",
      "['Grows Efforts To Create Loyal Customers']\n",
      "['recalls 2,700 Model X SUVs']\n",
      "['bearish charts keep getting worse.']\n",
      "['Apple expected to launch new iPhone']\n",
      "['stock gaining steam']\n",
      "['expanding its research facilities...keeping up with the pace of innovation']\n",
      "['we saw a large order in this one last week, someone also accumulating']\n",
      "['jumps on M&A rumors']\n",
      "['Seat belt recall']\n",
      "['gettin in the buy zone soon ;)']\n",
      "['Starbucks downgraded']\n",
      "['technical alerts']\n",
      "['a new long IF 110.61 is broken']\n",
      "['What a nice reversal.']\n",
      "['recalls 2,700 Model X SUVs']\n",
      "['bounces off support']\n",
      "['Deutsche Bank downgrades Starbucks']\n",
      "['gets an upgrade price target']\n",
      "['downgraded by Macquarie to underperform']\n",
      "['recalling 2,700 Model X cars']\n",
      "['small long']\n",
      "['Indicator signaled a Oversold']\n",
      "['Another Sell Rating, Sell Ratings On']\n",
      "['New RSI signal created on $COST - Buy at 148.78']\n",
      "['Q1 disappoints as #software licenses down']\n",
      "['gone green on day']\n",
      "['Weak open and it goes r/g within first 30 mins,']\n",
      "['is setting up above its 50-day moving average']\n",
      "['still a dog going much lower this week']\n",
      "['Android two-factor authentication is breakable']\n",
      "['New MACD signal created on $CTXS - Buy at 77.09']\n",
      "['long this morning']\n",
      "['Locked in some $FB puts']\n",
      "['3rd red day in a row ?']\n",
      "['went long']\n",
      "['up almost 20% from its February lows']\n",
      "['weakness continues again']\n",
      "['shipments on track to exceed forecasts']\n",
      "['short finally making gains']\n",
      "['doomed in 1 chart']\n",
      "['The Rip-Roaring Rally Is Just Beginning!']\n",
      "['Upside moves in the volatile #mining secto']\n",
      "['Voluntary recall of 2,700 Model X vehicles']\n",
      "['not available for shorting at this time?']\n",
      "['Deutsche Bank Downgraded Starbucks']\n",
      "['dividend - 3%']\n",
      "['tumbles on Q1 warning']\n",
      "['Looking for a strong bounce']\n",
      "['DJI overbought']\n",
      "['upgrades to outperform, lifts price target']\n",
      "['recall not a big deal']\n",
      "['testing the 200 day ma']\n",
      "['looking for a sharp move up in equities']\n",
      "['down 20% in after-hour market']\n",
      "['Look at that $AMZN > 600']\n",
      "['the bidding war picks up for the company']\n",
      "['shares down as much as ~4.2%']\n",
      "['Beat the estimates']\n",
      "['long']\n",
      "['faces a different technical test today']\n",
      "['down PM, from $DB downgrade']\n",
      "['working on a couple daily dojis']\n",
      "['Breaking 52 week highs timing looks great now']\n",
      "['ecalling pretty much every single model']\n",
      "['high of day just hit.']\n",
      "['shorts getting skinned again']\n",
      "['Dividend Increase Rewards Patient Investors']\n",
      "['received a Buy rating']\n",
      "['if we can find support around 243.39 and pop up']\n",
      "['Position Increased by Mizuho']\n",
      "['Notable gainers among liquid option names this morning']\n",
      "[\"Is #Facebook's user engagement falling?\"]\n"
     ]
    }
   ],
   "source": [
    "sentence_id,dataX,score,dataY = load_data_from_file('dataset/master.json')\n",
    "# dataX,dataY = load_data_temp('dataset/final_dev.json')"
   ]
  },
  {
   "cell_type": "code",
   "execution_count": null,
   "metadata": {
    "collapsed": true
   },
   "outputs": [],
   "source": []
  },
  {
   "cell_type": "code",
   "execution_count": 47,
   "metadata": {},
   "outputs": [
    {
     "name": "stdout",
     "output_type": "stream",
     "text": [
      "data len\n",
      "1111 1111\n"
     ]
    }
   ],
   "source": [
    "print('data len')\n",
    "print(len(dataX),len(dataY))"
   ]
  },
  {
   "cell_type": "code",
   "execution_count": 48,
   "metadata": {},
   "outputs": [
    {
     "name": "stdout",
     "output_type": "stream",
     "text": [
      "count 1,count 0\n",
      "734 377\n"
     ]
    }
   ],
   "source": [
    "print('count 1,count 0')\n",
    "print(dataY.count(1),dataY.count(0))"
   ]
  },
  {
   "cell_type": "code",
   "execution_count": 49,
   "metadata": {
    "collapsed": true
   },
   "outputs": [],
   "source": [
    "def remove_punctuation(s):\n",
    "    list_punctuation = list(punctuation.replace('$',''))\n",
    "    for i in list_punctuation:\n",
    "        s = s.replace(i,'')\n",
    "    return s"
   ]
  },
  {
   "cell_type": "code",
   "execution_count": 50,
   "metadata": {
    "collapsed": true
   },
   "outputs": [],
   "source": [
    "def clean_sentence(sentence):\n",
    "    #remove multiple repeat non num-aplha char !!!!!!!!!-->!\n",
    "    sentence = re.sub(r'(\\W)\\1{2,}', r'\\1', sentence) \n",
    "    #removes alpha char repeating more than twice aaaa->aa\n",
    "    sentence = re.sub(r'(\\w)\\1{2,}', r'\\1\\1', sentence)\n",
    "    #removes links\n",
    "    sentence = re.sub(r'(?P<url>https?://[^\\s]+)', r'', sentence)\n",
    "    # remove @usernames\n",
    "    sentence = re.sub(r\"\\@(\\w+)\", \"\", sentence)\n",
    "    #removing stock names to see if it helps\n",
    "#     sentence = re.sub(r\"(?:\\$|https?\\://)\\S+\", \"\", sentence)\n",
    "    #remove # from #tags\n",
    "    sentence = sentence.replace('#','')\n",
    "    # split into tokens by white space\n",
    "    tokens = sentence.split()\n",
    "    # remove punctuation from each token\n",
    "    tokens = [remove_punctuation(w) for w in tokens]\n",
    "#     remove remaining tokens that are not alphabetic\n",
    "#     tokens = [word for word in tokens if word.isalpha()]\n",
    "#no removing non alpha words to keep stock names($ZSL)\n",
    "    # filter out stop words\n",
    "    stop_words = set(stopwords.words('english'))\n",
    "    tokens = [w for w in tokens if not w in stop_words]\n",
    "    # filter out short tokens\n",
    "    tokens = [word for word in tokens if len(word) > 1]\n",
    "    tokens = ' '.join(tokens)\n",
    "    return tokens"
   ]
  },
  {
   "cell_type": "code",
   "execution_count": 51,
   "metadata": {},
   "outputs": [
    {
     "name": "stdout",
     "output_type": "stream",
     "text": [
      "cleaning train set\n"
     ]
    }
   ],
   "source": [
    "print('cleaning train set')\n",
    "dataX = [clean_sentence(x) for x in dataX]"
   ]
  },
  {
   "cell_type": "code",
   "execution_count": 52,
   "metadata": {
    "collapsed": true
   },
   "outputs": [],
   "source": [
    "dataY = to_categorical(dataY,2)"
   ]
  },
  {
   "cell_type": "code",
   "execution_count": 53,
   "metadata": {
    "collapsed": true
   },
   "outputs": [],
   "source": [
    "max_length = 27"
   ]
  },
  {
   "cell_type": "code",
   "execution_count": 54,
   "metadata": {
    "collapsed": true
   },
   "outputs": [],
   "source": [
    "def progress_print(s):\n",
    "    global count\n",
    "    count+=1\n",
    "    if count%10==0:\n",
    "        print(count)\n",
    "    return get_normalized_sentence_relation_vector(s)"
   ]
  },
  {
   "cell_type": "code",
   "execution_count": 55,
   "metadata": {},
   "outputs": [
    {
     "name": "stdout",
     "output_type": "stream",
     "text": [
      "10\n",
      "20\n",
      "30\n",
      "40\n",
      "50\n",
      "60\n",
      "70\n",
      "80\n",
      "90\n",
      "100\n",
      "110\n",
      "120\n",
      "130\n",
      "140\n",
      "150\n",
      "160\n",
      "170\n",
      "180\n",
      "190\n",
      "200\n",
      "210\n",
      "220\n",
      "230\n",
      "240\n",
      "250\n",
      "260\n",
      "270\n",
      "280\n",
      "290\n",
      "300\n",
      "310\n",
      "320\n",
      "330\n",
      "340\n",
      "350\n",
      "360\n",
      "370\n",
      "380\n",
      "390\n",
      "400\n",
      "410\n",
      "420\n",
      "430\n",
      "440\n",
      "450\n",
      "460\n",
      "470\n",
      "480\n",
      "490\n",
      "500\n",
      "510\n",
      "520\n",
      "530\n",
      "540\n",
      "550\n",
      "560\n",
      "570\n",
      "580\n",
      "590\n",
      "600\n",
      "610\n",
      "620\n",
      "630\n",
      "640\n",
      "650\n",
      "660\n",
      "670\n",
      "680\n",
      "690\n",
      "700\n",
      "710\n",
      "720\n",
      "730\n",
      "740\n",
      "750\n",
      "760\n",
      "770\n",
      "780\n",
      "790\n",
      "800\n",
      "810\n",
      "820\n",
      "830\n",
      "840\n",
      "850\n",
      "860\n",
      "870\n",
      "880\n",
      "890\n",
      "900\n",
      "910\n",
      "920\n",
      "930\n",
      "940\n",
      "950\n",
      "960\n",
      "970\n",
      "980\n",
      "990\n",
      "1000\n",
      "1010\n",
      "1020\n",
      "1030\n",
      "1040\n",
      "1050\n",
      "1060\n",
      "1070\n",
      "1080\n",
      "1090\n",
      "1100\n",
      "1110\n"
     ]
    }
   ],
   "source": [
    "count = 0\n",
    "sentence_enchance_prob = [progress_print(x) for x in dataX]"
   ]
  },
  {
   "cell_type": "code",
   "execution_count": 56,
   "metadata": {
    "collapsed": true
   },
   "outputs": [],
   "source": [
    "sentence_enchance_prob_f = [x[0] for x in sentence_enchance_prob]"
   ]
  },
  {
   "cell_type": "code",
   "execution_count": 23,
   "metadata": {
    "collapsed": true
   },
   "outputs": [],
   "source": [
    "# sentence_enchance_prob_f"
   ]
  },
  {
   "cell_type": "code",
   "execution_count": null,
   "metadata": {
    "collapsed": true
   },
   "outputs": [],
   "source": []
  },
  {
   "cell_type": "code",
   "execution_count": 24,
   "metadata": {
    "collapsed": true
   },
   "outputs": [],
   "source": [
    "# max_length"
   ]
  },
  {
   "cell_type": "code",
   "execution_count": 57,
   "metadata": {
    "collapsed": true
   },
   "outputs": [],
   "source": [
    "def load_google_word2vec(file_name):\n",
    "    print(\"Loading word2vec model, this can take some time...\")\n",
    "    return KeyedVectors.load_word2vec_format(file_name, binary=True)"
   ]
  },
  {
   "cell_type": "code",
   "execution_count": 58,
   "metadata": {
    "collapsed": true
   },
   "outputs": [],
   "source": [
    "#loading godin word embedding\n",
    "def load_godin_word_embedding(path):\n",
    "    print(\"Loading goding model, this can take some time...\")\n",
    "    return godin_embedding.Word2Vec.load_word2vec_format(path, binary=True)"
   ]
  },
  {
   "cell_type": "code",
   "execution_count": 27,
   "metadata": {},
   "outputs": [
    {
     "name": "stdout",
     "output_type": "stream",
     "text": [
      "Loading word2vec model, this can take some time...\n"
     ]
    }
   ],
   "source": [
    "word2vec_model= load_google_word2vec('word_embeddings/GoogleNews-vectors-negative300.bin')"
   ]
  },
  {
   "cell_type": "code",
   "execution_count": 28,
   "metadata": {},
   "outputs": [
    {
     "name": "stdout",
     "output_type": "stream",
     "text": [
      "Loading goding model, this can take some time...\n"
     ]
    }
   ],
   "source": [
    "godin_model = load_godin_word_embedding(\"word_embeddings/word2vec_twitter_model.bin\")"
   ]
  },
  {
   "cell_type": "code",
   "execution_count": 59,
   "metadata": {
    "collapsed": true
   },
   "outputs": [],
   "source": [
    "def get_embedding_matrix(model,sentence,prob_vector,godin_flag = False):\n",
    "    tokens = sentence.split()[:max_length]\n",
    "    if godin_flag:\n",
    "        embedding_matrix = np.zeros((max_length,400))\n",
    "    else:\n",
    "        embedding_matrix = np.zeros((max_length,300))\n",
    "    for i,word in enumerate(tokens):\n",
    "        try:\n",
    "            embedding_vector = model[word]\n",
    "        except KeyError:\n",
    "            embedding_vector = None\n",
    "        if embedding_vector is not None:\n",
    "            embedding_matrix[i]=embedding_vector\n",
    "            embedding_matrix[i]*=prob_vector[i]\n",
    "    return embedding_matrix"
   ]
  },
  {
   "cell_type": "code",
   "execution_count": 60,
   "metadata": {},
   "outputs": [
    {
     "name": "stdout",
     "output_type": "stream",
     "text": [
      "bulding word2vec matrix of train set\n",
      "bulding godin matrix of train set\n"
     ]
    }
   ],
   "source": [
    "print(\"bulding word2vec matrix of train set\")\n",
    "train_word2vec = np.asarray([get_embedding_matrix(word2vec_model,x,y) for x,y in zip(dataX,sentence_enchance_prob_f)])\n",
    "print(\"bulding godin matrix of train set\")\n",
    "train_godin = np.asarray([get_embedding_matrix(godin_model,x,y,godin_flag=True) for x,y in zip(dataX,sentence_enchance_prob_f)])"
   ]
  },
  {
   "cell_type": "code",
   "execution_count": 61,
   "metadata": {
    "collapsed": true
   },
   "outputs": [],
   "source": [
    "input_array = [train_godin,train_word2vec,train_godin]"
   ]
  },
  {
   "cell_type": "code",
   "execution_count": 62,
   "metadata": {
    "collapsed": true
   },
   "outputs": [],
   "source": [
    "model = load_model('models/bestSenti.h5')"
   ]
  },
  {
   "cell_type": "code",
   "execution_count": 63,
   "metadata": {
    "collapsed": true
   },
   "outputs": [],
   "source": [
    "pred = model.predict(input_array)"
   ]
  },
  {
   "cell_type": "code",
   "execution_count": 64,
   "metadata": {
    "collapsed": true
   },
   "outputs": [],
   "source": [
    "def get_acc(pred,dataY):\n",
    "    pred_class = np.asarray([np.asarray([1,0],dtype=np.float32) if x[0]>x[1] else np.asarray([0,1],dtype=np.float32) for x in pred])\n",
    "    count = [True if x[0]==y[0] else False for x,y in zip(pred_class,dataY)]\n",
    "    return float(count.count(True))/len(count)"
   ]
  },
  {
   "cell_type": "code",
   "execution_count": 65,
   "metadata": {},
   "outputs": [
    {
     "data": {
      "text/plain": [
       "0.8253825382538253"
      ]
     },
     "execution_count": 65,
     "metadata": {},
     "output_type": "execute_result"
    }
   ],
   "source": [
    "get_acc(pred,dataY)"
   ]
  },
  {
   "cell_type": "code",
   "execution_count": 66,
   "metadata": {
    "collapsed": true
   },
   "outputs": [],
   "source": [
    "def plot_confusion_matrix(pred,dataY):\n",
    "    classes = ['Negative','Positive']\n",
    "    pred_class = [0 if x[0]>x[1] else 1 for x in pred]\n",
    "    acc_class = [0 if x[0]>x[1] else 1 for x in dataY]\n",
    "    count = 0\n",
    "    cm = confusion_matrix(acc_class,pred_class)\n",
    "    plt.imshow(cm)\n",
    "    plt.colorbar()\n",
    "    plt.xticks(np.arange(len(classes)),classes,fontsize=14)\n",
    "    plt.yticks(np.arange(len(classes)),classes,fontsize=14)\n",
    "    plt.ylabel('True label',fontsize=14)\n",
    "    plt.xlabel('Predicted label',fontsize=14)\n",
    "    fmt = 'd'\n",
    "    thresh = cm.max() / 2.\n",
    "    for i, j in itertools.product(range(cm.shape[0]), range(cm.shape[1])):\n",
    "        plt.text(j, i,format(cm[i, j], fmt),\n",
    "                 horizontalalignment=\"center\",fontsize=14,\n",
    "                 color=\"white\" if cm[i, j] > thresh else \"black\")"
   ]
  },
  {
   "cell_type": "code",
   "execution_count": 67,
   "metadata": {},
   "outputs": [
    {
     "data": {
      "image/png": "[encoded data removed]",
      "text/plain": [
       "<matplotlib.figure.Figure at 0x7f52a7c9bd30>"
      ]
     },
     "metadata": {},
     "output_type": "display_data"
    }
   ],
   "source": [
    "plot_confusion_matrix(pred,dataY)"
   ]
  },
  {
   "cell_type": "code",
   "execution_count": 143,
   "metadata": {
    "collapsed": true
   },
   "outputs": [],
   "source": [
    "def mean_normalize(series,c_value):\n",
    "    mean_series = np.mean(series)\n",
    "    std_series = np.std(series)\n",
    "    return [((x-mean_series)/std_series)+c_value for x in series]"
   ]
  },
  {
   "cell_type": "code",
   "execution_count": 144,
   "metadata": {
    "collapsed": true
   },
   "outputs": [],
   "source": [
    "def rescale(series,new_range):\n",
    "    m = interp1d([min(series),max(series)],new_range)\n",
    "    return [float(m(x)) for x in series]"
   ]
  },
  {
   "cell_type": "code",
   "execution_count": 145,
   "metadata": {
    "collapsed": true
   },
   "outputs": [],
   "source": [
    "def get_score_from_pred(pred):\n",
    "    score_pred = []\n",
    "    for x in pred:\n",
    "        p_s = x[1]\n",
    "        n_s = x[0]\n",
    "        score_pred.append(p_s-n_s)\n",
    "    return score_pred"
   ]
  },
  {
   "cell_type": "code",
   "execution_count": null,
   "metadata": {},
   "outputs": [],
   "source": []
  },
  {
   "cell_type": "code",
   "execution_count": 256,
   "metadata": {},
   "outputs": [],
   "source": [
    "def normalizing_score(score_pred):\n",
    "    positive_score = np.asarray([x for x in score_pred if x>=0])\n",
    "    p_mean = np.mean(positive_score)\n",
    "    p_std = np.std(positive_score)\n",
    "    \n",
    "    negative_score = np.asarray([x for x in score_pred if x<0])\n",
    "    n_mean = np.mean(negative_score)\n",
    "    n_std = np.std(negative_score)\n",
    "    \n",
    "    score_pred = [((x-p_mean)/p_std)-1.5 if x>=0 else ((x-n_mean)/n_std)-2 for x in score_pred]\n",
    "    return score_pred"
   ]
  },
  {
   "cell_type": "code",
   "execution_count": 257,
   "metadata": {
    "collapsed": true
   },
   "outputs": [],
   "source": [
    "score_pred = get_score_from_pred(pred)"
   ]
  },
  {
   "cell_type": "code",
   "execution_count": 258,
   "metadata": {
    "collapsed": true
   },
   "outputs": [],
   "source": [
    "score_pred = normalizing_score(score_pred)"
   ]
  },
  {
   "cell_type": "code",
   "execution_count": 259,
   "metadata": {
    "collapsed": true
   },
   "outputs": [],
   "source": [
    "score_pred = rescale(score_pred,[-1,1])"
   ]
  },
  {
   "cell_type": "code",
   "execution_count": 260,
   "metadata": {},
   "outputs": [
    {
     "data": {
      "text/plain": [
       "(array([ 23.,  24.,  25., 104.,  80.,  62.,  99., 145., 514.,  35.]),\n",
       " array([-1. , -0.8, -0.6, -0.4, -0.2,  0. ,  0.2,  0.4,  0.6,  0.8,  1. ]),\n",
       " <a list of 10 Patch objects>)"
      ]
     },
     "execution_count": 260,
     "metadata": {},
     "output_type": "execute_result"
    },
    {
     "data": {
      "image/png": "[encoded data removed]",
      "text/plain": [
       "<matplotlib.figure.Figure at 0x7f529b7ec5c0>"
      ]
     },
     "metadata": {},
     "output_type": "display_data"
    }
   ],
   "source": [
    "plt.hist(score_pred)"
   ]
  },
  {
   "cell_type": "code",
   "execution_count": 253,
   "metadata": {},
   "outputs": [
    {
     "data": {
      "text/plain": [
       "(array([  8.,  51., 143., 120.,  76., 112., 255., 262.,  75.,   9.]),\n",
       " array([-0.938 , -0.7467, -0.5554, -0.3641, -0.1728,  0.0185,  0.2098,\n",
       "         0.4011,  0.5924,  0.7837,  0.975 ]),\n",
       " <a list of 10 Patch objects>)"
      ]
     },
     "execution_count": 253,
     "metadata": {},
     "output_type": "execute_result"
    },
    {
     "data": {
      "image/png": "[encoded data removed]",
      "text/plain": [
       "<matplotlib.figure.Figure at 0x7f529b80ee10>"
      ]
     },
     "metadata": {},
     "output_type": "display_data"
    }
   ],
   "source": [
    "plt.hist(score)"
   ]
  },
  {
   "cell_type": "code",
   "execution_count": 254,
   "metadata": {},
   "outputs": [
    {
     "data": {
      "text/plain": [
       "0.26031047121123324"
      ]
     },
     "execution_count": 254,
     "metadata": {},
     "output_type": "execute_result"
    }
   ],
   "source": [
    "mean_squared_error(score,score_pred)"
   ]
  },
  {
   "cell_type": "code",
   "execution_count": 255,
   "metadata": {},
   "outputs": [
    {
     "data": {
      "text/plain": [
       "-0.6021406278438848"
      ]
     },
     "execution_count": 255,
     "metadata": {},
     "output_type": "execute_result"
    }
   ],
   "source": [
    "r2_score(score,score_pred)"
   ]
  },
  {
   "cell_type": "code",
   "execution_count": null,
   "metadata": {
    "collapsed": true
   },
   "outputs": [],
   "source": []
  },
  {
   "cell_type": "code",
   "execution_count": null,
   "metadata": {
    "collapsed": true
   },
   "outputs": [],
   "source": []
  },
  {
   "cell_type": "code",
   "execution_count": 20,
   "metadata": {
    "collapsed": true
   },
   "outputs": [],
   "source": [
    "# with open('top20models/emb_key.json') as f:\n",
    "#     top_models = json.load(f)"
   ]
  },
  {
   "cell_type": "code",
   "execution_count": 21,
   "metadata": {
    "collapsed": true
   },
   "outputs": [],
   "source": [
    "# def get_prediction_of_top_n_model(n):\n",
    "#     pred_n = []\n",
    "#     for x in range(1,n+1):\n",
    "#         print('predicting for model rank',x)\n",
    "#         model_name = top_models[str(x)]['key']\n",
    "#         model_embeddings = top_models[str(x)]['embeddings']\n",
    "#         input_array = [train_word2vec if x=='embedding_matrix_word2vec' else train_godin for x in model_embeddings]\n",
    "#         model = load_model('top20models/'+str(model_name)+'.h5')\n",
    "#         pred_n.append(model.predict(input_array))\n",
    "#         del model\n",
    "#     return pred_n"
   ]
  },
  {
   "cell_type": "code",
   "execution_count": 35,
   "metadata": {
    "collapsed": true
   },
   "outputs": [],
   "source": [
    "# def get_ensemble_pred(pred_n):\n",
    "#     pred = []\n",
    "#     n_of_pred = len(pred_n)\n",
    "#     n_of_sampels = len(pred_n[0])\n",
    "#     for x in range(n_of_sampels):\n",
    "#         sum_0 = 0.0\n",
    "#         sum_1 = 0.0\n",
    "#         for v in pred_n:\n",
    "#             sum_0+=v[x][0]\n",
    "#             sum_1+=v[x][1]\n",
    "#         pred.append(np.asarray([sum_0/n_of_pred,sum_1/n_of_pred],dtype=np.float32))\n",
    "#     return np.asarray(pred,dtype=np.float32)"
   ]
  },
  {
   "cell_type": "code",
   "execution_count": 36,
   "metadata": {
    "collapsed": true
   },
   "outputs": [],
   "source": []
  },
  {
   "cell_type": "code",
   "execution_count": 233,
   "metadata": {
    "collapsed": true
   },
   "outputs": [],
   "source": [
    "# pred_n = get_prediction_of_top_n_model(3)"
   ]
  },
  {
   "cell_type": "code",
   "execution_count": 234,
   "metadata": {
    "collapsed": true
   },
   "outputs": [],
   "source": [
    "# pred = get_ensemble_pred(pred_n)"
   ]
  },
  {
   "cell_type": "code",
   "execution_count": 235,
   "metadata": {
    "collapsed": true
   },
   "outputs": [],
   "source": [
    "# get_acc(pred,dataY)"
   ]
  },
  {
   "cell_type": "code",
   "execution_count": 37,
   "metadata": {
    "collapsed": true
   },
   "outputs": [],
   "source": [
    "# no_of_top_models = []\n",
    "# acc_score = []\n",
    "# n_of_top_model_to_use = 20\n",
    "# pred_n = get_prediction_of_top_n_model(n_of_top_model_to_use)\n",
    "# print(\"now doing ensemble\")\n",
    "# for i in range(1,n_of_top_model_to_use+1):\n",
    "#     no_of_top_models.append(i)\n",
    "#     pred = get_ensemble_pred(pred_n[:i])\n",
    "#     acc_score.append(get_acc(pred,dataY))"
   ]
  },
  {
   "cell_type": "code",
   "execution_count": 38,
   "metadata": {
    "collapsed": true
   },
   "outputs": [],
   "source": [
    "# no_of_top_models"
   ]
  },
  {
   "cell_type": "code",
   "execution_count": 39,
   "metadata": {
    "collapsed": true
   },
   "outputs": [],
   "source": [
    "# acc_score"
   ]
  },
  {
   "cell_type": "code",
   "execution_count": 40,
   "metadata": {
    "collapsed": true
   },
   "outputs": [],
   "source": [
    "# plt.plot(no_of_top_models, acc_score)\n",
    "# plt.xlabel('Number of models in ensemble')\n",
    "# plt.ylabel('accuracy')"
   ]
  },
  {
   "cell_type": "code",
   "execution_count": 179,
   "metadata": {},
   "outputs": [
    {
     "data": {
      "text/plain": [
       "0.7946428571428571"
      ]
     },
     "execution_count": 179,
     "metadata": {},
     "output_type": "execute_result"
    }
   ],
   "source": []
  },
  {
   "cell_type": "code",
   "execution_count": 133,
   "metadata": {
    "collapsed": true
   },
   "outputs": [],
   "source": [
    "# model_name = top_models[str(1)]['key']\n",
    "# model_name"
   ]
  },
  {
   "cell_type": "code",
   "execution_count": 134,
   "metadata": {
    "collapsed": true
   },
   "outputs": [],
   "source": [
    "# model_embeddings = top_models[str(1)]['embeddings']\n",
    "# model_embeddings"
   ]
  },
  {
   "cell_type": "code",
   "execution_count": 135,
   "metadata": {
    "collapsed": true
   },
   "outputs": [],
   "source": [
    "# input_array = [train_word2vec if x=='embedding_matrix_word2vec' else train_godin for x in model_embeddings]"
   ]
  },
  {
   "cell_type": "code",
   "execution_count": 136,
   "metadata": {
    "collapsed": true
   },
   "outputs": [],
   "source": [
    "# model = load_model('top20models/'+str(model_name)+'.h5')"
   ]
  },
  {
   "cell_type": "code",
   "execution_count": 137,
   "metadata": {
    "collapsed": true
   },
   "outputs": [],
   "source": [
    "# pred = model.predict(input_array)"
   ]
  },
  {
   "cell_type": "code",
   "execution_count": 138,
   "metadata": {
    "collapsed": true
   },
   "outputs": [],
   "source": []
  },
  {
   "cell_type": "code",
   "execution_count": 139,
   "metadata": {
    "collapsed": true
   },
   "outputs": [],
   "source": [
    "# get_acc(pred,dataY)"
   ]
  },
  {
   "cell_type": "code",
   "execution_count": 87,
   "metadata": {
    "collapsed": true
   },
   "outputs": [],
   "source": []
  },
  {
   "cell_type": "code",
   "execution_count": null,
   "metadata": {
    "collapsed": true
   },
   "outputs": [],
   "source": []
  },
  {
   "cell_type": "code",
   "execution_count": null,
   "metadata": {
    "collapsed": true
   },
   "outputs": [],
   "source": []
  },
  {
   "cell_type": "code",
   "execution_count": null,
   "metadata": {
    "collapsed": true
   },
   "outputs": [],
   "source": []
  },
  {
   "cell_type": "code",
   "execution_count": null,
   "metadata": {
    "collapsed": true
   },
   "outputs": [],
   "source": []
  },
  {
   "cell_type": "code",
   "execution_count": null,
   "metadata": {
    "collapsed": true
   },
   "outputs": [],
   "source": []
  },
  {
   "cell_type": "code",
   "execution_count": null,
   "metadata": {
    "collapsed": true
   },
   "outputs": [],
   "source": []
  }
 ],
 "metadata": {
  "kernelspec": {
   "display_name": "Python 3",
   "language": "python",
   "name": "python3"
  },
  "language_info": {
   "codemirror_mode": {
    "name": "ipython",
    "version": 3
   },
   "file_extension": ".py",
   "mimetype": "text/x-python",
   "name": "python",
   "nbconvert_exporter": "python",
   "pygments_lexer": "ipython3",
   "version": "3.6.3"
  }
 },
 "nbformat": 4,
 "nbformat_minor": 2
}
