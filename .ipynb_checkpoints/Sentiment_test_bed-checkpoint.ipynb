{
 "cells": [
  {
   "cell_type": "code",
   "execution_count": 174,
   "metadata": {},
   "outputs": [],
   "source": [
    "#multi channel CNN for sentiment analysis\n",
    "from nltk.corpus import stopwords\n",
    "from string import punctuation,digits\n",
    "import pandas as pd\n",
    "import json\n",
    "import numpy as np\n",
    "import re\n",
    "import word2vecReader as godin_embedding\n",
    "import matplotlib.pyplot as plt\n",
    "%matplotlib inline\n",
    "plt.rcParams[\"figure.figsize\"] = [5,5]\n",
    "plt.style.use('seaborn-notebook')\n",
    "from scipy.interpolate import interp1d\n",
    "from sklearn.metrics import mean_squared_error,r2_score\n",
    "from aspect_specific_prob import get_normalized_sentence_relation_vector\n",
    "from gensim.models import KeyedVectors\n",
    "from keras.models import load_model\n",
    "import keras.backend as K"
   ]
  },
  {
   "cell_type": "code",
   "execution_count": 150,
   "metadata": {
    "collapsed": true
   },
   "outputs": [],
   "source": [
    "#loading data\n",
    "def load_data_from_file(filename):\n",
    "    print(\"loading file = \",filename)\n",
    "    with open(filename,'r') as f:\n",
    "        foo = json.load(f)\n",
    "    sentence_id =[]    \n",
    "    sentence = []\n",
    "    sentence_snippet = []\n",
    "    sentence_target = []\n",
    "    for key in foo.keys():\n",
    "        for info in foo[key]['info']:\n",
    "            sentence_snippet.append(eval(info['snippets'])[0])\n",
    "            sentence_target.append(info['target'])\n",
    "            sentence_id.append(key)\n",
    "            sentence.append(foo[key]['sentence'])\n",
    "    return sentence_id,sentence,sentence_snippet,sentence_target"
   ]
  },
  {
   "cell_type": "code",
   "execution_count": 151,
   "metadata": {},
   "outputs": [
    {
     "name": "stdout",
     "output_type": "stream",
     "text": [
      "loading file =  dataset/master_test.json\n"
     ]
    }
   ],
   "source": [
    "sentence_id,sentence,sentence_snippet,sentence_target = load_data_from_file('dataset/master_test.json')"
   ]
  },
  {
   "cell_type": "code",
   "execution_count": 152,
   "metadata": {},
   "outputs": [
    {
     "data": {
      "text/plain": [
       "(192, 192, 192, 192)"
      ]
     },
     "execution_count": 152,
     "metadata": {},
     "output_type": "execute_result"
    }
   ],
   "source": [
    "len(sentence_id),len(sentence),len(sentence_snippet),len(sentence_target)"
   ]
  },
  {
   "cell_type": "code",
   "execution_count": 153,
   "metadata": {
    "collapsed": true
   },
   "outputs": [],
   "source": [
    "def rescale(series,old_range,new_range):\n",
    "    m = interp1d(old_range,new_range)\n",
    "    return [float(m(x)) for x in series]"
   ]
  },
  {
   "cell_type": "code",
   "execution_count": 154,
   "metadata": {
    "collapsed": true
   },
   "outputs": [],
   "source": [
    "def remove_punctuation(s):\n",
    "    list_punctuation = list(punctuation)\n",
    "    for i in list_punctuation:\n",
    "        s = s.replace(i,' ')\n",
    "    return s"
   ]
  },
  {
   "cell_type": "code",
   "execution_count": 155,
   "metadata": {
    "collapsed": true
   },
   "outputs": [],
   "source": [
    "def clean_sentence(sentence):\n",
    "    sentence = sentence.lower()\n",
    "    #remove multiple repeat non num-aplha char !!!!!!!!!-->!\n",
    "    sentence = re.sub(r'(\\W)\\1{2,}', r'\\1', sentence) \n",
    "    #removes alpha char repeating more than twice aaaa->aa\n",
    "    sentence = re.sub(r'(\\w)\\1{2,}', r'\\1\\1', sentence)\n",
    "    #removes links\n",
    "    sentence = re.sub(r'(?P<url>https?://[^\\s]+)', r'', sentence)\n",
    "    # remove @usernames\n",
    "    sentence = re.sub(r\"\\@(\\w+)\", \"\", sentence)\n",
    "    #remove # from #tags\n",
    "    sentence = sentence.replace('#','')\n",
    "    sentence = sentence.replace(\"'s\",'')\n",
    "    sentence = sentence.replace(\"-\",' ')\n",
    "    # split into tokens by white space\n",
    "    tokens = sentence.split()\n",
    "    # remove punctuation from each token\n",
    "    tokens = [remove_punctuation(w) for w in tokens]\n",
    "    # filter out stop words\n",
    "    stop_words = set(stopwords.words('english'))\n",
    "    tokens = [w for w in tokens if not w in stop_words]\n",
    "    remove_digits = str.maketrans('', '', digits)\n",
    "    tokens = [w.translate(remove_digits) for w in tokens]\n",
    "    tokens = [w.strip() for w in tokens]\n",
    "    tokens = [w for w in tokens if w!=\"\"]\n",
    "    tokens = ' '.join(tokens)\n",
    "    return tokens"
   ]
  },
  {
   "cell_type": "code",
   "execution_count": 156,
   "metadata": {},
   "outputs": [
    {
     "name": "stdout",
     "output_type": "stream",
     "text": [
      "cleaning data set\n"
     ]
    }
   ],
   "source": [
    "print('cleaning data set')\n",
    "sentence = [clean_sentence(x) for x in sentence]"
   ]
  },
  {
   "cell_type": "code",
   "execution_count": 157,
   "metadata": {},
   "outputs": [
    {
     "name": "stdout",
     "output_type": "stream",
     "text": [
      "cleaning targets\n"
     ]
    }
   ],
   "source": [
    "print('cleaning targets')\n",
    "sentence_target = [clean_sentence(x) for x in sentence_target]"
   ]
  },
  {
   "cell_type": "code",
   "execution_count": 158,
   "metadata": {
    "collapsed": true
   },
   "outputs": [],
   "source": [
    "max_length = 19 #as this was the value on which model was trained "
   ]
  },
  {
   "cell_type": "code",
   "execution_count": 159,
   "metadata": {
    "collapsed": true
   },
   "outputs": [],
   "source": [
    "def progress_print(s,target):\n",
    "    global count\n",
    "    count+=1\n",
    "    if count%10==0:\n",
    "        print(count)\n",
    "#     print(s)\n",
    "#     print(target)\n",
    "    return get_normalized_sentence_relation_vector(s,target)"
   ]
  },
  {
   "cell_type": "code",
   "execution_count": 160,
   "metadata": {},
   "outputs": [
    {
     "name": "stdout",
     "output_type": "stream",
     "text": [
      "10\n",
      "20\n",
      "30\n",
      "40\n",
      "50\n",
      "60\n",
      "70\n",
      "80\n",
      "90\n",
      "100\n",
      "110\n",
      "120\n",
      "130\n",
      "140\n",
      "150\n",
      "160\n",
      "170\n",
      "180\n",
      "190\n"
     ]
    }
   ],
   "source": [
    "count = 0\n",
    "sentence_enchance_prob = [progress_print(x,[y]) for x,y in zip(sentence,sentence_target)]"
   ]
  },
  {
   "cell_type": "code",
   "execution_count": 161,
   "metadata": {},
   "outputs": [
    {
     "data": {
      "text/plain": [
       "192"
      ]
     },
     "execution_count": 161,
     "metadata": {},
     "output_type": "execute_result"
    }
   ],
   "source": [
    "len(sentence_enchance_prob)"
   ]
  },
  {
   "cell_type": "code",
   "execution_count": 162,
   "metadata": {
    "collapsed": true
   },
   "outputs": [],
   "source": [
    "#loading Google Word2Vec\n",
    "def load_google_word2vec(file_name):\n",
    "    return KeyedVectors.load_word2vec_format(file_name, binary=True)"
   ]
  },
  {
   "cell_type": "code",
   "execution_count": 163,
   "metadata": {
    "collapsed": true
   },
   "outputs": [],
   "source": [
    "#loading godin word embedding\n",
    "def load_godin_word_embedding(path):\n",
    "    print(\"Loading the model, this can take some time...\")\n",
    "    return godin_embedding.Word2Vec.load_word2vec_format(path, binary=True)"
   ]
  },
  {
   "cell_type": "code",
   "execution_count": 164,
   "metadata": {
    "collapsed": true
   },
   "outputs": [],
   "source": [
    "word2vec_model= load_google_word2vec('word_embeddings/GoogleNews-vectors-negative300.bin')"
   ]
  },
  {
   "cell_type": "code",
   "execution_count": 165,
   "metadata": {},
   "outputs": [
    {
     "name": "stdout",
     "output_type": "stream",
     "text": [
      "Loading the model, this can take some time...\n"
     ]
    }
   ],
   "source": [
    "godin_model = load_godin_word_embedding(\"word_embeddings/word2vec_twitter_model.bin\")"
   ]
  },
  {
   "cell_type": "code",
   "execution_count": 166,
   "metadata": {
    "collapsed": true
   },
   "outputs": [],
   "source": [
    "def get_embedding_matrix(model,sentence,prob_vector,godin_flag = False):\n",
    "    tokens = sentence.split()[:max_length]\n",
    "    if godin_flag:\n",
    "        embedding_matrix = np.zeros((max_length,400))\n",
    "    else:\n",
    "        embedding_matrix = np.zeros((max_length,300))\n",
    "    for i,word in enumerate(tokens):\n",
    "        try:\n",
    "            embedding_vector = model[word]\n",
    "        except KeyError:\n",
    "            embedding_vector = None\n",
    "        if embedding_vector is not None:\n",
    "            embedding_matrix[i]=embedding_vector\n",
    "            embedding_matrix[i]*=prob_vector[i]\n",
    "    return embedding_matrix"
   ]
  },
  {
   "cell_type": "code",
   "execution_count": 169,
   "metadata": {},
   "outputs": [
    {
     "name": "stdout",
     "output_type": "stream",
     "text": [
      "bulding word2vec matrix of data set\n",
      "bulding godin matrix of data set\n"
     ]
    }
   ],
   "source": [
    "print(\"bulding word2vec matrix of data set\")\n",
    "sentence_word2vec = np.asarray([get_embedding_matrix(word2vec_model,x,y[0]) for x,y in zip(sentence,sentence_enchance_prob)])\n",
    "print(\"bulding godin matrix of data set\")\n",
    "sentence_godin = np.asarray([get_embedding_matrix(godin_model,x,y[0],godin_flag=True) for x,y in zip(sentence,sentence_enchance_prob)])"
   ]
  },
  {
   "cell_type": "code",
   "execution_count": 170,
   "metadata": {
    "collapsed": true
   },
   "outputs": [],
   "source": [
    "def sk_mse(y_true,y_pred):\n",
    "     return K.mean(K.square(y_pred - y_true), axis=-1)"
   ]
  },
  {
   "cell_type": "code",
   "execution_count": 178,
   "metadata": {},
   "outputs": [],
   "source": [
    "model = load_model(\"models/sentiment_model.h5\", custom_objects={'sk_mse': sk_mse})"
   ]
  },
  {
   "cell_type": "code",
   "execution_count": 179,
   "metadata": {
    "collapsed": true
   },
   "outputs": [],
   "source": [
    "input_array_test = [sentence_godin,sentence_word2vec,sentence_godin]"
   ]
  },
  {
   "cell_type": "code",
   "execution_count": 180,
   "metadata": {},
   "outputs": [],
   "source": [
    "pred = model.predict(input_array_test)"
   ]
  },
  {
   "cell_type": "code",
   "execution_count": 181,
   "metadata": {
    "collapsed": true
   },
   "outputs": [],
   "source": [
    "pred_val = [x[0] for x in pred]"
   ]
  },
  {
   "cell_type": "code",
   "execution_count": 182,
   "metadata": {
    "collapsed": true
   },
   "outputs": [],
   "source": [
    "pred_val = rescale(pred_val,[0,1],[-1,1])"
   ]
  },
  {
   "cell_type": "code",
   "execution_count": 183,
   "metadata": {},
   "outputs": [
    {
     "data": {
      "text/plain": [
       "192"
      ]
     },
     "execution_count": 183,
     "metadata": {},
     "output_type": "execute_result"
    }
   ],
   "source": [
    "len(pred_val)"
   ]
  },
  {
   "cell_type": "code",
   "execution_count": 185,
   "metadata": {},
   "outputs": [],
   "source": [
    "# plt.hist(pred_val)"
   ]
  },
  {
   "cell_type": "code",
   "execution_count": 186,
   "metadata": {},
   "outputs": [
    {
     "data": {
      "text/plain": [
       "(192, 192, 192)"
      ]
     },
     "execution_count": 186,
     "metadata": {},
     "output_type": "execute_result"
    }
   ],
   "source": [
    "len(sentence_snippet),len(sentence_id),len(pred_val)"
   ]
  },
  {
   "cell_type": "code",
   "execution_count": 195,
   "metadata": {
    "collapsed": true
   },
   "outputs": [],
   "source": [
    "result = {'results':[]}"
   ]
  },
  {
   "cell_type": "code",
   "execution_count": 196,
   "metadata": {},
   "outputs": [],
   "source": [
    "for s_id,s_sn,s_score in zip(sentence_id,sentence_snippet,pred_val):\n",
    "    result['results'].append({'id':s_id,'snippet':s_sn,'sentiment_scores':str(s_score)})"
   ]
  },
  {
   "cell_type": "code",
   "execution_count": 197,
   "metadata": {},
   "outputs": [
    {
     "data": {
      "text/plain": [
       "{'results': [{'id': '0_Cuadrilla',\n",
       "   'sentiment_scores': '-0.13248014450073242',\n",
       "   'snippet': 'files to delay application'},\n",
       "  {'id': '1001_Sainsbury',\n",
       "   'sentiment_scores': '-0.20463716983795166',\n",
       "   'snippet': 'warns of squeeze on high street retailers'},\n",
       "  {'id': '1006_Barclays',\n",
       "   'sentiment_scores': '-0.279263436794281',\n",
       "   'snippet': 'fined for anti-money-laundering failings'},\n",
       "  {'id': '1007_Barclays',\n",
       "   'sentiment_scores': '-0.07986938953399658',\n",
       "   'snippet': 'fined for lax crime checks in'},\n",
       "  {'id': '1014_GSK',\n",
       "   'sentiment_scores': '0.18167603015899658',\n",
       "   'snippet': 'file up to 20 new drugs for approval by 2020'},\n",
       "  {'id': '1031_National Grid',\n",
       "   'sentiment_scores': '0.2502250671386719',\n",
       "   'snippet': 'Grid lines up sale of'},\n",
       "  {'id': '1034_British American Tobacco',\n",
       "   'sentiment_scores': '-0.13126909732818604',\n",
       "   'snippet': 'accused of bribing senior politicians to sabotage'},\n",
       "  {'id': '1035_MillerCoors',\n",
       "   'sentiment_scores': '0.16458725929260254',\n",
       "   'snippet': 'launches SAB bid, to sell'},\n",
       "  {'id': '1039_AstraZeneca',\n",
       "   'sentiment_scores': '0.36607396602630615',\n",
       "   'snippet': 'shares climb 3%'},\n",
       "  {'id': '103_Hammerson',\n",
       "   'sentiment_scores': '0.11906087398529053',\n",
       "   'snippet': 'rises on increased leasing activity'},\n",
       "  {'id': '1050_BAE Systems',\n",
       "   'sentiment_scores': '0.03790926933288574',\n",
       "   'snippet': 'cuts earnings target for 2015 and 370 jobs'},\n",
       "  {'id': '1055_Barclays',\n",
       "   'sentiment_scores': '-0.0813634991645813',\n",
       "   'snippet': 'settles with US investors over Libor manipulation'},\n",
       "  {'id': '1068_Bunzl',\n",
       "   'sentiment_scores': '0.1630321741104126',\n",
       "   'snippet': 'backs 2015 view, buys more businesses'},\n",
       "  {'id': '1075_L&G',\n",
       "   'sentiment_scores': '0.1761493682861328',\n",
       "   'snippet': 'strikes Â£230m bulk annuity deal'},\n",
       "  {'id': '1082_Bloomberg',\n",
       "   'sentiment_scores': '0.19861316680908203',\n",
       "   'snippet': \"buys Barclays' benchmarking business\"},\n",
       "  {'id': '1083_Barclays',\n",
       "   'sentiment_scores': '0.10580968856811523',\n",
       "   'snippet': 'in $13.75 million US settlement over'},\n",
       "  {'id': '1088_Tesco',\n",
       "   'sentiment_scores': '-0.07761096954345703',\n",
       "   'snippet': 'personnel director quits supermarket'},\n",
       "  {'id': '109_Severn Trent',\n",
       "   'sentiment_scores': '0.14713549613952637',\n",
       "   'snippet': 'expects costs hit from'},\n",
       "  {'id': '10_EasyJet',\n",
       "   'sentiment_scores': '0.16039776802062988',\n",
       "   'snippet': 'sees better first half'},\n",
       "  {'id': '1104_BHP Billiton',\n",
       "   'sentiment_scores': '-0.2192896604537964',\n",
       "   'snippet': 'to lower copper production costs'},\n",
       "  {'id': '1115_AstraZeneca',\n",
       "   'sentiment_scores': '0.2852356433868408',\n",
       "   'snippet': 'in Talks to Buy'},\n",
       "  {'id': '1123_Lloyds',\n",
       "   'sentiment_scores': '0.1928502321243286',\n",
       "   'snippet': 'sell-off plan'},\n",
       "  {'id': '1126_Barclays',\n",
       "   'sentiment_scores': '0.05577695369720459',\n",
       "   'snippet': \"to 'cut investment bank staff by another 20%'\"},\n",
       "  {'id': '1127_RBS',\n",
       "   'sentiment_scores': '0.07587194442749023',\n",
       "   'snippet': 'Investment Bank to Return to Profit After Overhaul,'},\n",
       "  {'id': '1138_Barclays',\n",
       "   'sentiment_scores': '0.061725735664367676',\n",
       "   'snippet': 'buy to lift profit from'},\n",
       "  {'id': '113_BHP',\n",
       "   'sentiment_scores': '-0.10536164045333862',\n",
       "   'snippet': 'outlook holds little cheer for small miners'},\n",
       "  {'id': '1163_Morrisons',\n",
       "   'sentiment_scores': '0.17142188549041748',\n",
       "   'snippet': 'beats forecasts'},\n",
       "  {'id': '1173_BP',\n",
       "   'sentiment_scores': '-0.19812864065170288',\n",
       "   'snippet': 'slash 4000 jobs globally as oil prices drop'},\n",
       "  {'id': '1175_Morrisons',\n",
       "   'sentiment_scores': '-0.08600544929504395',\n",
       "   'snippet': 'cuts fresh food prices'},\n",
       "  {'id': '117_AO World',\n",
       "   'sentiment_scores': '0.15784263610839844',\n",
       "   'snippet': 'shares tumble on profit warning'},\n",
       "  {'id': '1187_Direct Line',\n",
       "   'sentiment_scores': '0.1689838171005249',\n",
       "   'snippet': 'claims of Â£110-140 million from three storms'},\n",
       "  {'id': '1188_RBS',\n",
       "   'sentiment_scores': '-0.05249428749084473',\n",
       "   'snippet': 'snippet'},\n",
       "  {'id': '119_StanLife',\n",
       "   'sentiment_scores': '0.25413310527801514',\n",
       "   'snippet': 'after strong earnings'},\n",
       "  {'id': '1214_Diageo',\n",
       "   'sentiment_scores': '0.18595147132873535',\n",
       "   'snippet': 'offloads major wine interests'},\n",
       "  {'id': '1235_Glencore',\n",
       "   'sentiment_scores': '0.07653963565826416',\n",
       "   'snippet': 'launches refinancing of'},\n",
       "  {'id': '1238_Glencore',\n",
       "   'sentiment_scores': '0.09521603584289551',\n",
       "   'snippet': 'launches refinancing of $8.45billion loan'},\n",
       "  {'id': '124_RBS',\n",
       "   'sentiment_scores': '0.18193411827087402',\n",
       "   'snippet': 'tearing investment bank apart'},\n",
       "  {'id': '1254_Smith & Nephew',\n",
       "   'sentiment_scores': '0.14879357814788818',\n",
       "   'snippet': 'trading profit beats expectations'},\n",
       "  {'id': '1263_BT Group',\n",
       "   'sentiment_scores': '0.05440342426300049',\n",
       "   'snippet': 'third quarter revenues rise'},\n",
       "  {'id': '1266_Johnston Press',\n",
       "   'sentiment_scores': '0.18013501167297363',\n",
       "   'snippet': 'lines up deal for'},\n",
       "  {'id': '1269_BP',\n",
       "   'sentiment_scores': '-0.091541588306427',\n",
       "   'snippet': 'shares tumble after $2.2bn fourth-quarter loss'},\n",
       "  {'id': '126_Randgold Resources',\n",
       "   'sentiment_scores': '-0.0021442770957946777',\n",
       "   'snippet': 'Profit Decreases'},\n",
       "  {'id': '1271_BHP Billiton',\n",
       "   'sentiment_scores': '-0.18511641025543213',\n",
       "   'snippet': 'says no settlement yet on Brazil dam disaster'},\n",
       "  {'id': '1273_Hargreaves Landown',\n",
       "   'sentiment_scores': '0.07913339138031006',\n",
       "   'snippet': 'slides on trading update'},\n",
       "  {'id': '1280_AstraZeneca',\n",
       "   'sentiment_scores': '0.1214895248413086',\n",
       "   'snippet': 'lung cancer pill Tagrisso approved by'},\n",
       "  {'id': '1285_Berkshire Hathaway',\n",
       "   'sentiment_scores': '0.25575459003448486',\n",
       "   'snippet': 'profit jumps almost one third'},\n",
       "  {'id': '1286_Genel',\n",
       "   'sentiment_scores': '-0.11086386442184448',\n",
       "   'snippet': 'Cuts Crude Reserves at'},\n",
       "  {'id': '1300_AstraZeneca',\n",
       "   'sentiment_scores': '0.13853466510772705',\n",
       "   'snippet': 'agrees licensing deal for Plendil in China'},\n",
       "  {'id': '1301_Glencore',\n",
       "   'sentiment_scores': '0.07380592823028564',\n",
       "   'snippet': '5.7 pct fall in'},\n",
       "  {'id': '1310_Glencore',\n",
       "   'sentiment_scores': '0.14319968223571777',\n",
       "   'snippet': 'short-term debt early, shares rise'},\n",
       "  {'id': '131_Glaxo',\n",
       "   'sentiment_scores': '0.28191959857940674',\n",
       "   'snippet': 'as Earnings Beat Estimates'},\n",
       "  {'id': '1321_Weir Group',\n",
       "   'sentiment_scores': '0.01568758487701416',\n",
       "   'snippet': 'earnings take a tumble at'},\n",
       "  {'id': '1337_AstraZeneca',\n",
       "   'sentiment_scores': '0.1709153652191162',\n",
       "   'snippet': 'hit as 2016 revenue forecast to fall'},\n",
       "  {'id': '1338_Lloyds Banking Group',\n",
       "   'sentiment_scores': '0.2011634111404419',\n",
       "   'snippet': ' 7% dip in annual profits'},\n",
       "  {'id': '1340_Berkshire',\n",
       "   'sentiment_scores': '0.24690473079681396',\n",
       "   'snippet': 'raises oil bet with'},\n",
       "  {'id': '1344_Associated British Foods',\n",
       "   'sentiment_scores': '-9.417533874511719e-05',\n",
       "   'snippet': 'raises guidance as sterling wilts'},\n",
       "  {'id': '1347_Glencore',\n",
       "   'sentiment_scores': '0.20556950569152832',\n",
       "   'snippet': 'hit 3-month high after refinancing key credit line'},\n",
       "  {'id': '1348_JP Morgan Chase',\n",
       "   'sentiment_scores': '-0.03322869539260864',\n",
       "   'snippet': 'Chase for new CEO'},\n",
       "  {'id': '1355_Admiral and Schroders',\n",
       "   'sentiment_scores': '0.24529945850372314',\n",
       "   'snippet': 'with profits surge'},\n",
       "  {'id': '1361_Admiral',\n",
       "   'sentiment_scores': '0.3121081590652466',\n",
       "   'snippet': 'building sector gains'},\n",
       "  {'id': '1363_Legal & General',\n",
       "   'sentiment_scores': '0.05577695369720459',\n",
       "   'snippet': 'update outweighs profit rise'},\n",
       "  {'id': '1369_Kingfisher',\n",
       "   'sentiment_scores': '0.30690693855285645',\n",
       "   'snippet': 'as investors cheer Kingfisher results'},\n",
       "  {'id': '1374_BP',\n",
       "   'sentiment_scores': '0.0020329952239990234',\n",
       "   'snippet': 'as falling oil price takes toll'},\n",
       "  {'id': '1393_Shell',\n",
       "   'sentiment_scores': '-0.034029483795166016',\n",
       "   'snippet': 'remuneration fell in'},\n",
       "  {'id': '1397_HSBC',\n",
       "   'sentiment_scores': '-0.14910274744033813',\n",
       "   'snippet': \"report's release delayed amid US appeal\"},\n",
       "  {'id': '1399_Rio Tinto',\n",
       "   'sentiment_scores': '0.19291532039642334',\n",
       "   'snippet': 'picked to lead'},\n",
       "  {'id': '1401_Barclays',\n",
       "   'sentiment_scores': '0.07509708404541016',\n",
       "   'snippet': ' 8% fall in'},\n",
       "  {'id': '1406_Metro Bank',\n",
       "   'sentiment_scores': '0.1782679557800293',\n",
       "   'snippet': 'raises Â£400m ahead of'},\n",
       "  {'id': '1411_Sports Direct',\n",
       "   'sentiment_scores': '-0.03384709358215332',\n",
       "   'snippet': 'for questioning over the treatment of'},\n",
       "  {'id': '1413_Aggreko',\n",
       "   'sentiment_scores': '0.05577695369720459',\n",
       "   'snippet': 'first half profits will be lower as the oil price rout'},\n",
       "  {'id': '141_Berkshire Hathaway',\n",
       "   'sentiment_scores': '0.09768497943878174',\n",
       "   'snippet': 'profit declines 17 percent'},\n",
       "  {'id': '144_Bunzl',\n",
       "   'sentiment_scores': '0.2660245895385742',\n",
       "   'snippet': 'delivers small profit increase for'},\n",
       "  {'id': '1452_BP',\n",
       "   'sentiment_scores': '0.006151437759399414',\n",
       "   'snippet': 'earnings slide as low oil prices take their toll'},\n",
       "  {'id': '1457_BP',\n",
       "   'sentiment_scores': '-0.02367180585861206',\n",
       "   'snippet': 'Reports $583 Million Loss in First Quarter'},\n",
       "  {'id': '1459_AB InBev',\n",
       "   'sentiment_scores': '0.2043818235397339',\n",
       "   'snippet': 'offers to sell some'},\n",
       "  {'id': '1464_AstraZeneca',\n",
       "   'sentiment_scores': '-0.04273039102554321',\n",
       "   'snippet': 'to cut costs but stays silent on'},\n",
       "  {'id': '1466_Barclays',\n",
       "   'sentiment_scores': '0.11654627323150635',\n",
       "   'snippet': 'to Sell French Consumer Operations'},\n",
       "  {'id': '1479_Kraft Heinz',\n",
       "   'sentiment_scores': '-0.14502054452896118',\n",
       "   'snippet': 'Buffett says cuts will pay off at'},\n",
       "  {'id': '1483_Shoeders',\n",
       "   'sentiment_scores': '0.043366432189941406',\n",
       "   'snippet': 'hit record in Q1, buoyed by'},\n",
       "  {'id': '1489_Barclays',\n",
       "   'sentiment_scores': '0.09002625942230225',\n",
       "   'snippet': 'stand trial in Libor case'},\n",
       "  {'id': '148_Standard Life',\n",
       "   'sentiment_scores': '-0.0835644006729126',\n",
       "   'snippet': 'impresses as fee-based products offset annuities slump'},\n",
       "  {'id': '1494_Sky',\n",
       "   'sentiment_scores': '-0.10330939292907715',\n",
       "   'snippet': 'slips from 2016 high'},\n",
       "  {'id': '149_Reed Elsevier',\n",
       "   'sentiment_scores': '0.11416542530059814',\n",
       "   'snippet': 'shares cool after profit dip'},\n",
       "  {'id': '1520_Lloyds',\n",
       "   'sentiment_scores': '0.024371027946472168',\n",
       "   'snippet': 'helps to shield Lloyds from banking chill'},\n",
       "  {'id': '1538_Centrica',\n",
       "   'sentiment_scores': '-0.022366344928741455',\n",
       "   'snippet': 'shares drop 7% amid capital raise'},\n",
       "  {'id': '1539_United Utilities',\n",
       "   'sentiment_scores': '0.14628732204437256',\n",
       "   'snippet': 'profit up 3.5%'},\n",
       "  {'id': '1542_Compass',\n",
       "   'sentiment_scores': '0.24315595626831055',\n",
       "   'snippet': 'serves up half year profit rise'},\n",
       "  {'id': '1547_SABMiller',\n",
       "   'sentiment_scores': '-0.12682443857192993',\n",
       "   'snippet': ' causes full-year headaches for'},\n",
       "  {'id': '1572_Exxon',\n",
       "   'sentiment_scores': '-0.03630274534225464',\n",
       "   'snippet': 'overhaul to be slowed by accident:'},\n",
       "  {'id': '1574_G4S',\n",
       "   'sentiment_scores': '0.1156008243560791',\n",
       "   'snippet': \"claims 'positive' start to the year\"},\n",
       "  {'id': '1594_Rio Tinto',\n",
       "   'sentiment_scores': '0.010578274726867676',\n",
       "   'snippet': 'announces long-delayed expansion of Mongolia mine'},\n",
       "  {'id': '1603_Apple',\n",
       "   'sentiment_scores': '0.1996515989303589',\n",
       "   'snippet': 'buys stake in'},\n",
       "  {'id': '1614_Royal Mail',\n",
       "   'sentiment_scores': '0.05577695369720459',\n",
       "   'snippet': 'will not impose new price controls on'},\n",
       "  {'id': '19167$GILD',\n",
       "   'sentiment_scores': '0.1949695348739624',\n",
       "   'snippet': 'Back in'},\n",
       "  {'id': '19168$LE',\n",
       "   'sentiment_scores': '0.21218371391296387',\n",
       "   'snippet': 'Back in for a swing'},\n",
       "  {'id': '19169$WLL',\n",
       "   'sentiment_scores': '0.12416338920593262',\n",
       "   'snippet': 'In for a quarter position'},\n",
       "  {'id': '19170$VNR',\n",
       "   'sentiment_scores': '0.1702519655227661',\n",
       "   'snippet': 'Just added 2,300'},\n",
       "  {'id': '19171$TSLA',\n",
       "   'sentiment_scores': '0.17063522338867188',\n",
       "   'snippet': 'Bought'},\n",
       "  {'id': '19172$ZTO',\n",
       "   'sentiment_scores': '0.20840907096862793',\n",
       "   'snippet': 'accumulating more'},\n",
       "  {'id': '19173$TSLA',\n",
       "   'sentiment_scores': '0.2387235164642334',\n",
       "   'snippet': 'might buy'},\n",
       "  {'id': '19174$MSFT',\n",
       "   'sentiment_scores': '0.2919851541519165',\n",
       "   'snippet': 'Just buy back at open'},\n",
       "  {'id': '19175$BZUN',\n",
       "   'sentiment_scores': '0.19820082187652588',\n",
       "   'snippet': 'good entry right now'},\n",
       "  {'id': '19176$MU',\n",
       "   'sentiment_scores': '0.06149113178253174',\n",
       "   'snippet': 'I ll buy 5 thousand shares'},\n",
       "  {'id': '19177$UGAZ',\n",
       "   'sentiment_scores': '0.18026494979858398',\n",
       "   'snippet': \"Guess I'll buy another 1k shares\"},\n",
       "  {'id': '19178$UWTI',\n",
       "   'sentiment_scores': '0.06588912010192871',\n",
       "   'snippet': 'Might sell all by Monday'},\n",
       "  {'id': '19179$MU ',\n",
       "   'sentiment_scores': '0.07771790027618408',\n",
       "   'snippet': 'Im out... Sold'},\n",
       "  {'id': '19180$PLX',\n",
       "   'sentiment_scores': '0.12331175804138184',\n",
       "   'snippet': 'i sold my 50k shares'},\n",
       "  {'id': '19181$DRYS',\n",
       "   'sentiment_scores': '0.17607712745666504',\n",
       "   'snippet': 'sold my position!'},\n",
       "  {'id': '19182$PEIX',\n",
       "   'sentiment_scores': '0.2722588777542114',\n",
       "   'snippet': 'sold my $PEIX shares today'},\n",
       "  {'id': '19183$AAPL',\n",
       "   'sentiment_scores': '0.04775655269622803',\n",
       "   'snippet': 'Sold position'},\n",
       "  {'id': '19184$AZO',\n",
       "   'sentiment_scores': '0.21054506301879883',\n",
       "   'snippet': 'Sold remaining'},\n",
       "  {'id': '19185$BABA',\n",
       "   'sentiment_scores': '0.092734694480896',\n",
       "   'snippet': 'But I’m running away from this.'},\n",
       "  {'id': '19186$SPY',\n",
       "   'sentiment_scores': '-0.1144111156463623',\n",
       "   'snippet': 'Sold my 240 puts'},\n",
       "  {'id': '19187$DRYS',\n",
       "   'sentiment_scores': '0.1568431854248047',\n",
       "   'snippet': 'i exited'},\n",
       "  {'id': '19188$SHOP',\n",
       "   'sentiment_scores': '0.05577695369720459',\n",
       "   'snippet': 'overbought on $SHOP and momentum is falling'},\n",
       "  {'id': '19189$JNUG',\n",
       "   'sentiment_scores': '0.1431872844696045',\n",
       "   'snippet': 'overbought, need to reset technicals'},\n",
       "  {'id': '19190$GV',\n",
       "   'sentiment_scores': '-0.08602231740951538',\n",
       "   'snippet': 'markets overbought ...feel the correction is close'},\n",
       "  {'id': '19191$KATE',\n",
       "   'sentiment_scores': '0.0628347396850586',\n",
       "   'snippet': 'overbought, shooting star candle'},\n",
       "  {'id': '19192$IO',\n",
       "   'sentiment_scores': '0.07618355751037598',\n",
       "   'snippet': 'market extreme overbought here'},\n",
       "  {'id': '19193$DCTH',\n",
       "   'sentiment_scores': '0.1813873052597046',\n",
       "   'snippet': 'seriously over bought'},\n",
       "  {'id': '19194$SQ',\n",
       "   'sentiment_scores': '-0.03481477499008179',\n",
       "   'snippet': 'overbought by all the FOMO traders'},\n",
       "  {'id': '19195$AZO',\n",
       "   'sentiment_scores': '0.13228797912597656',\n",
       "   'snippet': 'look overbought yet at this level..'},\n",
       "  {'id': '19196$GMED',\n",
       "   'sentiment_scores': '0.14916777610778809',\n",
       "   'snippet': 'looks overbought at this level'},\n",
       "  {'id': '19197$NVDA',\n",
       "   'sentiment_scores': '0.17788255214691162',\n",
       "   'snippet': 'what a bubble this stock is'},\n",
       "  {'id': '19198$CIE',\n",
       "   'sentiment_scores': '-0.15366899967193604',\n",
       "   'snippet': 'stock is oversold and shorted to death'},\n",
       "  {'id': '19199$FTR',\n",
       "   'sentiment_scores': '0.1526787281036377',\n",
       "   'snippet': 'Bought $FTR on belief stock oversold'},\n",
       "  {'id': '19200$VIAV',\n",
       "   'sentiment_scores': '0.11083006858825684',\n",
       "   'snippet': 'Oversold winning 62.65% in the past'},\n",
       "  {'id': '19201 $AGRX ',\n",
       "   'sentiment_scores': '-0.007844626903533936',\n",
       "   'snippet': 'STOCKS OVERSOLD RSI 20'},\n",
       "  {'id': '19202$RH',\n",
       "   'sentiment_scores': '0.05577695369720459',\n",
       "   'snippet': 'All of retail oversold'},\n",
       "  {'id': '19203$SINO',\n",
       "   'sentiment_scores': '0.03171694278717041',\n",
       "   'snippet': 'These stocks are OVERSOLD & UNDERVALUED!'},\n",
       "  {'id': '19204$KEM',\n",
       "   'sentiment_scores': '0.11824691295623779',\n",
       "   'snippet': 'looks like oversold already'},\n",
       "  {'id': '19205$ENDP',\n",
       "   'sentiment_scores': '0.1602327823638916',\n",
       "   'snippet': 'in oversold territory'},\n",
       "  {'id': '19206$FB',\n",
       "   'sentiment_scores': '0.1483975648880005',\n",
       "   'snippet': 'waaaay too hot!!!  /  due for another tech sell off!!!'},\n",
       "  {'id': '19207$WY',\n",
       "   'sentiment_scores': '-0.26876866817474365',\n",
       "   'snippet': 'overvalued'},\n",
       "  {'id': '19208$MTN',\n",
       "   'sentiment_scores': '0.015782833099365234',\n",
       "   'snippet': 'this stock is so overvalued its ridiculous'},\n",
       "  {'id': '19209$PCLN',\n",
       "   'sentiment_scores': '-0.059348344802856445',\n",
       "   'snippet': 'overvalued by 51.76%, mediocre fundamentals'},\n",
       "  {'id': '19210$DPZ',\n",
       "   'sentiment_scores': '-0.012796223163604736',\n",
       "   'snippet': 'overvalued and leveraged company'},\n",
       "  {'id': '19211$RIG',\n",
       "   'sentiment_scores': '0.009009838104248047',\n",
       "   'snippet': 'are overvalued...'},\n",
       "  {'id': '19212$NFX',\n",
       "   'sentiment_scores': '0.15059876441955566',\n",
       "   'snippet': 'still looks overpriced'},\n",
       "  {'id': '19213$AAPL',\n",
       "   'sentiment_scores': '0.006423234939575195',\n",
       "   'snippet': 'Selling pressure'},\n",
       "  {'id': '19214$AAPL',\n",
       "   'sentiment_scores': '0.12115633487701416',\n",
       "   'snippet': 'under more selling pressure today'},\n",
       "  {'id': '19215$AAPL',\n",
       "   'sentiment_scores': '0.23053014278411865',\n",
       "   'snippet': 'indicating downward selling pressure'},\n",
       "  {'id': '19216$TVIX',\n",
       "   'sentiment_scores': '-0.03262662887573242',\n",
       "   'snippet': 'please stop selling people'},\n",
       "  {'id': '19217$XNET',\n",
       "   'sentiment_scores': '-0.08081531524658203',\n",
       "   'snippet': \"don't catch this falling Knife\"},\n",
       "  {'id': '19218$CYTX',\n",
       "   'sentiment_scores': '0.19435405731201172',\n",
       "   'snippet': '3 day trading is oversold'},\n",
       "  {'id': '19219$SBGL',\n",
       "   'sentiment_scores': '0.2093653678894043',\n",
       "   'snippet': 'The most undervalued'},\n",
       "  {'id': '19220$ARNC',\n",
       "   'sentiment_scores': '0.1420884132385254',\n",
       "   'snippet': 'Stock is significantly undervalued'},\n",
       "  {'id': '19221$CXW',\n",
       "   'sentiment_scores': '0.20278513431549072',\n",
       "   'snippet': 'is currently way undervalued and will rise back to'},\n",
       "  {'id': '19222$AMZN',\n",
       "   'sentiment_scores': '0.1552257537841797',\n",
       "   'snippet': 'Reiterates “Buy” Rating'},\n",
       "  {'id': '19223$AMZN',\n",
       "   'sentiment_scores': '0.17464160919189453',\n",
       "   'snippet': 'Sticks to Its Buy Rating for'},\n",
       "  {'id': '19224$A',\n",
       "   'sentiment_scores': '0.08919453620910645',\n",
       "   'snippet': 'Reiterates Buy'},\n",
       "  {'id': '19225$AMC',\n",
       "   'sentiment_scores': '0.18764424324035645',\n",
       "   'snippet': 'analysts have a buy rating on'},\n",
       "  {'id': '19226$MGM',\n",
       "   'sentiment_scores': '0.19987201690673828',\n",
       "   'snippet': 'reiterated a BUY'},\n",
       "  {'id': '19227$CHKP',\n",
       "   'sentiment_scores': '0.2607128620147705',\n",
       "   'snippet': 'Receives Outperform Rating'},\n",
       "  {'id': '19228$SWI',\n",
       "   'sentiment_scores': '0.1539241075515747',\n",
       "   'snippet': 'downgraded to market perform'},\n",
       "  {'id': '19229$DH',\n",
       "   'sentiment_scores': '-0.09425050020217896',\n",
       "   'snippet': 'dropped rating to under perform'},\n",
       "  {'id': '19230$SPG',\n",
       "   'sentiment_scores': '0.12007021903991699',\n",
       "   'snippet': 'downgraded to Neutral'},\n",
       "  {'id': '19231$AMZN',\n",
       "   'sentiment_scores': '0.20511400699615479',\n",
       "   'snippet': 'Downgraded'},\n",
       "  {'id': '19232$TWTR',\n",
       "   'sentiment_scores': '0.14240026473999023',\n",
       "   'snippet': 'Rating Lowered'},\n",
       "  {'id': '19233$GE',\n",
       "   'sentiment_scores': '0.14049911499023438',\n",
       "   'snippet': 'gets a raise'},\n",
       "  {'id': '19234$AMZN',\n",
       "   'sentiment_scores': '0.26753735542297363',\n",
       "   'snippet': 'just had an analyst rating upgrade'},\n",
       "  {'id': '19235$FANG',\n",
       "   'sentiment_scores': '0.2771744728088379',\n",
       "   'snippet': 'Gets Rating Upgrade'},\n",
       "  {'id': '19236$TSO',\n",
       "   'sentiment_scores': '0.2256985902786255',\n",
       "   'snippet': 'Achieves Investment Grade Credit Ratin'},\n",
       "  {'id': '19237$ITC',\n",
       "   'sentiment_scores': '0.1939452886581421',\n",
       "   'snippet': 'Rating: Upgrade To'},\n",
       "  {'id': '19238$FB',\n",
       "   'sentiment_scores': '0.20750534534454346',\n",
       "   'snippet': 'Buy rating'},\n",
       "  {'id': '19239$CLI',\n",
       "   'sentiment_scores': '0.18699157238006592',\n",
       "   'snippet': 'Barclays reiterated Mack-Cali Realty $CLI at Sell'},\n",
       "  {'id': '19240$UAA',\n",
       "   'sentiment_scores': '0.01831519603729248',\n",
       "   'snippet': 'downgraded to Sell'},\n",
       "  {'id': '19241$AMD',\n",
       "   'sentiment_scores': '0.14682984352111816',\n",
       "   'snippet': 'reiterated Sell rating'},\n",
       "  {'id': '19242$AMD',\n",
       "   'sentiment_scores': '0.22580373287200928',\n",
       "   'snippet': 'issued a sell rating'},\n",
       "  {'id': '19243$GE',\n",
       "   'sentiment_scores': '0.08313417434692383',\n",
       "   'snippet': 'insiders have only been buying'},\n",
       "  {'id': '19244$COTY',\n",
       "   'sentiment_scores': '0.14764750003814697',\n",
       "   'snippet': 'significant insider buying'},\n",
       "  {'id': '19245$PLXP',\n",
       "   'sentiment_scores': '0.18068885803222656',\n",
       "   'snippet': 'insider buying taking place'},\n",
       "  {'id': '19246$TOL',\n",
       "   'sentiment_scores': '0.012371182441711426',\n",
       "   'snippet': 'earnings miss today'},\n",
       "  {'id': '19247$XTNT ',\n",
       "   'sentiment_scores': '0.1985316276550293',\n",
       "   'snippet': 'increase in revenue yoy'},\n",
       "  {'id': '19248$PTLA',\n",
       "   'sentiment_scores': '0.06505393981933594',\n",
       "   'snippet': 'why are the insider selling?'},\n",
       "  {'id': '19249$KO',\n",
       "   'sentiment_scores': '0.3357433080673218',\n",
       "   'snippet': 'earnings beat expectations'},\n",
       "  {'id': '19250$FORD',\n",
       "   'sentiment_scores': '0.23121857643127441',\n",
       "   'snippet': 'Q2 earnings beat'},\n",
       "  {'id': '19251$ST',\n",
       "   'sentiment_scores': '0.23663771152496338',\n",
       "   'snippet': 'Up Following Earnings Beat'},\n",
       "  {'id': '19252$BBBY',\n",
       "   'sentiment_scores': '-0.07694625854492188',\n",
       "   'snippet': \"After earnings it's tanking\"},\n",
       "  {'id': '19253$SPPI',\n",
       "   'sentiment_scores': '-0.12558066844940186',\n",
       "   'snippet': 'bad earnings'},\n",
       "  {'id': '19254$HIMX',\n",
       "   'sentiment_scores': '0.12240302562713623',\n",
       "   'snippet': 'earnings miss'},\n",
       "  {'id': '19255$MONY',\n",
       "   'sentiment_scores': '-0.10228443145751953',\n",
       "   'snippet': 'profit warning'},\n",
       "  {'id': '19256$GTOFF',\n",
       "   'sentiment_scores': '-0.06821966171264648',\n",
       "   'snippet': 'profit warning'},\n",
       "  {'id': '19257$HIBB',\n",
       "   'sentiment_scores': '0.05577695369720459',\n",
       "   'snippet': 'profit warning'},\n",
       "  {'id': '19258$ITV',\n",
       "   'sentiment_scores': '0.17981946468353271',\n",
       "   'snippet': 'drives down profits and advertising revenue'},\n",
       "  {'id': '19259$GM',\n",
       "   'sentiment_scores': '0.09874534606933594',\n",
       "   'snippet': 'Revenue $37BN, down'},\n",
       "  {'id': '19260$CTG',\n",
       "   'sentiment_scores': '-0.053524911403656006',\n",
       "   'snippet': 'revenue falls'},\n",
       "  {'id': '19261$IBM',\n",
       "   'sentiment_scores': '0.27460217475891113',\n",
       "   'snippet': 'revenue growth dow'},\n",
       "  {'id': '19262$CAT',\n",
       "   'sentiment_scores': '0.13386595249176025',\n",
       "   'snippet': 'big revenue & sales increases'},\n",
       "  {'id': '19263$GOOG',\n",
       "   'sentiment_scores': '0.11656558513641357',\n",
       "   'snippet': 'revenue up 21 percent'},\n",
       "  {'id': '19264$PEP',\n",
       "   'sentiment_scores': '0.2863970994949341',\n",
       "   'snippet': 'reported net revenue up 2.0%'},\n",
       "  {'id': '19265$SHOP',\n",
       "   'sentiment_scores': '0.25758540630340576',\n",
       "   'snippet': 'revenue up 86% year-over-year'}]}"
      ]
     },
     "execution_count": 197,
     "metadata": {},
     "output_type": "execute_result"
    }
   ],
   "source": [
    "result"
   ]
  },
  {
   "cell_type": "code",
   "execution_count": 198,
   "metadata": {
    "collapsed": true
   },
   "outputs": [],
   "source": [
    "with open('results/sentiment_result.json','w') as fout:\n",
    "    json.dump(result,fout,indent=4)"
   ]
  },
  {
   "cell_type": "code",
   "execution_count": null,
   "metadata": {
    "collapsed": true
   },
   "outputs": [],
   "source": []
  }
 ],
 "metadata": {
  "kernelspec": {
   "display_name": "Python 3",
   "language": "python",
   "name": "python3"
  },
  "language_info": {
   "codemirror_mode": {
    "name": "ipython",
    "version": 3
   },
   "file_extension": ".py",
   "mimetype": "text/x-python",
   "name": "python",
   "nbconvert_exporter": "python",
   "pygments_lexer": "ipython3",
   "version": "3.6.3"
  }
 },
 "nbformat": 4,
 "nbformat_minor": 2
}
