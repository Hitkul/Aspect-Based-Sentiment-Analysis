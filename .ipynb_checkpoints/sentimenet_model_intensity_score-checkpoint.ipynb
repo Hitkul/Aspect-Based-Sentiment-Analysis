{
 "cells": [
  {
   "cell_type": "code",
   "execution_count": 53,
   "metadata": {},
   "outputs": [],
   "source": [
    "#multi channel CNN for sentiment analysis\n",
    "from nltk.corpus import stopwords\n",
    "from string import punctuation\n",
    "import pandas as pd\n",
    "import json\n",
    "import numpy as np\n",
    "import re\n",
    "import csv\n",
    "import codecs\n",
    "import word2vecReader as godin_embedding\n",
    "import pickle\n",
    "from random import shuffle\n",
    "from keras.preprocessing.text import Tokenizer\n",
    "from keras.preprocessing.sequence import pad_sequences\n",
    "from keras.utils.vis_utils import plot_model\n",
    "from keras.utils import to_categorical\n",
    "from keras.models import Model\n",
    "from keras.layers import Input\n",
    "from keras.layers import Dense\n",
    "from keras.layers import Flatten\n",
    "from keras.layers import Dropout\n",
    "from keras.layers import Embedding\n",
    "from keras.layers.convolutional import Conv1D\n",
    "from keras.layers.convolutional import MaxPooling1D\n",
    "from keras.optimizers import Adam\n",
    "from keras.layers.merge import concatenate\n",
    "import keras.backend as K\n",
    "import matplotlib.pyplot as plt\n",
    "%matplotlib inline\n",
    "from scipy.interpolate import interp1d\n",
    "from sklearn.metrics import mean_squared_error\n",
    "from math import sqrt\n",
    "from gensim.models import KeyedVectors\n",
    "import skopt\n",
    "from skopt import gp_minimize, forest_minimize\n",
    "from skopt.space import Real, Categorical, Integer\n",
    "from skopt.utils import use_named_args"
   ]
  },
  {
   "cell_type": "code",
   "execution_count": 54,
   "metadata": {
    "collapsed": true
   },
   "outputs": [],
   "source": [
    "#loading data\n",
    "def load_data_from_file(filename):\n",
    "    print(\"loading file = \",filename)\n",
    "    with open(filename,'r') as f:\n",
    "        foo = json.load(f)\n",
    "        \n",
    "    sentence = []\n",
    "    score = []\n",
    "    for key in foo.keys():\n",
    "        for info in foo[key]['info']:\n",
    "#             print(eval(info['snippets'])[0])\n",
    "            sentence.append(eval(info['snippets'])[0])\n",
    "            score.append(float(info['sentiment_score']))\n",
    "#         sentence_id.append(key)\n",
    "#         sentence.append(foo[key]['sentence'])\n",
    "#         score.append(float(foo[key]['info'][0]['sentiment_score']))\n",
    "    return sentence,score"
   ]
  },
  {
   "cell_type": "code",
   "execution_count": 55,
   "metadata": {},
   "outputs": [
    {
     "name": "stdout",
     "output_type": "stream",
     "text": [
      "loading file =  dataset/master_train.json\n",
      "loading file =  dataset/master_test.json\n"
     ]
    }
   ],
   "source": [
    "trainX,trainY = load_data_from_file('dataset/master_train.json')\n",
    "testX,testY = load_data_from_file('dataset/master_test.json')"
   ]
  },
  {
   "cell_type": "code",
   "execution_count": 56,
   "metadata": {},
   "outputs": [
    {
     "data": {
      "text/plain": [
       "(1060, 1060)"
      ]
     },
     "execution_count": 56,
     "metadata": {},
     "output_type": "execute_result"
    }
   ],
   "source": [
    "len(trainX),len(trainY)"
   ]
  },
  {
   "cell_type": "code",
   "execution_count": 57,
   "metadata": {},
   "outputs": [
    {
     "data": {
      "text/plain": [
       "(111, 111)"
      ]
     },
     "execution_count": 57,
     "metadata": {},
     "output_type": "execute_result"
    }
   ],
   "source": [
    "len(testX),len(testY)"
   ]
  },
  {
   "cell_type": "code",
   "execution_count": 58,
   "metadata": {
    "collapsed": true
   },
   "outputs": [],
   "source": [
    "def rescale(series):\n",
    "    m = interp1d([-1,1],[0,1])\n",
    "    return [float(m(x)) for x in series]"
   ]
  },
  {
   "cell_type": "code",
   "execution_count": 59,
   "metadata": {},
   "outputs": [],
   "source": [
    "trainY = rescale(trainY)\n",
    "testY = rescale(testY)"
   ]
  },
  {
   "cell_type": "code",
   "execution_count": null,
   "metadata": {},
   "outputs": [],
   "source": []
  },
  {
   "cell_type": "code",
   "execution_count": 60,
   "metadata": {
    "collapsed": true
   },
   "outputs": [],
   "source": [
    "def remove_punctuation(s):\n",
    "    list_punctuation = list(punctuation.replace('$',''))\n",
    "    for i in list_punctuation:\n",
    "        s = s.replace(i,'')\n",
    "    return s"
   ]
  },
  {
   "cell_type": "code",
   "execution_count": 61,
   "metadata": {
    "collapsed": true
   },
   "outputs": [],
   "source": [
    "def clean_sentence(sentence):\n",
    "    #remove multiple repeat non num-aplha char !!!!!!!!!-->!\n",
    "    sentence = re.sub(r'(\\W)\\1{2,}', r'\\1', sentence) \n",
    "    #removes alpha char repeating more than twice aaaa->aa\n",
    "    sentence = re.sub(r'(\\w)\\1{2,}', r'\\1\\1', sentence)\n",
    "    #removes links\n",
    "    sentence = re.sub(r'(?P<url>https?://[^\\s]+)', r'', sentence)\n",
    "    # remove @usernames\n",
    "    sentence = re.sub(r\"\\@(\\w+)\", \"\", sentence)\n",
    "    #removing stock names to see if it helps\n",
    "#     sentence = re.sub(r\"(?:\\$|https?\\://)\\S+\", \"\", sentence)\n",
    "    #remove # from #tags\n",
    "    sentence = sentence.replace('#','')\n",
    "    # split into tokens by white space\n",
    "    tokens = sentence.split()\n",
    "    # remove punctuation from each token\n",
    "    tokens = [remove_punctuation(w) for w in tokens]\n",
    "#     remove remaining tokens that are not alphabetic\n",
    "#     tokens = [word for word in tokens if word.isalpha()]\n",
    "#no removing non alpha words to keep stock names($ZSL)\n",
    "    # filter out stop words\n",
    "    stop_words = set(stopwords.words('english'))\n",
    "    tokens = [w for w in tokens if not w in stop_words]\n",
    "    # filter out short tokens\n",
    "    tokens = [word for word in tokens if len(word) > 1]\n",
    "    tokens = ' '.join(tokens)\n",
    "    return tokens"
   ]
  },
  {
   "cell_type": "code",
   "execution_count": 62,
   "metadata": {},
   "outputs": [
    {
     "name": "stdout",
     "output_type": "stream",
     "text": [
      "cleaning train set\n",
      "cleaning test set\n"
     ]
    }
   ],
   "source": [
    "# extract sentences out of df and cleaning it\n",
    "print('cleaning train set')\n",
    "trainX = [clean_sentence(x) for x in trainX]\n",
    "print('cleaning test set')\n",
    "testX = [clean_sentence(x) for x in testX]\n",
    "# sentences"
   ]
  },
  {
   "cell_type": "code",
   "execution_count": 63,
   "metadata": {},
   "outputs": [
    {
     "name": "stdout",
     "output_type": "stream",
     "text": [
      "1060 1060\n",
      "111 111\n"
     ]
    }
   ],
   "source": [
    "print(len(trainX),len(trainY))\n",
    "print(len(testX),len(testY))"
   ]
  },
  {
   "cell_type": "code",
   "execution_count": 64,
   "metadata": {
    "collapsed": true
   },
   "outputs": [],
   "source": [
    "trainY = np.asarray(trainY)\n",
    "testY = np.asarray(testY)"
   ]
  },
  {
   "cell_type": "code",
   "execution_count": 65,
   "metadata": {
    "collapsed": true
   },
   "outputs": [],
   "source": [
    "lengths = [len(s.split()) for s in trainX]\n",
    "max_length = max(lengths)"
   ]
  },
  {
   "cell_type": "code",
   "execution_count": 66,
   "metadata": {},
   "outputs": [
    {
     "data": {
      "text/plain": [
       "(array([0.11792453, 0.15902965, 0.26347709, 0.07816712, 0.0458221 ,\n",
       "        0.04312668, 0.00269542, 0.00336927, 0.        , 0.00067385]),\n",
       " array([ 1. ,  2.4,  3.8,  5.2,  6.6,  8. ,  9.4, 10.8, 12.2, 13.6, 15. ]),\n",
       " <a list of 10 Patch objects>)"
      ]
     },
     "execution_count": 66,
     "metadata": {},
     "output_type": "execute_result"
    },
    {
     "data": {
      "image/png": "[encoded data removed]",
      "text/plain": [
       "<matplotlib.figure.Figure at 0x7ffa12551198>"
      ]
     },
     "metadata": {},
     "output_type": "display_data"
    }
   ],
   "source": [
    "plt.subplots(figsize=(12,10))\n",
    "plt.hist(lengths, normed=True,edgecolor='black')"
   ]
  },
  {
   "cell_type": "code",
   "execution_count": 67,
   "metadata": {
    "collapsed": true
   },
   "outputs": [],
   "source": [
    "#loading Google Word2Vec\n",
    "def load_google_word2vec(file_name):\n",
    "    return KeyedVectors.load_word2vec_format(file_name, binary=True)"
   ]
  },
  {
   "cell_type": "code",
   "execution_count": 68,
   "metadata": {
    "collapsed": true
   },
   "outputs": [],
   "source": [
    "word2vec_model= load_google_word2vec('word_embeddings/GoogleNews-vectors-negative300.bin')"
   ]
  },
  {
   "cell_type": "code",
   "execution_count": 69,
   "metadata": {
    "collapsed": true
   },
   "outputs": [],
   "source": [
    "#loading godin word embedding\n",
    "def load_godin_word_embedding(path):\n",
    "    print(\"Loading the model, this can take some time...\")\n",
    "    return godin_embedding.Word2Vec.load_word2vec_format(path, binary=True)"
   ]
  },
  {
   "cell_type": "code",
   "execution_count": 70,
   "metadata": {},
   "outputs": [
    {
     "name": "stdout",
     "output_type": "stream",
     "text": [
      "Loading the model, this can take some time...\n"
     ]
    }
   ],
   "source": [
    "godin_model = load_godin_word_embedding(\"word_embeddings/word2vec_twitter_model.bin\")"
   ]
  },
  {
   "cell_type": "code",
   "execution_count": 71,
   "metadata": {
    "collapsed": true
   },
   "outputs": [],
   "source": [
    "def get_embedding_matrix(model,sentence,godin_flag = False):\n",
    "    tokens = sentence.split()[:max_length]\n",
    "    if godin_flag:\n",
    "        embedding_matrix = np.zeros((max_length,400))\n",
    "    else:\n",
    "        embedding_matrix = np.zeros((max_length,300))\n",
    "    for i,word in enumerate(tokens):\n",
    "        try:\n",
    "            embedding_vector = model[word]\n",
    "        except KeyError:\n",
    "            embedding_vector = None\n",
    "        if embedding_vector is not None:\n",
    "            embedding_matrix[i]=embedding_vector\n",
    "    return embedding_matrix"
   ]
  },
  {
   "cell_type": "code",
   "execution_count": 72,
   "metadata": {},
   "outputs": [
    {
     "name": "stdout",
     "output_type": "stream",
     "text": [
      "bulding word2vec matrix of train set\n",
      "bulding godin matrix of train set\n",
      "bulding word2vec matrix of dev set\n",
      "bulding godin matrix of dev set\n"
     ]
    }
   ],
   "source": [
    "print(\"bulding word2vec matrix of train set\")\n",
    "train_word2vec = np.asarray([get_embedding_matrix(word2vec_model,x) for x in trainX])\n",
    "print(\"bulding godin matrix of train set\")\n",
    "train_godin = np.asarray([get_embedding_matrix(godin_model,x,godin_flag=True) for x in trainX])\n",
    "print(\"bulding word2vec matrix of dev set\")\n",
    "test_word2vec = np.asarray([get_embedding_matrix(word2vec_model,x) for x in testX])\n",
    "print(\"bulding godin matrix of dev set\")\n",
    "test_godin = np.asarray([get_embedding_matrix(godin_model,x,godin_flag=True) for x in testX])"
   ]
  },
  {
   "cell_type": "code",
   "execution_count": 73,
   "metadata": {},
   "outputs": [],
   "source": [
    "# train_word2vec.shape"
   ]
  },
  {
   "cell_type": "code",
   "execution_count": 74,
   "metadata": {
    "collapsed": true
   },
   "outputs": [],
   "source": [
    "def define_model(length,n_dense,dropout,learning_rate,n_filters,filter_size_c1,filter_size_c2,filter_size_c3,em_c1,em_c2,em_c3):\n",
    "    # channel 1\n",
    "    if em_c1 == 'embedding_matrix_word2vec':\n",
    "        inputs1 = Input(shape=(length,300))\n",
    "    else:\n",
    "        inputs1 = Input(shape=(length,400))\n",
    "#     if em_c1 == 'free':\n",
    "#         embedding1 = Embedding(vocab_size, free_em_dim)(inputs1)\n",
    "#     else:\n",
    "#         embedding1 = Embedding(vocab_size, len(eval(em_c1)[0]), weights = [eval(em_c1)],input_length=length,trainable = em_trainable_flag)(inputs1)\n",
    "\n",
    "    conv1 = Conv1D(filters=n_filters, kernel_size=filter_size_c1, activation='relu')(inputs1)\n",
    "    drop1 = Dropout(dropout)(conv1)\n",
    "    pool1 = MaxPooling1D(pool_size=2)(drop1)\n",
    "    flat1 = Flatten()(pool1)\n",
    "    # channel 2\n",
    "    if em_c2 == 'embedding_matrix_word2vec':\n",
    "        inputs2 = Input(shape=(length,300))\n",
    "    else:\n",
    "        inputs2 = Input(shape=(length,400))\n",
    "#     embedding2 = Embedding(vocab_size, 400, weights = [embedding_matrix_godin],input_length=length,trainable = em_trainable_flag)(inputs2)\n",
    "#     if em_c2 == 'free':\n",
    "#         embedding2 = Embedding(vocab_size, free_em_dim)(inputs2)\n",
    "#     else:\n",
    "#         embedding2 = Embedding(vocab_size, len(eval(em_c2)[0]), weights = [eval(em_c2)],input_length=length,trainable = em_trainable_flag)(inputs2)\n",
    "    conv2 = Conv1D(filters=n_filters, kernel_size=filter_size_c2, activation='relu')(inputs2)\n",
    "    drop2 = Dropout(dropout)(conv2)\n",
    "    pool2 = MaxPooling1D(pool_size=2)(drop2)\n",
    "    flat2 = Flatten()(pool2)\n",
    "    # channel 3\n",
    "    if em_c1 == 'embedding_matrix_word2vec':\n",
    "        inputs3 = Input(shape=(length,300))\n",
    "    else:\n",
    "        inputs3 = Input(shape=(length,400))\n",
    "#     embedding3 = Embedding(vocab_size, 400)(inputs3)\n",
    "#     if em_c3 == 'free':\n",
    "#         embedding3 = Embedding(vocab_size, free_em_dim)(inputs3)\n",
    "#     else:\n",
    "#         embedding3 = Embedding(vocab_size, len(eval(em_c3)[0]), weights = [eval(em_c3)],input_length=length,trainable = em_trainable_flag)(inputs3)\n",
    "    conv3 = Conv1D(filters=n_filters, kernel_size=filter_size_c3, activation='relu')(inputs3)\n",
    "    drop3 = Dropout(dropout)(conv3)\n",
    "    pool3 = MaxPooling1D(pool_size=2)(drop3)\n",
    "    flat3 = Flatten()(pool3)\n",
    "    # merge\n",
    "    merged = concatenate([flat1, flat2, flat3])\n",
    "    # interpretation\n",
    "    dense1 = Dense(n_dense, activation='relu')(merged)\n",
    "    outputs = Dense(1, activation='sigmoid')(dense1)\n",
    "    model = Model(inputs=[inputs1, inputs2, inputs3], outputs=outputs)\n",
    "    # compile\n",
    "    optimizer = Adam(lr=learning_rate)\n",
    "    model.compile(loss='binary_crossentropy', optimizer=optimizer, metrics=['accuracy'])\n",
    "    # summarize\n",
    "    print(model.summary())\n",
    "#     plot_model(model, show_shapes=True, to_file='multichannel.png')\n",
    "    return model"
   ]
  },
  {
   "cell_type": "code",
   "execution_count": 75,
   "metadata": {},
   "outputs": [
    {
     "name": "stdout",
     "output_type": "stream",
     "text": [
      "__________________________________________________________________________________________________\n",
      "Layer (type)                    Output Shape         Param #     Connected to                     \n",
      "==================================================================================================\n",
      "input_1 (InputLayer)            (None, 15, 400)      0                                            \n",
      "__________________________________________________________________________________________________\n",
      "input_2 (InputLayer)            (None, 15, 300)      0                                            \n",
      "__________________________________________________________________________________________________\n",
      "input_3 (InputLayer)            (None, 15, 400)      0                                            \n",
      "__________________________________________________________________________________________________\n",
      "conv1d_1 (Conv1D)               (None, 15, 300)      120300      input_1[0][0]                    \n",
      "__________________________________________________________________________________________________\n",
      "conv1d_2 (Conv1D)               (None, 15, 300)      90300       input_2[0][0]                    \n",
      "__________________________________________________________________________________________________\n",
      "conv1d_3 (Conv1D)               (None, 15, 300)      120300      input_3[0][0]                    \n",
      "__________________________________________________________________________________________________\n",
      "dropout_1 (Dropout)             (None, 15, 300)      0           conv1d_1[0][0]                   \n",
      "__________________________________________________________________________________________________\n",
      "dropout_2 (Dropout)             (None, 15, 300)      0           conv1d_2[0][0]                   \n",
      "__________________________________________________________________________________________________\n",
      "dropout_3 (Dropout)             (None, 15, 300)      0           conv1d_3[0][0]                   \n",
      "__________________________________________________________________________________________________\n",
      "max_pooling1d_1 (MaxPooling1D)  (None, 7, 300)       0           dropout_1[0][0]                  \n",
      "__________________________________________________________________________________________________\n",
      "max_pooling1d_2 (MaxPooling1D)  (None, 7, 300)       0           dropout_2[0][0]                  \n",
      "__________________________________________________________________________________________________\n",
      "max_pooling1d_3 (MaxPooling1D)  (None, 7, 300)       0           dropout_3[0][0]                  \n",
      "__________________________________________________________________________________________________\n",
      "flatten_1 (Flatten)             (None, 2100)         0           max_pooling1d_1[0][0]            \n",
      "__________________________________________________________________________________________________\n",
      "flatten_2 (Flatten)             (None, 2100)         0           max_pooling1d_2[0][0]            \n",
      "__________________________________________________________________________________________________\n",
      "flatten_3 (Flatten)             (None, 2100)         0           max_pooling1d_3[0][0]            \n",
      "__________________________________________________________________________________________________\n",
      "concatenate_1 (Concatenate)     (None, 6300)         0           flatten_1[0][0]                  \n",
      "                                                                 flatten_2[0][0]                  \n",
      "                                                                 flatten_3[0][0]                  \n",
      "__________________________________________________________________________________________________\n",
      "dense_1 (Dense)                 (None, 400)          2520400     concatenate_1[0][0]              \n",
      "__________________________________________________________________________________________________\n",
      "dense_2 (Dense)                 (None, 1)            401         dense_1[0][0]                    \n",
      "==================================================================================================\n",
      "Total params: 2,851,701\n",
      "Trainable params: 2,851,701\n",
      "Non-trainable params: 0\n",
      "__________________________________________________________________________________________________\n",
      "None\n"
     ]
    }
   ],
   "source": [
    "model = define_model(length = max_length,\n",
    "                         n_dense=400,\n",
    "                         dropout=0.9,\n",
    "                         learning_rate=0.0006973763486468701,\n",
    "                         n_filters=300,\n",
    "                         filter_size_c1=1,\n",
    "                         filter_size_c2=1,\n",
    "                         filter_size_c3=1,\n",
    "                         em_c1='embedding_matrix_godin',\n",
    "                         em_c2='embedding_matrix_word2vec',\n",
    "                         em_c3='embedding_matrix_godin')"
   ]
  },
  {
   "cell_type": "code",
   "execution_count": 76,
   "metadata": {
    "collapsed": true
   },
   "outputs": [],
   "source": [
    "input_array_train = [train_godin,train_word2vec,train_godin]\n",
    "input_array_test = [test_godin,test_word2vec,test_godin]"
   ]
  },
  {
   "cell_type": "code",
   "execution_count": 77,
   "metadata": {},
   "outputs": [
    {
     "name": "stdout",
     "output_type": "stream",
     "text": [
      "Epoch 1/30\n",
      "1060/1060 [==============================] - 7s 6ms/step - loss: 0.7030 - acc: 0.0000e+00\n",
      "Epoch 2/30\n",
      "1060/1060 [==============================] - 6s 6ms/step - loss: 0.6803 - acc: 0.0000e+00\n",
      "Epoch 3/30\n",
      "1060/1060 [==============================] - 6s 6ms/step - loss: 0.6757 - acc: 0.0000e+00\n",
      "Epoch 4/30\n",
      "1060/1060 [==============================] - 6s 5ms/step - loss: 0.6727 - acc: 0.0000e+00\n",
      "Epoch 5/30\n",
      "1060/1060 [==============================] - 6s 6ms/step - loss: 0.6675 - acc: 0.0000e+00\n",
      "Epoch 6/30\n",
      "1060/1060 [==============================] - 7s 6ms/step - loss: 0.6622 - acc: 0.0000e+00\n",
      "Epoch 7/30\n",
      "1060/1060 [==============================] - 6s 6ms/step - loss: 0.6597 - acc: 0.0000e+00\n",
      "Epoch 8/30\n",
      "1060/1060 [==============================] - 6s 5ms/step - loss: 0.6549 - acc: 0.0000e+00\n",
      "Epoch 9/30\n",
      "1060/1060 [==============================] - 6s 6ms/step - loss: 0.6478 - acc: 0.0000e+00\n",
      "Epoch 10/30\n",
      "1060/1060 [==============================] - 6s 5ms/step - loss: 0.6508 - acc: 0.0000e+00\n",
      "Epoch 11/30\n",
      "1060/1060 [==============================] - 6s 6ms/step - loss: 0.6453 - acc: 0.0000e+00\n",
      "Epoch 12/30\n",
      "1060/1060 [==============================] - 6s 6ms/step - loss: 0.6446 - acc: 0.0000e+00\n",
      "Epoch 13/30\n",
      "1060/1060 [==============================] - 6s 6ms/step - loss: 0.6476 - acc: 0.0000e+00\n",
      "Epoch 14/30\n",
      "1060/1060 [==============================] - 6s 6ms/step - loss: 0.6402 - acc: 0.0000e+00\n",
      "Epoch 15/30\n",
      "1060/1060 [==============================] - 6s 6ms/step - loss: 0.6428 - acc: 0.0000e+00\n",
      "Epoch 16/30\n",
      "1060/1060 [==============================] - 6s 6ms/step - loss: 0.6374 - acc: 0.0000e+00\n",
      "Epoch 17/30\n",
      "1060/1060 [==============================] - 6s 6ms/step - loss: 0.6378 - acc: 0.0000e+00\n",
      "Epoch 18/30\n",
      "1060/1060 [==============================] - 6s 6ms/step - loss: 0.6350 - acc: 0.0000e+00\n",
      "Epoch 19/30\n",
      "1060/1060 [==============================] - 6s 6ms/step - loss: 0.6319 - acc: 0.0000e+00\n",
      "Epoch 20/30\n",
      "1060/1060 [==============================] - 6s 6ms/step - loss: 0.6329 - acc: 0.0000e+00\n",
      "Epoch 21/30\n",
      "1060/1060 [==============================] - 6s 6ms/step - loss: 0.6345 - acc: 0.0000e+00\n",
      "Epoch 22/30\n",
      "1060/1060 [==============================] - 6s 6ms/step - loss: 0.6318 - acc: 0.0000e+00\n",
      "Epoch 23/30\n",
      "1060/1060 [==============================] - 6s 6ms/step - loss: 0.6302 - acc: 0.0000e+00\n",
      "Epoch 24/30\n",
      "1060/1060 [==============================] - 6s 6ms/step - loss: 0.6271 - acc: 0.0000e+00\n",
      "Epoch 25/30\n",
      "1060/1060 [==============================] - 7s 6ms/step - loss: 0.6285 - acc: 0.0000e+00\n",
      "Epoch 26/30\n",
      "1060/1060 [==============================] - 6s 6ms/step - loss: 0.6279 - acc: 0.0000e+00\n",
      "Epoch 27/30\n",
      "1060/1060 [==============================] - 7s 7ms/step - loss: 0.6270 - acc: 0.0000e+00\n",
      "Epoch 28/30\n",
      "1060/1060 [==============================] - 6s 6ms/step - loss: 0.6287 - acc: 0.0000e+00\n",
      "Epoch 29/30\n",
      "1060/1060 [==============================] - 6s 6ms/step - loss: 0.6273 - acc: 0.0000e+00\n",
      "Epoch 30/30\n",
      "1060/1060 [==============================] - 6s 5ms/step - loss: 0.6271 - acc: 0.0000e+00\n"
     ]
    }
   ],
   "source": [
    "history_object = model.fit(input_array_train, trainY,epochs=30, batch_size=8)"
   ]
  },
  {
   "cell_type": "code",
   "execution_count": 78,
   "metadata": {
    "collapsed": true
   },
   "outputs": [],
   "source": [
    "pred = model.predict(input_array_test)"
   ]
  },
  {
   "cell_type": "code",
   "execution_count": 81,
   "metadata": {},
   "outputs": [],
   "source": [
    "from sklearn.metrics import mean_squared_error,r2_score"
   ]
  },
  {
   "cell_type": "code",
   "execution_count": 82,
   "metadata": {},
   "outputs": [
    {
     "data": {
      "text/plain": [
       "array([[0.45930576],\n",
       "       [0.6662103 ],\n",
       "       [0.6048143 ],\n",
       "       [0.5265722 ],\n",
       "       [0.5638292 ],\n",
       "       [0.41839778],\n",
       "       [0.6833506 ],\n",
       "       [0.6403677 ],\n",
       "       [0.73781073],\n",
       "       [0.44848305],\n",
       "       [0.58691794],\n",
       "       [0.38973615],\n",
       "       [0.49810734],\n",
       "       [0.61973965],\n",
       "       [0.5701052 ],\n",
       "       [0.47699702],\n",
       "       [0.48535568],\n",
       "       [0.7042414 ],\n",
       "       [0.3593302 ],\n",
       "       [0.5367767 ],\n",
       "       [0.6452152 ],\n",
       "       [0.5450872 ],\n",
       "       [0.6672957 ],\n",
       "       [0.62869024],\n",
       "       [0.4810314 ],\n",
       "       [0.70106024],\n",
       "       [0.7215318 ],\n",
       "       [0.73103505],\n",
       "       [0.45487133],\n",
       "       [0.4542458 ],\n",
       "       [0.62715244],\n",
       "       [0.58339554],\n",
       "       [0.4592677 ],\n",
       "       [0.62891716],\n",
       "       [0.6169212 ],\n",
       "       [0.4237288 ],\n",
       "       [0.43100768],\n",
       "       [0.529949  ],\n",
       "       [0.47156122],\n",
       "       [0.63502467],\n",
       "       [0.41839778],\n",
       "       [0.34912786],\n",
       "       [0.64972746],\n",
       "       [0.64199185],\n",
       "       [0.6582677 ],\n",
       "       [0.49070525],\n",
       "       [0.7031169 ],\n",
       "       [0.5144107 ],\n",
       "       [0.64957696],\n",
       "       [0.40118998],\n",
       "       [0.5474911 ],\n",
       "       [0.62772256],\n",
       "       [0.574388  ],\n",
       "       [0.41839778],\n",
       "       [0.55708313],\n",
       "       [0.39303708],\n",
       "       [0.6247756 ],\n",
       "       [0.39422256],\n",
       "       [0.42051238],\n",
       "       [0.69479114],\n",
       "       [0.5397454 ],\n",
       "       [0.3579727 ],\n",
       "       [0.6440779 ],\n",
       "       [0.4641633 ],\n",
       "       [0.5824765 ],\n",
       "       [0.45586494],\n",
       "       [0.5363763 ],\n",
       "       [0.45163402],\n",
       "       [0.5700244 ],\n",
       "       [0.6772927 ],\n",
       "       [0.73015666],\n",
       "       [0.61057276],\n",
       "       [0.47336686],\n",
       "       [0.72534084],\n",
       "       [0.50873256],\n",
       "       [0.41397578],\n",
       "       [0.6382919 ],\n",
       "       [0.3277723 ],\n",
       "       [0.3290453 ],\n",
       "       [0.6227718 ],\n",
       "       [0.5846688 ],\n",
       "       [0.4126132 ],\n",
       "       [0.4567705 ],\n",
       "       [0.5076849 ],\n",
       "       [0.639655  ],\n",
       "       [0.33224773],\n",
       "       [0.72369224],\n",
       "       [0.46119958],\n",
       "       [0.7144464 ],\n",
       "       [0.54042625],\n",
       "       [0.55147505],\n",
       "       [0.42414168],\n",
       "       [0.5713668 ],\n",
       "       [0.53865254],\n",
       "       [0.61147374],\n",
       "       [0.6481762 ],\n",
       "       [0.61412203],\n",
       "       [0.7215318 ],\n",
       "       [0.4797606 ],\n",
       "       [0.3906988 ],\n",
       "       [0.60997146],\n",
       "       [0.66284657],\n",
       "       [0.5950901 ],\n",
       "       [0.5405805 ],\n",
       "       [0.43183905],\n",
       "       [0.6438377 ],\n",
       "       [0.68407476],\n",
       "       [0.53516805],\n",
       "       [0.6165232 ],\n",
       "       [0.6086536 ],\n",
       "       [0.4992393 ]], dtype=float32)"
      ]
     },
     "execution_count": 82,
     "metadata": {},
     "output_type": "execute_result"
    }
   ],
   "source": [
    "pred_val = [x[0] for x in pred]\n",
    "# pred"
   ]
  }
 ],
 "metadata": {
  "kernelspec": {
   "display_name": "Python 3",
   "language": "python",
   "name": "python3"
  },
  "language_info": {
   "codemirror_mode": {
    "name": "ipython",
    "version": 3
   },
   "file_extension": ".py",
   "mimetype": "text/x-python",
   "name": "python",
   "nbconvert_exporter": "python",
   "pygments_lexer": "ipython3",
   "version": "3.6.3"
  }
 },
 "nbformat": 4,
 "nbformat_minor": 2
}
