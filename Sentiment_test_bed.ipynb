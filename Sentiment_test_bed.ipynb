{
 "cells": [
  {
   "cell_type": "code",
   "execution_count": 1,
   "metadata": {},
   "outputs": [
    {
     "name": "stderr",
     "output_type": "stream",
     "text": [
      "/home/hitkul/anaconda3/envs/ps3/lib/python3.6/site-packages/h5py/__init__.py:34: FutureWarning: Conversion of the second argument of issubdtype from `float` to `np.floating` is deprecated. In future, it will be treated as `np.float64 == np.dtype(float).type`.\n",
      "  from ._conv import register_converters as _register_converters\n",
      "Using TensorFlow backend.\n",
      "/home/hitkul/anaconda3/envs/ps3/lib/python3.6/importlib/_bootstrap.py:219: RuntimeWarning: compiletime version 3.5 of module 'tensorflow.python.framework.fast_tensor_util' does not match runtime version 3.6\n",
      "  return f(*args, **kwds)\n"
     ]
    }
   ],
   "source": [
    "#multi channel CNN for sentiment analysis\n",
    "from nltk.corpus import stopwords\n",
    "from string import punctuation\n",
    "import pandas as pd\n",
    "import numpy as np\n",
    "import re\n",
    "import json\n",
    "# import codecs\n",
    "import word2vecReader as godin_embedding\n",
    "from keras.utils import to_categorical\n",
    "from keras.models import load_model\n",
    "from gensim.models import KeyedVectors\n",
    "import matplotlib.pyplot as plt\n",
    "%matplotlib inline\n",
    "plt.rcParams[\"figure.figsize\"] = [5,5]\n",
    "plt.style.use('seaborn-notebook')\n",
    "from sklearn.metrics import mean_squared_error,r2_score,confusion_matrix\n",
    "from aspect_specific_prob import get_normalized_sentence_relation_vector\n",
    "from scipy.interpolate import interp1d\n",
    "import itertools"
   ]
  },
  {
   "cell_type": "code",
   "execution_count": 2,
   "metadata": {
    "collapsed": true
   },
   "outputs": [],
   "source": [
    "#loading data\n",
    "def load_data_from_file(filename):\n",
    "    print(\"loading file = \",filename)\n",
    "    with open(filename,'r') as f:\n",
    "        foo = json.load(f)\n",
    "        \n",
    "    sentence_id =[]\n",
    "    sentence = []\n",
    "    score = []\n",
    "    for key in foo.keys():\n",
    "        for info in foo[key]['info']:\n",
    "#             print(eval(info['snippets'])[0])\n",
    "            sentence.append(eval(info['snippets'])[0])\n",
    "            score.append(float(info['sentiment_score']))\n",
    "#         sentence_id.append(key)\n",
    "#         sentence.append(foo[key]['sentence'])\n",
    "#         score.append(float(foo[key]['info'][0]['sentiment_score']))\n",
    "    labels = [1 if x>=0 else 0 for x in score]\n",
    "    return sentence_id,sentence,score,labels"
   ]
  },
  {
   "cell_type": "code",
   "execution_count": 3,
   "metadata": {
    "collapsed": true
   },
   "outputs": [],
   "source": [
    "# def load_data_temp(filename):\n",
    "#     print(\"loading file = \",filename)\n",
    "#     with open(filename,'r') as f:\n",
    "#         foo = json.load(f)\n",
    "#     return foo['sentence'],foo['labels']"
   ]
  },
  {
   "cell_type": "code",
   "execution_count": 4,
   "metadata": {},
   "outputs": [
    {
     "name": "stdout",
     "output_type": "stream",
     "text": [
      "loading file =  dataset/master.json\n"
     ]
    }
   ],
   "source": [
    "sentence_id,dataX,score,dataY = load_data_from_file('dataset/master.json')\n",
    "# dataX,dataY = load_data_temp('dataset/final_dev.json')"
   ]
  },
  {
   "cell_type": "code",
   "execution_count": null,
   "metadata": {
    "collapsed": true
   },
   "outputs": [],
   "source": []
  },
  {
   "cell_type": "code",
   "execution_count": 5,
   "metadata": {},
   "outputs": [
    {
     "name": "stdout",
     "output_type": "stream",
     "text": [
      "data len\n",
      "1171 1171\n"
     ]
    }
   ],
   "source": [
    "print('data len')\n",
    "print(len(dataX),len(dataY))"
   ]
  },
  {
   "cell_type": "code",
   "execution_count": 6,
   "metadata": {},
   "outputs": [
    {
     "name": "stdout",
     "output_type": "stream",
     "text": [
      "count 1,count 0\n",
      "772 399\n"
     ]
    }
   ],
   "source": [
    "print('count 1,count 0')\n",
    "print(dataY.count(1),dataY.count(0))"
   ]
  },
  {
   "cell_type": "code",
   "execution_count": 7,
   "metadata": {
    "collapsed": true
   },
   "outputs": [],
   "source": [
    "def remove_punctuation(s):\n",
    "    list_punctuation = list(punctuation.replace('$',''))\n",
    "    for i in list_punctuation:\n",
    "        s = s.replace(i,'')\n",
    "    return s"
   ]
  },
  {
   "cell_type": "code",
   "execution_count": 8,
   "metadata": {
    "collapsed": true
   },
   "outputs": [],
   "source": [
    "def clean_sentence(sentence):\n",
    "    #remove multiple repeat non num-aplha char !!!!!!!!!-->!\n",
    "    sentence = re.sub(r'(\\W)\\1{2,}', r'\\1', sentence) \n",
    "    #removes alpha char repeating more than twice aaaa->aa\n",
    "    sentence = re.sub(r'(\\w)\\1{2,}', r'\\1\\1', sentence)\n",
    "    #removes links\n",
    "    sentence = re.sub(r'(?P<url>https?://[^\\s]+)', r'', sentence)\n",
    "    # remove @usernames\n",
    "    sentence = re.sub(r\"\\@(\\w+)\", \"\", sentence)\n",
    "    #removing stock names to see if it helps\n",
    "#     sentence = re.sub(r\"(?:\\$|https?\\://)\\S+\", \"\", sentence)\n",
    "    #remove # from #tags\n",
    "    sentence = sentence.replace('#','')\n",
    "    # split into tokens by white space\n",
    "    tokens = sentence.split()\n",
    "    # remove punctuation from each token\n",
    "    tokens = [remove_punctuation(w) for w in tokens]\n",
    "#     remove remaining tokens that are not alphabetic\n",
    "#     tokens = [word for word in tokens if word.isalpha()]\n",
    "#no removing non alpha words to keep stock names($ZSL)\n",
    "    # filter out stop words\n",
    "    stop_words = set(stopwords.words('english'))\n",
    "    tokens = [w for w in tokens if not w in stop_words]\n",
    "    # filter out short tokens\n",
    "    tokens = [word for word in tokens if len(word) > 1]\n",
    "    tokens = ' '.join(tokens)\n",
    "    return tokens"
   ]
  },
  {
   "cell_type": "code",
   "execution_count": 9,
   "metadata": {},
   "outputs": [
    {
     "name": "stdout",
     "output_type": "stream",
     "text": [
      "cleaning train set\n"
     ]
    }
   ],
   "source": [
    "print('cleaning train set')\n",
    "dataX = [clean_sentence(x) for x in dataX]"
   ]
  },
  {
   "cell_type": "code",
   "execution_count": 10,
   "metadata": {
    "collapsed": true
   },
   "outputs": [],
   "source": [
    "dataY = to_categorical(dataY,2)"
   ]
  },
  {
   "cell_type": "code",
   "execution_count": 11,
   "metadata": {
    "collapsed": true
   },
   "outputs": [],
   "source": [
    "max_length = 27"
   ]
  },
  {
   "cell_type": "code",
   "execution_count": 12,
   "metadata": {},
   "outputs": [
    {
     "data": {
      "text/plain": [
       "1171"
      ]
     },
     "execution_count": 12,
     "metadata": {},
     "output_type": "execute_result"
    }
   ],
   "source": [
    "len(dataY)"
   ]
  },
  {
   "cell_type": "code",
   "execution_count": 13,
   "metadata": {},
   "outputs": [
    {
     "data": {
      "text/plain": [
       "1171"
      ]
     },
     "execution_count": 13,
     "metadata": {},
     "output_type": "execute_result"
    }
   ],
   "source": [
    "len(dataX)"
   ]
  },
  {
   "cell_type": "code",
   "execution_count": 14,
   "metadata": {
    "collapsed": true
   },
   "outputs": [],
   "source": [
    "# def progress_print(s):\n",
    "#     global count\n",
    "#     count+=1\n",
    "#     if count%10==0:\n",
    "#         print(count)\n",
    "#     return get_normalized_sentence_relation_vector(s)"
   ]
  },
  {
   "cell_type": "code",
   "execution_count": 15,
   "metadata": {
    "collapsed": true
   },
   "outputs": [],
   "source": [
    "# count = 0\n",
    "# sentence_enchance_prob = [progress_print(x) for x in dataX]"
   ]
  },
  {
   "cell_type": "code",
   "execution_count": 16,
   "metadata": {
    "collapsed": true
   },
   "outputs": [],
   "source": [
    "# sentence_enchance_prob_f = [x[0] for x in sentence_enchance_prob]"
   ]
  },
  {
   "cell_type": "code",
   "execution_count": 17,
   "metadata": {
    "collapsed": true
   },
   "outputs": [],
   "source": [
    "# sentence_enchance_prob_f"
   ]
  },
  {
   "cell_type": "code",
   "execution_count": null,
   "metadata": {
    "collapsed": true
   },
   "outputs": [],
   "source": []
  },
  {
   "cell_type": "code",
   "execution_count": 18,
   "metadata": {
    "collapsed": true
   },
   "outputs": [],
   "source": [
    "# max_length"
   ]
  },
  {
   "cell_type": "code",
   "execution_count": 19,
   "metadata": {
    "collapsed": true
   },
   "outputs": [],
   "source": [
    "def load_google_word2vec(file_name):\n",
    "    print(\"Loading word2vec model, this can take some time...\")\n",
    "    return KeyedVectors.load_word2vec_format(file_name, binary=True)"
   ]
  },
  {
   "cell_type": "code",
   "execution_count": 20,
   "metadata": {
    "collapsed": true
   },
   "outputs": [],
   "source": [
    "#loading godin word embedding\n",
    "def load_godin_word_embedding(path):\n",
    "    print(\"Loading goding model, this can take some time...\")\n",
    "    return godin_embedding.Word2Vec.load_word2vec_format(path, binary=True)"
   ]
  },
  {
   "cell_type": "code",
   "execution_count": 21,
   "metadata": {},
   "outputs": [
    {
     "name": "stdout",
     "output_type": "stream",
     "text": [
      "Loading word2vec model, this can take some time...\n"
     ]
    }
   ],
   "source": [
    "word2vec_model= load_google_word2vec('word_embeddings/GoogleNews-vectors-negative300.bin')"
   ]
  },
  {
   "cell_type": "code",
   "execution_count": 22,
   "metadata": {},
   "outputs": [
    {
     "name": "stdout",
     "output_type": "stream",
     "text": [
      "Loading goding model, this can take some time...\n"
     ]
    }
   ],
   "source": [
    "godin_model = load_godin_word_embedding(\"word_embeddings/word2vec_twitter_model.bin\")"
   ]
  },
  {
   "cell_type": "code",
   "execution_count": 23,
   "metadata": {
    "collapsed": true
   },
   "outputs": [],
   "source": [
    "def get_embedding_matrix(model,sentence,godin_flag = False):\n",
    "    tokens = sentence.split()[:max_length]\n",
    "    if godin_flag:\n",
    "        embedding_matrix = np.zeros((max_length,400))\n",
    "    else:\n",
    "        embedding_matrix = np.zeros((max_length,300))\n",
    "    for i,word in enumerate(tokens):\n",
    "        try:\n",
    "            embedding_vector = model[word]\n",
    "        except KeyError:\n",
    "            embedding_vector = None\n",
    "        if embedding_vector is not None:\n",
    "            embedding_matrix[i]=embedding_vector\n",
    "#             embedding_matrix[i]*=prob_vector[i]\n",
    "    return embedding_matrix"
   ]
  },
  {
   "cell_type": "code",
   "execution_count": 24,
   "metadata": {
    "collapsed": true
   },
   "outputs": [],
   "source": [
    "# print(\"bulding word2vec matrix of train set\")\n",
    "# train_word2vec = np.asarray([get_embedding_matrix(word2vec_model,x,y) for x,y in zip(dataX,sentence_enchance_prob_f)])\n",
    "# print(\"bulding godin matrix of train set\")\n",
    "# train_godin = np.asarray([get_embedding_matrix(godin_model,x,y,godin_flag=True) for x,y in zip(dataX,sentence_enchance_prob_f)])"
   ]
  },
  {
   "cell_type": "code",
   "execution_count": 25,
   "metadata": {},
   "outputs": [
    {
     "name": "stdout",
     "output_type": "stream",
     "text": [
      "bulding word2vec matrix of train set\n",
      "bulding godin matrix of train set\n"
     ]
    }
   ],
   "source": [
    "print(\"bulding word2vec matrix of train set\")\n",
    "train_word2vec = np.asarray([get_embedding_matrix(word2vec_model,x) for x in dataX])\n",
    "print(\"bulding godin matrix of train set\")\n",
    "train_godin = np.asarray([get_embedding_matrix(godin_model,x,godin_flag=True) for x in dataX])"
   ]
  },
  {
   "cell_type": "code",
   "execution_count": 26,
   "metadata": {
    "collapsed": true
   },
   "outputs": [],
   "source": [
    "input_array = [train_godin,train_word2vec,train_godin]"
   ]
  },
  {
   "cell_type": "code",
   "execution_count": 27,
   "metadata": {
    "collapsed": true
   },
   "outputs": [],
   "source": [
    "model = load_model('models/bestSenti.h5')"
   ]
  },
  {
   "cell_type": "code",
   "execution_count": 28,
   "metadata": {
    "collapsed": true
   },
   "outputs": [],
   "source": [
    "pred = model.predict(input_array)"
   ]
  },
  {
   "cell_type": "code",
   "execution_count": 29,
   "metadata": {
    "collapsed": true
   },
   "outputs": [],
   "source": [
    "def get_acc(pred,dataY):\n",
    "    pred_class = np.asarray([np.asarray([1,0],dtype=np.float32) if x[0]>x[1] else np.asarray([0,1],dtype=np.float32) for x in pred])\n",
    "    count = [True if x[0]==y[0] else False for x,y in zip(pred_class,dataY)]\n",
    "    return float(count.count(True))/len(count)"
   ]
  },
  {
   "cell_type": "code",
   "execution_count": 30,
   "metadata": {},
   "outputs": [
    {
     "data": {
      "text/plain": [
       "0.8061485909479078"
      ]
     },
     "execution_count": 30,
     "metadata": {},
     "output_type": "execute_result"
    }
   ],
   "source": [
    "get_acc(pred,dataY)"
   ]
  },
  {
   "cell_type": "code",
   "execution_count": 31,
   "metadata": {
    "collapsed": true
   },
   "outputs": [],
   "source": [
    "def plot_confusion_matrix(pred,dataY):\n",
    "    classes = ['Negative','Positive']\n",
    "    pred_class = [0 if x[0]>x[1] else 1 for x in pred]\n",
    "    acc_class = [0 if x[0]>x[1] else 1 for x in dataY]\n",
    "    count = 0\n",
    "    cm = confusion_matrix(acc_class,pred_class)\n",
    "    plt.imshow(cm)\n",
    "    plt.colorbar()\n",
    "    plt.xticks(np.arange(len(classes)),classes,fontsize=14)\n",
    "    plt.yticks(np.arange(len(classes)),classes,fontsize=14)\n",
    "    plt.ylabel('True label',fontsize=14)\n",
    "    plt.xlabel('Predicted label',fontsize=14)\n",
    "    fmt = 'd'\n",
    "    thresh = cm.max() / 2.\n",
    "    for i, j in itertools.product(range(cm.shape[0]), range(cm.shape[1])):\n",
    "        plt.text(j, i,format(cm[i, j], fmt),\n",
    "                 horizontalalignment=\"center\",fontsize=14,\n",
    "                 color=\"white\" if cm[i, j] > thresh else \"black\")"
   ]
  },
  {
   "cell_type": "code",
   "execution_count": 32,
   "metadata": {},
   "outputs": [
    {
     "data": {
      "image/png": "[encoded data removed]",
      "text/plain": [
       "<matplotlib.figure.Figure at 0x7f0839573f98>"
      ]
     },
     "metadata": {},
     "output_type": "display_data"
    }
   ],
   "source": [
    "plot_confusion_matrix(pred,dataY)"
   ]
  },
  {
   "cell_type": "code",
   "execution_count": 33,
   "metadata": {
    "collapsed": true
   },
   "outputs": [],
   "source": [
    "# def mean_normalize(series,c_value):\n",
    "#     mean_series = np.mean(series)\n",
    "#     std_series = np.std(series)\n",
    "#     return [((x-mean_series)/std_series)+c_value for x in series]"
   ]
  },
  {
   "cell_type": "code",
   "execution_count": 43,
   "metadata": {
    "collapsed": true
   },
   "outputs": [],
   "source": [
    "def rescale(series,new_range):\n",
    "    m = interp1d([min(series),max(series)],new_range)\n",
    "    return [float(m(x)) for x in series]"
   ]
  },
  {
   "cell_type": "code",
   "execution_count": 35,
   "metadata": {
    "collapsed": true
   },
   "outputs": [],
   "source": [
    "# def normalizing_score(score_pred,v1,v2):\n",
    "#     index_of_positive = [i for i,x in enumerate(score_pred) if x>=0]\n",
    "#     index_of_negative = [i for i,x in enumerate(score_pred) if x<0]\n",
    "    \n",
    "#     positive_score = np.asarray([score_pred[x] for x in index_of_positive])\n",
    "#     p_mean = np.mean(positive_score)\n",
    "#     p_std = np.std(positive_score)\n",
    "    \n",
    "#     negative_score = np.asarray([score_pred[x] for x in index_of_negative])\n",
    "#     n_mean = np.mean(negative_score)\n",
    "#     n_std = np.std(negative_score)\n",
    "    \n",
    "#     positive_score = [((x-p_mean)/p_std)+v1 for x in positive_score]\n",
    "#     negative_score = [((x-n_mean)/n_std)+v1 for x in negative_score]\n",
    "    \n",
    "#     positive_score = rescale(positive_score,[0,1])\n",
    "#     negative_score = rescale(negative_score,[-1,0])\n",
    "    \n",
    "#     for p,i in zip(positive_score,index_of_positive):\n",
    "#         score_pred[i] = p\n",
    "#     for n,i in zip(negative_score,index_of_negative):\n",
    "#         score_pred[i] = n\n",
    "    \n",
    "#     return score_pred"
   ]
  },
  {
   "cell_type": "code",
   "execution_count": 67,
   "metadata": {
    "collapsed": true
   },
   "outputs": [],
   "source": [
    "def get_score_from_pred(pred,w1,w2):\n",
    "    score_pred = []\n",
    "    for x in pred:\n",
    "        p_s = x[1]\n",
    "        n_s = x[0]\n",
    "        score_pred.append((p_s)-(n_s))\n",
    "    return score_pred"
   ]
  },
  {
   "cell_type": "code",
   "execution_count": 68,
   "metadata": {
    "collapsed": true
   },
   "outputs": [],
   "source": [
    "def get_MSE_and_R2_search(pred,score):\n",
    "    score_pred = get_score_from_pred(pred,1,3)\n",
    "    score_pred = rescale(score_pred,[-1,1])\n",
    "    mse = mean_squared_error(score,score_pred)\n",
    "    r2 = r2_score(score,score_pred)\n",
    "    return mse,r2,score_pred"
   ]
  },
  {
   "cell_type": "code",
   "execution_count": 69,
   "metadata": {
    "collapsed": true
   },
   "outputs": [],
   "source": [
    "mse,r2,score_pred = get_MSE_and_R2_search(pred,score)"
   ]
  },
  {
   "cell_type": "code",
   "execution_count": 70,
   "metadata": {},
   "outputs": [
    {
     "data": {
      "text/plain": [
       "(0.3178243695327454, -0.9963875153753603)"
      ]
     },
     "execution_count": 70,
     "metadata": {},
     "output_type": "execute_result"
    }
   ],
   "source": [
    "mse,r2"
   ]
  },
  {
   "cell_type": "code",
   "execution_count": 71,
   "metadata": {},
   "outputs": [
    {
     "data": {
      "text/plain": [
       "(array([ 71.,  78.,  80.,  53.,  65.,  72.,  76.,  82., 108., 486.]),\n",
       " array([-1. , -0.8, -0.6, -0.4, -0.2,  0. ,  0.2,  0.4,  0.6,  0.8,  1. ]),\n",
       " <a list of 10 Patch objects>)"
      ]
     },
     "execution_count": 71,
     "metadata": {},
     "output_type": "execute_result"
    },
    {
     "data": {
      "image/png": "[encoded data removed]",
      "text/plain": [
       "<matplotlib.figure.Figure at 0x7f08380b9630>"
      ]
     },
     "metadata": {},
     "output_type": "display_data"
    }
   ],
   "source": [
    "plt.hist(score_pred)"
   ]
  },
  {
   "cell_type": "code",
   "execution_count": 41,
   "metadata": {},
   "outputs": [
    {
     "data": {
      "text/plain": [
       "(array([  8.,  52., 147., 129.,  86., 121., 272., 269.,  77.,  10.]),\n",
       " array([-0.938 , -0.7467, -0.5554, -0.3641, -0.1728,  0.0185,  0.2098,\n",
       "         0.4011,  0.5924,  0.7837,  0.975 ]),\n",
       " <a list of 10 Patch objects>)"
      ]
     },
     "execution_count": 41,
     "metadata": {},
     "output_type": "execute_result"
    },
    {
     "data": {
      "image/png": "[encoded data removed]",
      "text/plain": [
       "<matplotlib.figure.Figure at 0x7f08384365f8>"
      ]
     },
     "metadata": {},
     "output_type": "display_data"
    }
   ],
   "source": [
    "plt.hist(score)"
   ]
  },
  {
   "cell_type": "code",
   "execution_count": 20,
   "metadata": {
    "collapsed": true
   },
   "outputs": [],
   "source": [
    "# with open('top20models/emb_key.json') as f:\n",
    "#     top_models = json.load(f)"
   ]
  },
  {
   "cell_type": "code",
   "execution_count": 21,
   "metadata": {
    "collapsed": true
   },
   "outputs": [],
   "source": [
    "# def get_prediction_of_top_n_model(n):\n",
    "#     pred_n = []\n",
    "#     for x in range(1,n+1):\n",
    "#         print('predicting for model rank',x)\n",
    "#         model_name = top_models[str(x)]['key']\n",
    "#         model_embeddings = top_models[str(x)]['embeddings']\n",
    "#         input_array = [train_word2vec if x=='embedding_matrix_word2vec' else train_godin for x in model_embeddings]\n",
    "#         model = load_model('top20models/'+str(model_name)+'.h5')\n",
    "#         pred_n.append(model.predict(input_array))\n",
    "#         del model\n",
    "#     return pred_n"
   ]
  },
  {
   "cell_type": "code",
   "execution_count": 35,
   "metadata": {
    "collapsed": true
   },
   "outputs": [],
   "source": [
    "# def get_ensemble_pred(pred_n):\n",
    "#     pred = []\n",
    "#     n_of_pred = len(pred_n)\n",
    "#     n_of_sampels = len(pred_n[0])\n",
    "#     for x in range(n_of_sampels):\n",
    "#         sum_0 = 0.0\n",
    "#         sum_1 = 0.0\n",
    "#         for v in pred_n:\n",
    "#             sum_0+=v[x][0]\n",
    "#             sum_1+=v[x][1]\n",
    "#         pred.append(np.asarray([sum_0/n_of_pred,sum_1/n_of_pred],dtype=np.float32))\n",
    "#     return np.asarray(pred,dtype=np.float32)"
   ]
  },
  {
   "cell_type": "code",
   "execution_count": 36,
   "metadata": {
    "collapsed": true
   },
   "outputs": [],
   "source": []
  },
  {
   "cell_type": "code",
   "execution_count": 233,
   "metadata": {
    "collapsed": true
   },
   "outputs": [],
   "source": [
    "# pred_n = get_prediction_of_top_n_model(3)"
   ]
  },
  {
   "cell_type": "code",
   "execution_count": 234,
   "metadata": {
    "collapsed": true
   },
   "outputs": [],
   "source": [
    "# pred = get_ensemble_pred(pred_n)"
   ]
  },
  {
   "cell_type": "code",
   "execution_count": 235,
   "metadata": {
    "collapsed": true
   },
   "outputs": [],
   "source": [
    "# get_acc(pred,dataY)"
   ]
  },
  {
   "cell_type": "code",
   "execution_count": 37,
   "metadata": {
    "collapsed": true
   },
   "outputs": [],
   "source": [
    "# no_of_top_models = []\n",
    "# acc_score = []\n",
    "# n_of_top_model_to_use = 20\n",
    "# pred_n = get_prediction_of_top_n_model(n_of_top_model_to_use)\n",
    "# print(\"now doing ensemble\")\n",
    "# for i in range(1,n_of_top_model_to_use+1):\n",
    "#     no_of_top_models.append(i)\n",
    "#     pred = get_ensemble_pred(pred_n[:i])\n",
    "#     acc_score.append(get_acc(pred,dataY))"
   ]
  },
  {
   "cell_type": "code",
   "execution_count": 38,
   "metadata": {
    "collapsed": true
   },
   "outputs": [],
   "source": [
    "# no_of_top_models"
   ]
  },
  {
   "cell_type": "code",
   "execution_count": 39,
   "metadata": {
    "collapsed": true
   },
   "outputs": [],
   "source": [
    "# acc_score"
   ]
  },
  {
   "cell_type": "code",
   "execution_count": 40,
   "metadata": {
    "collapsed": true
   },
   "outputs": [],
   "source": [
    "# plt.plot(no_of_top_models, acc_score)\n",
    "# plt.xlabel('Number of models in ensemble')\n",
    "# plt.ylabel('accuracy')"
   ]
  },
  {
   "cell_type": "code",
   "execution_count": 133,
   "metadata": {
    "collapsed": true
   },
   "outputs": [],
   "source": [
    "# model_name = top_models[str(1)]['key']\n",
    "# model_name"
   ]
  },
  {
   "cell_type": "code",
   "execution_count": 134,
   "metadata": {
    "collapsed": true
   },
   "outputs": [],
   "source": [
    "# model_embeddings = top_models[str(1)]['embeddings']\n",
    "# model_embeddings"
   ]
  },
  {
   "cell_type": "code",
   "execution_count": 135,
   "metadata": {
    "collapsed": true
   },
   "outputs": [],
   "source": [
    "# input_array = [train_word2vec if x=='embedding_matrix_word2vec' else train_godin for x in model_embeddings]"
   ]
  },
  {
   "cell_type": "code",
   "execution_count": 136,
   "metadata": {
    "collapsed": true
   },
   "outputs": [],
   "source": [
    "# model = load_model('top20models/'+str(model_name)+'.h5')"
   ]
  },
  {
   "cell_type": "code",
   "execution_count": 137,
   "metadata": {
    "collapsed": true
   },
   "outputs": [],
   "source": [
    "# pred = model.predict(input_array)"
   ]
  },
  {
   "cell_type": "code",
   "execution_count": 138,
   "metadata": {
    "collapsed": true
   },
   "outputs": [],
   "source": []
  },
  {
   "cell_type": "code",
   "execution_count": 139,
   "metadata": {
    "collapsed": true
   },
   "outputs": [],
   "source": [
    "# get_acc(pred,dataY)"
   ]
  }
 ],
 "metadata": {
  "kernelspec": {
   "display_name": "Python 3",
   "language": "python",
   "name": "python3"
  },
  "language_info": {
   "codemirror_mode": {
    "name": "ipython",
    "version": 3
   },
   "file_extension": ".py",
   "mimetype": "text/x-python",
   "name": "python",
   "nbconvert_exporter": "python",
   "pygments_lexer": "ipython3",
   "version": "3.6.3"
  }
 },
 "nbformat": 4,
 "nbformat_minor": 2
}
