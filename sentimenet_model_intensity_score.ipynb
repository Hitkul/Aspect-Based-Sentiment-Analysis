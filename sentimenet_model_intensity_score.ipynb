{
 "cells": [
  {
   "cell_type": "code",
   "execution_count": 401,
   "metadata": {},
   "outputs": [],
   "source": [
    "#multi channel CNN for sentiment analysis\n",
    "from nltk.corpus import stopwords\n",
    "from string import punctuation\n",
    "import pandas as pd\n",
    "import json\n",
    "import numpy as np\n",
    "import re\n",
    "import csv\n",
    "import codecs\n",
    "import word2vecReader as godin_embedding\n",
    "import pickle\n",
    "from random import shuffle\n",
    "from keras.preprocessing.text import Tokenizer\n",
    "from keras.preprocessing.sequence import pad_sequences\n",
    "from keras.utils.vis_utils import plot_model\n",
    "from keras.utils import to_categorical\n",
    "from keras.models import Model\n",
    "from keras.layers import Input\n",
    "from keras.layers import Dense\n",
    "from keras.layers import Flatten\n",
    "from keras.layers import Dropout\n",
    "from keras.layers import Embedding\n",
    "from keras.layers.convolutional import Conv1D\n",
    "from keras.layers.convolutional import MaxPooling1D\n",
    "from keras.optimizers import Adam\n",
    "from keras.layers.merge import concatenate\n",
    "import keras.backend as K\n",
    "import matplotlib.pyplot as plt\n",
    "%matplotlib inline\n",
    "plt.rcParams[\"figure.figsize\"] = [5,5]\n",
    "plt.style.use('seaborn-notebook')\n",
    "from scipy.interpolate import interp1d\n",
    "from sklearn.metrics import mean_squared_error,r2_score\n",
    "from math import sqrt\n",
    "from gensim.models import KeyedVectors\n",
    "import skopt\n",
    "from skopt import gp_minimize, forest_minimize\n",
    "from skopt.space import Real, Categorical, Integer\n",
    "from skopt.utils import use_named_args\n"
   ]
  },
  {
   "cell_type": "code",
   "execution_count": 402,
   "metadata": {
    "collapsed": true
   },
   "outputs": [],
   "source": [
    "#loading data\n",
    "def load_data_from_file(filename):\n",
    "    print(\"loading file = \",filename)\n",
    "    with open(filename,'r') as f:\n",
    "        foo = json.load(f)\n",
    "        \n",
    "    sentence = []\n",
    "    score = []\n",
    "    for key in foo.keys():\n",
    "        for info in foo[key]['info']:\n",
    "#             print(eval(info['snippets'])[0])\n",
    "            sentence.append(eval(info['snippets'])[0])\n",
    "            score.append(float(info['sentiment_score']))\n",
    "#         sentence_id.append(key)\n",
    "#         sentence.append(foo[key]['sentence'])\n",
    "#         score.append(float(foo[key]['info'][0]['sentiment_score']))\n",
    "    return sentence,score"
   ]
  },
  {
   "cell_type": "code",
   "execution_count": 403,
   "metadata": {},
   "outputs": [
    {
     "name": "stdout",
     "output_type": "stream",
     "text": [
      "loading file =  dataset/master_train.json\n",
      "loading file =  dataset/master_test.json\n"
     ]
    }
   ],
   "source": [
    "trainX,trainY = load_data_from_file('dataset/master_train.json')\n",
    "testX,testY = load_data_from_file('dataset/master_test.json')"
   ]
  },
  {
   "cell_type": "code",
   "execution_count": 404,
   "metadata": {},
   "outputs": [
    {
     "data": {
      "text/plain": [
       "(1060, 1060)"
      ]
     },
     "execution_count": 404,
     "metadata": {},
     "output_type": "execute_result"
    }
   ],
   "source": [
    "len(trainX),len(trainY)"
   ]
  },
  {
   "cell_type": "code",
   "execution_count": 405,
   "metadata": {},
   "outputs": [
    {
     "data": {
      "text/plain": [
       "(111, 111)"
      ]
     },
     "execution_count": 405,
     "metadata": {},
     "output_type": "execute_result"
    }
   ],
   "source": [
    "len(testX),len(testY)"
   ]
  },
  {
   "cell_type": "code",
   "execution_count": 406,
   "metadata": {
    "collapsed": true
   },
   "outputs": [],
   "source": [
    "def rescale(series):\n",
    "    m = interp1d([-1,1],[0,1])\n",
    "    return [float(m(x)) for x in series]"
   ]
  },
  {
   "cell_type": "code",
   "execution_count": 407,
   "metadata": {},
   "outputs": [],
   "source": [
    "trainY = rescale(trainY)\n",
    "testY = rescale(testY)"
   ]
  },
  {
   "cell_type": "code",
   "execution_count": null,
   "metadata": {},
   "outputs": [],
   "source": []
  },
  {
   "cell_type": "code",
   "execution_count": 408,
   "metadata": {
    "collapsed": true
   },
   "outputs": [],
   "source": [
    "def remove_punctuation(s):\n",
    "    list_punctuation = list(punctuation.replace('$',''))\n",
    "    for i in list_punctuation:\n",
    "        s = s.replace(i,'')\n",
    "    return s"
   ]
  },
  {
   "cell_type": "code",
   "execution_count": 409,
   "metadata": {
    "collapsed": true
   },
   "outputs": [],
   "source": [
    "def clean_sentence(sentence):\n",
    "    #remove multiple repeat non num-aplha char !!!!!!!!!-->!\n",
    "    sentence = re.sub(r'(\\W)\\1{2,}', r'\\1', sentence) \n",
    "    #removes alpha char repeating more than twice aaaa->aa\n",
    "    sentence = re.sub(r'(\\w)\\1{2,}', r'\\1\\1', sentence)\n",
    "    #removes links\n",
    "    sentence = re.sub(r'(?P<url>https?://[^\\s]+)', r'', sentence)\n",
    "    # remove @usernames\n",
    "    sentence = re.sub(r\"\\@(\\w+)\", \"\", sentence)\n",
    "    #removing stock names to see if it helps\n",
    "#     sentence = re.sub(r\"(?:\\$|https?\\://)\\S+\", \"\", sentence)\n",
    "    #remove # from #tags\n",
    "    sentence = sentence.replace('#','')\n",
    "    # split into tokens by white space\n",
    "    tokens = sentence.split()\n",
    "    # remove punctuation from each token\n",
    "    tokens = [remove_punctuation(w) for w in tokens]\n",
    "#     remove remaining tokens that are not alphabetic\n",
    "#     tokens = [word for word in tokens if word.isalpha()]\n",
    "#no removing non alpha words to keep stock names($ZSL)\n",
    "    # filter out stop words\n",
    "    stop_words = set(stopwords.words('english'))\n",
    "    tokens = [w for w in tokens if not w in stop_words]\n",
    "    # filter out short tokens\n",
    "    tokens = [word for word in tokens if len(word) > 1]\n",
    "    tokens = ' '.join(tokens)\n",
    "    return tokens"
   ]
  },
  {
   "cell_type": "code",
   "execution_count": 410,
   "metadata": {},
   "outputs": [
    {
     "name": "stdout",
     "output_type": "stream",
     "text": [
      "cleaning train set\n",
      "cleaning test set\n"
     ]
    }
   ],
   "source": [
    "# extract sentences out of df and cleaning it\n",
    "print('cleaning train set')\n",
    "trainX = [clean_sentence(x) for x in trainX]\n",
    "print('cleaning test set')\n",
    "testX = [clean_sentence(x) for x in testX]\n",
    "# sentences"
   ]
  },
  {
   "cell_type": "code",
   "execution_count": 411,
   "metadata": {},
   "outputs": [
    {
     "name": "stdout",
     "output_type": "stream",
     "text": [
      "1060 1060\n",
      "111 111\n"
     ]
    }
   ],
   "source": [
    "print(len(trainX),len(trainY))\n",
    "print(len(testX),len(testY))"
   ]
  },
  {
   "cell_type": "code",
   "execution_count": 412,
   "metadata": {
    "collapsed": true
   },
   "outputs": [],
   "source": [
    "trainY = np.asarray(trainY)\n",
    "testY = np.asarray(testY)"
   ]
  },
  {
   "cell_type": "code",
   "execution_count": 413,
   "metadata": {
    "collapsed": true
   },
   "outputs": [],
   "source": [
    "lengths = [len(s.split()) for s in trainX]\n",
    "max_length = max(lengths)"
   ]
  },
  {
   "cell_type": "code",
   "execution_count": 414,
   "metadata": {},
   "outputs": [
    {
     "data": {
      "text/plain": [
       "(array([0.11792453, 0.15902965, 0.26347709, 0.07816712, 0.0458221 ,\n",
       "        0.04312668, 0.00269542, 0.00336927, 0.        , 0.00067385]),\n",
       " array([ 1. ,  2.4,  3.8,  5.2,  6.6,  8. ,  9.4, 10.8, 12.2, 13.6, 15. ]),\n",
       " <a list of 10 Patch objects>)"
      ]
     },
     "execution_count": 414,
     "metadata": {},
     "output_type": "execute_result"
    },
    {
     "data": {
      "image/png": "[encoded data removed]",
      "text/plain": [
       "<matplotlib.figure.Figure at 0x7ff7b41e2f60>"
      ]
     },
     "metadata": {},
     "output_type": "display_data"
    }
   ],
   "source": [
    "plt.subplots(figsize=(12,10))\n",
    "plt.hist(lengths, normed=True,edgecolor='black')"
   ]
  },
  {
   "cell_type": "code",
   "execution_count": 326,
   "metadata": {
    "collapsed": true
   },
   "outputs": [],
   "source": [
    "#loading Google Word2Vec\n",
    "def load_google_word2vec(file_name):\n",
    "    return KeyedVectors.load_word2vec_format(file_name, binary=True)"
   ]
  },
  {
   "cell_type": "code",
   "execution_count": 68,
   "metadata": {
    "collapsed": true
   },
   "outputs": [],
   "source": [
    "word2vec_model= load_google_word2vec('word_embeddings/GoogleNews-vectors-negative300.bin')"
   ]
  },
  {
   "cell_type": "code",
   "execution_count": 69,
   "metadata": {
    "collapsed": true
   },
   "outputs": [],
   "source": [
    "#loading godin word embedding\n",
    "def load_godin_word_embedding(path):\n",
    "    print(\"Loading the model, this can take some time...\")\n",
    "    return godin_embedding.Word2Vec.load_word2vec_format(path, binary=True)"
   ]
  },
  {
   "cell_type": "code",
   "execution_count": 70,
   "metadata": {},
   "outputs": [
    {
     "name": "stdout",
     "output_type": "stream",
     "text": [
      "Loading the model, this can take some time...\n"
     ]
    }
   ],
   "source": [
    "godin_model = load_godin_word_embedding(\"word_embeddings/word2vec_twitter_model.bin\")"
   ]
  },
  {
   "cell_type": "code",
   "execution_count": 387,
   "metadata": {
    "collapsed": true
   },
   "outputs": [],
   "source": [
    "def get_embedding_matrix(model,sentence,godin_flag = False):\n",
    "    tokens = sentence.split()[:max_length]\n",
    "    if godin_flag:\n",
    "        embedding_matrix = np.zeros((max_length,400))\n",
    "    else:\n",
    "        embedding_matrix = np.zeros((max_length,300))\n",
    "    for i,word in enumerate(tokens):\n",
    "        try:\n",
    "            embedding_vector = model[word]\n",
    "        except KeyError:\n",
    "            embedding_vector = None\n",
    "        if embedding_vector is not None:\n",
    "            embedding_matrix[i]=embedding_vector\n",
    "    return embedding_matrix"
   ]
  },
  {
   "cell_type": "code",
   "execution_count": 415,
   "metadata": {},
   "outputs": [
    {
     "name": "stdout",
     "output_type": "stream",
     "text": [
      "bulding word2vec matrix of train set\n",
      "bulding godin matrix of train set\n",
      "bulding word2vec matrix of dev set\n",
      "bulding godin matrix of dev set\n"
     ]
    }
   ],
   "source": [
    "print(\"bulding word2vec matrix of train set\")\n",
    "train_word2vec = np.asarray([get_embedding_matrix(word2vec_model,x) for x in trainX])\n",
    "print(\"bulding godin matrix of train set\")\n",
    "train_godin = np.asarray([get_embedding_matrix(godin_model,x,godin_flag=True) for x in trainX])\n",
    "print(\"bulding word2vec matrix of dev set\")\n",
    "test_word2vec = np.asarray([get_embedding_matrix(word2vec_model,x) for x in testX])\n",
    "print(\"bulding godin matrix of dev set\")\n",
    "test_godin = np.asarray([get_embedding_matrix(godin_model,x,godin_flag=True) for x in testX])"
   ]
  },
  {
   "cell_type": "code",
   "execution_count": 416,
   "metadata": {
    "collapsed": true
   },
   "outputs": [],
   "source": [
    "def sk_mse(y_true,y_pred):\n",
    "     return K.mean(K.square(y_pred - y_true), axis=-1)"
   ]
  },
  {
   "cell_type": "code",
   "execution_count": 417,
   "metadata": {
    "collapsed": true
   },
   "outputs": [],
   "source": [
    "def define_model(length,n_dense,dropout,learning_rate,n_filters,filter_size_c1,filter_size_c2,filter_size_c3,em_c1,em_c2,em_c3):\n",
    "    # channel 1\n",
    "    if em_c1 == 'embedding_matrix_word2vec':\n",
    "        inputs1 = Input(shape=(length,300))\n",
    "    else:\n",
    "        inputs1 = Input(shape=(length,400))\n",
    "#     if em_c1 == 'free':\n",
    "#         embedding1 = Embedding(vocab_size, free_em_dim)(inputs1)\n",
    "#     else:\n",
    "#         embedding1 = Embedding(vocab_size, len(eval(em_c1)[0]), weights = [eval(em_c1)],input_length=length,trainable = em_trainable_flag)(inputs1)\n",
    "\n",
    "    conv1 = Conv1D(filters=n_filters, kernel_size=filter_size_c1, activation='relu')(inputs1)\n",
    "    drop1 = Dropout(dropout)(conv1)\n",
    "    pool1 = MaxPooling1D(pool_size=2)(drop1)\n",
    "    flat1 = Flatten()(pool1)\n",
    "    # channel 2\n",
    "    if em_c2 == 'embedding_matrix_word2vec':\n",
    "        inputs2 = Input(shape=(length,300))\n",
    "    else:\n",
    "        inputs2 = Input(shape=(length,400))\n",
    "#     embedding2 = Embedding(vocab_size, 400, weights = [embedding_matrix_godin],input_length=length,trainable = em_trainable_flag)(inputs2)\n",
    "#     if em_c2 == 'free':\n",
    "#         embedding2 = Embedding(vocab_size, free_em_dim)(inputs2)\n",
    "#     else:\n",
    "#         embedding2 = Embedding(vocab_size, len(eval(em_c2)[0]), weights = [eval(em_c2)],input_length=length,trainable = em_trainable_flag)(inputs2)\n",
    "    conv2 = Conv1D(filters=n_filters, kernel_size=filter_size_c2, activation='relu')(inputs2)\n",
    "    drop2 = Dropout(dropout)(conv2)\n",
    "    pool2 = MaxPooling1D(pool_size=2)(drop2)\n",
    "    flat2 = Flatten()(pool2)\n",
    "    # channel 3\n",
    "    if em_c1 == 'embedding_matrix_word2vec':\n",
    "        inputs3 = Input(shape=(length,300))\n",
    "    else:\n",
    "        inputs3 = Input(shape=(length,400))\n",
    "#     embedding3 = Embedding(vocab_size, 400)(inputs3)\n",
    "#     if em_c3 == 'free':\n",
    "#         embedding3 = Embedding(vocab_size, free_em_dim)(inputs3)\n",
    "#     else:\n",
    "#         embedding3 = Embedding(vocab_size, len(eval(em_c3)[0]), weights = [eval(em_c3)],input_length=length,trainable = em_trainable_flag)(inputs3)\n",
    "    conv3 = Conv1D(filters=n_filters, kernel_size=filter_size_c3, activation='relu')(inputs3)\n",
    "    drop3 = Dropout(dropout)(conv3)\n",
    "    pool3 = MaxPooling1D(pool_size=2)(drop3)\n",
    "    flat3 = Flatten()(pool3)\n",
    "    # merge\n",
    "    merged = concatenate([flat1, flat2, flat3])\n",
    "    # interpretation\n",
    "    dense1 = Dense(n_dense, activation='relu')(merged)\n",
    "    outputs = Dense(1, activation='sigmoid')(dense1)\n",
    "    model = Model(inputs=[inputs1, inputs2, inputs3], outputs=outputs)\n",
    "    # compile\n",
    "    optimizer = Adam(lr=learning_rate)\n",
    "    model.compile(loss='binary_crossentropy', optimizer=optimizer, metrics=[sk_mse])\n",
    "    # summarize\n",
    "    print(model.summary())\n",
    "#     plot_model(model, show_shapes=True, to_file='multichannel.png')\n",
    "    return model"
   ]
  },
  {
   "cell_type": "code",
   "execution_count": 418,
   "metadata": {},
   "outputs": [
    {
     "name": "stdout",
     "output_type": "stream",
     "text": [
      "__________________________________________________________________________________________________\n",
      "Layer (type)                    Output Shape         Param #     Connected to                     \n",
      "==================================================================================================\n",
      "input_37 (InputLayer)           (None, 15, 400)      0                                            \n",
      "__________________________________________________________________________________________________\n",
      "input_38 (InputLayer)           (None, 15, 300)      0                                            \n",
      "__________________________________________________________________________________________________\n",
      "input_39 (InputLayer)           (None, 15, 400)      0                                            \n",
      "__________________________________________________________________________________________________\n",
      "conv1d_37 (Conv1D)              (None, 15, 300)      120300      input_37[0][0]                   \n",
      "__________________________________________________________________________________________________\n",
      "conv1d_38 (Conv1D)              (None, 15, 300)      90300       input_38[0][0]                   \n",
      "__________________________________________________________________________________________________\n",
      "conv1d_39 (Conv1D)              (None, 15, 300)      120300      input_39[0][0]                   \n",
      "__________________________________________________________________________________________________\n",
      "dropout_37 (Dropout)            (None, 15, 300)      0           conv1d_37[0][0]                  \n",
      "__________________________________________________________________________________________________\n",
      "dropout_38 (Dropout)            (None, 15, 300)      0           conv1d_38[0][0]                  \n",
      "__________________________________________________________________________________________________\n",
      "dropout_39 (Dropout)            (None, 15, 300)      0           conv1d_39[0][0]                  \n",
      "__________________________________________________________________________________________________\n",
      "max_pooling1d_37 (MaxPooling1D) (None, 7, 300)       0           dropout_37[0][0]                 \n",
      "__________________________________________________________________________________________________\n",
      "max_pooling1d_38 (MaxPooling1D) (None, 7, 300)       0           dropout_38[0][0]                 \n",
      "__________________________________________________________________________________________________\n",
      "max_pooling1d_39 (MaxPooling1D) (None, 7, 300)       0           dropout_39[0][0]                 \n",
      "__________________________________________________________________________________________________\n",
      "flatten_37 (Flatten)            (None, 2100)         0           max_pooling1d_37[0][0]           \n",
      "__________________________________________________________________________________________________\n",
      "flatten_38 (Flatten)            (None, 2100)         0           max_pooling1d_38[0][0]           \n",
      "__________________________________________________________________________________________________\n",
      "flatten_39 (Flatten)            (None, 2100)         0           max_pooling1d_39[0][0]           \n",
      "__________________________________________________________________________________________________\n",
      "concatenate_13 (Concatenate)    (None, 6300)         0           flatten_37[0][0]                 \n",
      "                                                                 flatten_38[0][0]                 \n",
      "                                                                 flatten_39[0][0]                 \n",
      "__________________________________________________________________________________________________\n",
      "dense_25 (Dense)                (None, 400)          2520400     concatenate_13[0][0]             \n",
      "__________________________________________________________________________________________________\n",
      "dense_26 (Dense)                (None, 1)            401         dense_25[0][0]                   \n",
      "==================================================================================================\n",
      "Total params: 2,851,701\n",
      "Trainable params: 2,851,701\n",
      "Non-trainable params: 0\n",
      "__________________________________________________________________________________________________\n",
      "None\n"
     ]
    }
   ],
   "source": [
    "model = define_model(length = max_length,\n",
    "                         n_dense=400,\n",
    "                         dropout=0.9,\n",
    "                         learning_rate=0.0006973763486468701,\n",
    "                         n_filters=300,\n",
    "                         filter_size_c1=1,\n",
    "                         filter_size_c2=1,\n",
    "                         filter_size_c3=1,\n",
    "                         em_c1='embedding_matrix_godin',\n",
    "                         em_c2='embedding_matrix_word2vec',\n",
    "                         em_c3='embedding_matrix_godin')"
   ]
  },
  {
   "cell_type": "code",
   "execution_count": 419,
   "metadata": {
    "collapsed": true
   },
   "outputs": [],
   "source": [
    "input_array_train = [train_godin,train_word2vec,train_godin]\n",
    "input_array_test = [test_godin,test_word2vec,test_godin]"
   ]
  },
  {
   "cell_type": "code",
   "execution_count": 420,
   "metadata": {},
   "outputs": [
    {
     "name": "stdout",
     "output_type": "stream",
     "text": [
      "Epoch 1/30\n",
      "1060/1060 [==============================] - 6s 6ms/step - loss: 0.6975 - sk_mse: 0.0447\n",
      "Epoch 2/30\n",
      "1060/1060 [==============================] - 6s 5ms/step - loss: 0.6804 - sk_mse: 0.0366\n",
      "Epoch 3/30\n",
      "1060/1060 [==============================] - 6s 5ms/step - loss: 0.6763 - sk_mse: 0.0346\n",
      "Epoch 4/30\n",
      "1060/1060 [==============================] - 6s 5ms/step - loss: 0.6697 - sk_mse: 0.0314\n",
      "Epoch 5/30\n",
      "1060/1060 [==============================] - 6s 5ms/step - loss: 0.6655 - sk_mse: 0.0293\n",
      "Epoch 6/30\n",
      "1060/1060 [==============================] - 6s 6ms/step - loss: 0.6600 - sk_mse: 0.0266\n",
      "Epoch 7/30\n",
      "1060/1060 [==============================] - 6s 6ms/step - loss: 0.6562 - sk_mse: 0.0249\n",
      "Epoch 8/30\n",
      "1060/1060 [==============================] - 6s 5ms/step - loss: 0.6535 - sk_mse: 0.0236\n",
      "Epoch 9/30\n",
      "1060/1060 [==============================] - 6s 5ms/step - loss: 0.6524 - sk_mse: 0.0231\n",
      "Epoch 10/30\n",
      "1060/1060 [==============================] - 6s 5ms/step - loss: 0.6467 - sk_mse: 0.0203\n",
      "Epoch 11/30\n",
      "1060/1060 [==============================] - 6s 5ms/step - loss: 0.6489 - sk_mse: 0.0214\n",
      "Epoch 12/30\n",
      "1060/1060 [==============================] - 6s 5ms/step - loss: 0.6444 - sk_mse: 0.0191\n",
      "Epoch 13/30\n",
      "1060/1060 [==============================] - 6s 5ms/step - loss: 0.6411 - sk_mse: 0.0177\n",
      "Epoch 14/30\n",
      "1060/1060 [==============================] - 6s 5ms/step - loss: 0.6378 - sk_mse: 0.0161\n",
      "Epoch 15/30\n",
      "1060/1060 [==============================] - 6s 6ms/step - loss: 0.6374 - sk_mse: 0.0158\n",
      "Epoch 16/30\n",
      "1060/1060 [==============================] - 6s 5ms/step - loss: 0.6382 - sk_mse: 0.0161\n",
      "Epoch 17/30\n",
      "1060/1060 [==============================] - 7s 6ms/step - loss: 0.6360 - sk_mse: 0.0153\n",
      "Epoch 18/30\n",
      "1060/1060 [==============================] - 6s 6ms/step - loss: 0.6330 - sk_mse: 0.0139: 0s - loss: 0.6337 - sk\n",
      "Epoch 19/30\n",
      "1060/1060 [==============================] - 7s 6ms/step - loss: 0.6354 - sk_mse: 0.0149\n",
      "Epoch 20/30\n",
      "1060/1060 [==============================] - 6s 6ms/step - loss: 0.6330 - sk_mse: 0.0138\n",
      "Epoch 21/30\n",
      "1060/1060 [==============================] - 6s 6ms/step - loss: 0.6351 - sk_mse: 0.0148\n",
      "Epoch 22/30\n",
      "1060/1060 [==============================] - 6s 6ms/step - loss: 0.6335 - sk_mse: 0.0141\n",
      "Epoch 23/30\n",
      "1060/1060 [==============================] - 6s 6ms/step - loss: 0.6320 - sk_mse: 0.0135\n",
      "Epoch 24/30\n",
      "1060/1060 [==============================] - 6s 6ms/step - loss: 0.6298 - sk_mse: 0.0125\n",
      "Epoch 25/30\n",
      "1060/1060 [==============================] - 6s 6ms/step - loss: 0.6305 - sk_mse: 0.0126\n",
      "Epoch 26/30\n",
      "1060/1060 [==============================] - 6s 6ms/step - loss: 0.6303 - sk_mse: 0.0127\n",
      "Epoch 27/30\n",
      "1060/1060 [==============================] - 6s 6ms/step - loss: 0.6293 - sk_mse: 0.0121\n",
      "Epoch 28/30\n",
      "1060/1060 [==============================] - 6s 6ms/step - loss: 0.6284 - sk_mse: 0.0116\n",
      "Epoch 29/30\n",
      "1060/1060 [==============================] - 6s 6ms/step - loss: 0.6270 - sk_mse: 0.0111\n",
      "Epoch 30/30\n",
      "1060/1060 [==============================] - 6s 6ms/step - loss: 0.6266 - sk_mse: 0.0109\n"
     ]
    }
   ],
   "source": [
    "history_object = model.fit(input_array_train, trainY,epochs=30, batch_size=8)"
   ]
  },
  {
   "cell_type": "code",
   "execution_count": 421,
   "metadata": {
    "collapsed": true
   },
   "outputs": [],
   "source": [
    "pred = model.predict(input_array_test)"
   ]
  },
  {
   "cell_type": "code",
   "execution_count": 422,
   "metadata": {},
   "outputs": [],
   "source": [
    "pred_val = [x[0] for x in pred]"
   ]
  },
  {
   "cell_type": "code",
   "execution_count": 423,
   "metadata": {
    "collapsed": true
   },
   "outputs": [],
   "source": [
    "def rescale(series):\n",
    "    m = interp1d([0,1],[-1,1])\n",
    "    return [float(m(x)) for x in series]"
   ]
  },
  {
   "cell_type": "code",
   "execution_count": 424,
   "metadata": {},
   "outputs": [],
   "source": [
    "pred_val = rescale(pred_val)\n",
    "testY = rescale(testY)"
   ]
  },
  {
   "cell_type": "code",
   "execution_count": 425,
   "metadata": {},
   "outputs": [
    {
     "data": {
      "text/plain": [
       "0.11227588418347824"
      ]
     },
     "execution_count": 425,
     "metadata": {},
     "output_type": "execute_result"
    }
   ],
   "source": [
    "mean_squared_error(testY,pred_val)"
   ]
  },
  {
   "cell_type": "code",
   "execution_count": 426,
   "metadata": {},
   "outputs": [
    {
     "data": {
      "text/plain": [
       "0.39424268140196006"
      ]
     },
     "execution_count": 426,
     "metadata": {},
     "output_type": "execute_result"
    }
   ],
   "source": [
    "r2_score(testY,pred_val)"
   ]
  },
  {
   "cell_type": "code",
   "execution_count": 427,
   "metadata": {},
   "outputs": [
    {
     "name": "stdout",
     "output_type": "stream",
     "text": [
      "-0.02573949098587036 -0.387\n",
      "0.34730541706085205 0.4610000000000001\n",
      "0.20255303382873535 -0.393\n",
      "0.14986634254455566 0.4710000000000001\n",
      "0.20602953433990479 -0.10499999999999998\n",
      "-0.15158385038375854 -0.367\n",
      "0.34289097785949707 0.46599999999999997\n",
      "0.21354997158050537 0.5609999999999999\n",
      "0.4268132448196411 0.5699999999999998\n",
      "-0.07982456684112549 -0.31899999999999995\n",
      "0.13962340354919434 0.29400000000000004\n",
      "-0.22112011909484863 -0.26\n",
      "0.09837019443511963 -0.42100000000000004\n",
      "0.29054856300354004 0.46399999999999997\n",
      "0.2177891731262207 0.3340000000000001\n",
      "0.04541194438934326 0.42399999999999993\n",
      "-0.01653158664703369 -0.43700000000000006\n",
      "0.32392120361328125 0.613\n",
      "-0.19413989782333374 -0.48\n",
      "0.07686436176300049 -0.562\n",
      "0.30306029319763184 0.41300000000000003\n",
      "0.008741617202758789 -0.385\n",
      "0.38202881813049316 0.28400000000000003\n",
      "0.25670337677001953 0.472\n",
      "-0.03943568468093872 0.5720000000000001\n",
      "0.43134140968322754 0.589\n",
      "0.4018690586090088 0.6480000000000001\n",
      "0.41896915435791016 0.44599999999999995\n",
      "-0.08158034086227417 -0.355\n",
      "-0.11425334215164185 -0.22099999999999997\n",
      "0.2559065818786621 0.44199999999999995\n",
      "0.14809882640838623 0.28800000000000003\n",
      "-0.07224196195602417 -0.53\n",
      "0.23911261558532715 0.4079999999999999\n",
      "0.22250354290008545 0.4889999999999999\n",
      "-0.12369990348815918 0.607\n",
      "-0.15092110633850098 -0.626\n",
      "0.09291207790374756 0.22199999999999998\n",
      "-0.07460516691207886 -0.366\n",
      "0.260628342628479 0.2250000000000001\n",
      "-0.15158385038375854 -0.30699999999999994\n",
      "-0.27269572019577026 -0.619\n",
      "0.31696462631225586 0.264\n",
      "0.25871968269348145 0.349\n",
      "0.3370678424835205 0.29699999999999993\n",
      "0.16023492813110352 0.613\n",
      "0.33999598026275635 0.47\n",
      "0.02159714698791504 0.5979999999999999\n",
      "0.2850223779678345 0.361\n",
      "-0.1676458716392517 -0.45999999999999996\n",
      "0.14289283752441406 0.20799999999999996\n",
      "0.25438499450683594 0.17199999999999993\n",
      "0.13048017024993896 0.31800000000000006\n",
      "-0.15158385038375854 -0.42399999999999993\n",
      "0.05802345275878906 0.44300000000000006\n",
      "-0.08506500720977783 -0.43599999999999994\n",
      "0.2281097173690796 0.47\n",
      "-0.14381515979766846 -0.574\n",
      "-0.12764877080917358 -0.2909999999999999\n",
      "0.3705143928527832 0.35199999999999987\n",
      "0.1990361213684082 0.32400000000000007\n",
      "-0.2627719044685364 -0.389\n",
      "0.31027472019195557 0.4969999999999999\n",
      "-0.11435079574584961 -0.43100000000000005\n",
      "0.140539288520813 0.476\n",
      "0.033129215240478516 -0.22899999999999998\n",
      "0.09027969837188721 0.516\n",
      "-0.0789262056350708 -0.554\n",
      "0.13206195831298828 -0.30899999999999994\n",
      "0.35294198989868164 0.49\n",
      "0.422607421875 0.476\n",
      "0.23208248615264893 -0.524\n",
      "0.0009940862655639648 -0.42999999999999994\n",
      "0.42086637020111084 0.558\n",
      "0.04945802688598633 0.43100000000000005\n",
      "-0.16785871982574463 -0.4099999999999999\n",
      "0.23821043968200684 0.367\n",
      "-0.3025597929954529 -0.4099999999999999\n",
      "-0.32484638690948486 -0.07000000000000006\n",
      "0.23892676830291748 0.5590000000000002\n",
      "0.17146635055541992 0.46199999999999997\n",
      "-0.14419704675674438 -0.32699999999999996\n",
      "-0.08117413520812988 -0.528\n",
      "0.1508502960205078 -0.611\n",
      "0.227569580078125 -0.06600000000000006\n",
      "-0.34672462940216064 -0.556\n",
      "0.40565741062164307 0.5209999999999999\n",
      "-0.10707986354827881 -0.29600000000000004\n",
      "0.4085710048675537 0.6099999999999999\n",
      "0.14789259433746338 0.0029999999999998916\n",
      "0.08711111545562744 0.28100000000000014\n",
      "-0.10251379013061523 0.3679999999999999\n",
      "0.15448248386383057 -0.551\n",
      "0.10173678398132324 0.32600000000000007\n",
      "0.2700779438018799 0.391\n",
      "0.18532907962799072 -0.383\n",
      "0.16310405731201172 -0.248\n",
      "0.4018690586090088 0.613\n",
      "-0.07612442970275879 0.10200000000000009\n",
      "-0.19914323091506958 -0.531\n",
      "0.2595796585083008 -0.44100000000000006\n",
      "0.27099835872650146 0.41900000000000004\n",
      "0.1780620813369751 -0.378\n",
      "0.062477946281433105 0.39400000000000013\n",
      "-0.13129186630249023 0.518\n",
      "0.2374030351638794 0.484\n",
      "0.3771258592605591 0.45599999999999996\n",
      "0.048221707344055176 -0.485\n",
      "0.24329698085784912 0.5289999999999999\n",
      "0.22048020362854004 0.5129999999999999\n",
      "0.004470229148864746 -0.39\n"
     ]
    }
   ],
   "source": [
    "for i,y in zip(pred_val,testY):\n",
    "    print(i,y)"
   ]
  },
  {
   "cell_type": "code",
   "execution_count": 428,
   "metadata": {},
   "outputs": [
    {
     "data": {
      "text/plain": [
       "(array([ 4.,  4., 13., 11.,  7., 11., 15., 23., 11., 12.]),\n",
       " array([-0.34672463, -0.26891803, -0.19111142, -0.11330482, -0.03549821,\n",
       "         0.04230839,  0.12011499,  0.1979216 ,  0.2757282 ,  0.35353481,\n",
       "         0.43134141]),\n",
       " <a list of 10 Patch objects>)"
      ]
     },
     "execution_count": 428,
     "metadata": {},
     "output_type": "execute_result"
    },
    {
     "data": {
      "image/png": "[encoded data removed]",
      "text/plain": [
       "<matplotlib.figure.Figure at 0x7ff78c645fd0>"
      ]
     },
     "metadata": {},
     "output_type": "display_data"
    }
   ],
   "source": [
    "plt.hist(pred_val)"
   ]
  },
  {
   "cell_type": "code",
   "execution_count": 429,
   "metadata": {},
   "outputs": [
    {
     "data": {
      "text/plain": [
       "(array([12., 19., 11.,  2.,  4.,  1.,  5., 15., 27., 15.]),\n",
       " array([-0.626 , -0.4986, -0.3712, -0.2438, -0.1164,  0.011 ,  0.1384,\n",
       "         0.2658,  0.3932,  0.5206,  0.648 ]),\n",
       " <a list of 10 Patch objects>)"
      ]
     },
     "execution_count": 429,
     "metadata": {},
     "output_type": "execute_result"
    },
    {
     "data": {
      "image/png": "[encoded data removed]",
      "text/plain": [
       "<matplotlib.figure.Figure at 0x7ff76414e5c0>"
      ]
     },
     "metadata": {},
     "output_type": "display_data"
    }
   ],
   "source": [
    "plt.hist(testY)"
   ]
  },
  {
   "cell_type": "code",
   "execution_count": null,
   "metadata": {
    "collapsed": true
   },
   "outputs": [],
   "source": []
  }
 ],
 "metadata": {
  "kernelspec": {
   "display_name": "Python 3",
   "language": "python",
   "name": "python3"
  },
  "language_info": {
   "codemirror_mode": {
    "name": "ipython",
    "version": 3
   },
   "file_extension": ".py",
   "mimetype": "text/x-python",
   "name": "python",
   "nbconvert_exporter": "python",
   "pygments_lexer": "ipython3",
   "version": "3.6.3"
  }
 },
 "nbformat": 4,
 "nbformat_minor": 2
}
